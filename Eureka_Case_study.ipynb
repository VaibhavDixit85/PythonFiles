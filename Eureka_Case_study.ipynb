{
 "cells": [
  {
   "cell_type": "markdown",
   "id": "6e254191",
   "metadata": {},
   "source": [
    "*******************************  MLSL2 GROUP ASSIGNMENT **********************************************************\n",
    "\n",
    "NAME : VAIBHAV DIXIT  "
   ]
  },
  {
   "cell_type": "code",
   "execution_count": 1,
   "id": "ea87c771",
   "metadata": {},
   "outputs": [],
   "source": [
    "import warnings\n",
    "warnings.filterwarnings('ignore')\n",
    "import pandas as pd"
   ]
  },
  {
   "cell_type": "code",
   "execution_count": 2,
   "id": "9bcd92b6",
   "metadata": {},
   "outputs": [],
   "source": [
    "import pandas as pd\n",
    "from sklearn.metrics import classification_report\n",
    "from sklearn.metrics import confusion_matrix \n",
    "from xgboost import XGBClassifier\n",
    "from sklearn.metrics import accuracy_score,recall_score,precision_score,f1_score\n",
    "from sklearn.model_selection import GridSearchCV\n",
    "from sklearn.model_selection import RandomizedSearchCV\n",
    "from sklearn.model_selection import RandomizedSearchCV\n",
    "from sklearn.ensemble import RandomForestClassifier\n",
    "from sklearn.linear_model import LogisticRegression\n",
    "from sklearn.tree import DecisionTreeClassifier"
   ]
  },
  {
   "cell_type": "code",
   "execution_count": 3,
   "id": "9dd01824",
   "metadata": {},
   "outputs": [],
   "source": [
    "eureka_data=pd.read_csv(\"D:/ISB_AMPBA/Term4/MLSL2/eureka_train.csv\")"
   ]
  },
  {
   "cell_type": "code",
   "execution_count": 4,
   "id": "67a59408",
   "metadata": {},
   "outputs": [
    {
     "data": {
      "text/html": [
       "<div>\n",
       "<style scoped>\n",
       "    .dataframe tbody tr th:only-of-type {\n",
       "        vertical-align: middle;\n",
       "    }\n",
       "\n",
       "    .dataframe tbody tr th {\n",
       "        vertical-align: top;\n",
       "    }\n",
       "\n",
       "    .dataframe thead th {\n",
       "        text-align: right;\n",
       "    }\n",
       "</style>\n",
       "<table border=\"1\" class=\"dataframe\">\n",
       "  <thead>\n",
       "    <tr style=\"text-align: right;\">\n",
       "      <th></th>\n",
       "      <th>index</th>\n",
       "      <th>DemoReqPg_CallClicks_evt_count</th>\n",
       "      <th>air_purifier_page_top</th>\n",
       "      <th>bookdemo_in_7days</th>\n",
       "      <th>bounces</th>\n",
       "      <th>checkout_page_top</th>\n",
       "      <th>contactus_top</th>\n",
       "      <th>country</th>\n",
       "      <th>customer_service_amc_login_top</th>\n",
       "      <th>customer_service_request_login_top</th>\n",
       "      <th>...</th>\n",
       "      <th>visited_demo_page</th>\n",
       "      <th>visited_offer_page</th>\n",
       "      <th>visited_security_solutions_page</th>\n",
       "      <th>visited_storelocator</th>\n",
       "      <th>visited_successbookdemo</th>\n",
       "      <th>visited_vacuum_cleaner_page</th>\n",
       "      <th>visited_water_purifier_page</th>\n",
       "      <th>water_purifier_page_top</th>\n",
       "      <th>callclick_in_7days</th>\n",
       "      <th>converted</th>\n",
       "    </tr>\n",
       "  </thead>\n",
       "  <tbody>\n",
       "    <tr>\n",
       "      <th>0</th>\n",
       "      <td>574305</td>\n",
       "      <td>0.0</td>\n",
       "      <td>0.0</td>\n",
       "      <td>0</td>\n",
       "      <td>0.0</td>\n",
       "      <td>0.0</td>\n",
       "      <td>0.0</td>\n",
       "      <td>d</td>\n",
       "      <td>0.0</td>\n",
       "      <td>0.0</td>\n",
       "      <td>...</td>\n",
       "      <td>1.0</td>\n",
       "      <td>0.0</td>\n",
       "      <td>0.0</td>\n",
       "      <td>0.0</td>\n",
       "      <td>0.0</td>\n",
       "      <td>0.0</td>\n",
       "      <td>0.0</td>\n",
       "      <td>0.0</td>\n",
       "      <td>0</td>\n",
       "      <td>0</td>\n",
       "    </tr>\n",
       "    <tr>\n",
       "      <th>1</th>\n",
       "      <td>283735</td>\n",
       "      <td>0.0</td>\n",
       "      <td>0.0</td>\n",
       "      <td>0</td>\n",
       "      <td>8.0</td>\n",
       "      <td>0.0</td>\n",
       "      <td>0.0</td>\n",
       "      <td>i</td>\n",
       "      <td>0.0</td>\n",
       "      <td>0.0</td>\n",
       "      <td>...</td>\n",
       "      <td>1.0</td>\n",
       "      <td>0.0</td>\n",
       "      <td>0.0</td>\n",
       "      <td>0.0</td>\n",
       "      <td>0.0</td>\n",
       "      <td>0.0</td>\n",
       "      <td>0.0</td>\n",
       "      <td>0.0</td>\n",
       "      <td>0</td>\n",
       "      <td>0</td>\n",
       "    </tr>\n",
       "    <tr>\n",
       "      <th>2</th>\n",
       "      <td>377029</td>\n",
       "      <td>0.0</td>\n",
       "      <td>0.0</td>\n",
       "      <td>0</td>\n",
       "      <td>0.0</td>\n",
       "      <td>0.0</td>\n",
       "      <td>0.0</td>\n",
       "      <td>d</td>\n",
       "      <td>0.0</td>\n",
       "      <td>0.0</td>\n",
       "      <td>...</td>\n",
       "      <td>1.0</td>\n",
       "      <td>0.0</td>\n",
       "      <td>0.0</td>\n",
       "      <td>0.0</td>\n",
       "      <td>0.0</td>\n",
       "      <td>0.0</td>\n",
       "      <td>0.0</td>\n",
       "      <td>0.0</td>\n",
       "      <td>0</td>\n",
       "      <td>0</td>\n",
       "    </tr>\n",
       "    <tr>\n",
       "      <th>3</th>\n",
       "      <td>75833</td>\n",
       "      <td>1.0</td>\n",
       "      <td>0.0</td>\n",
       "      <td>0</td>\n",
       "      <td>0.0</td>\n",
       "      <td>0.0</td>\n",
       "      <td>532.0</td>\n",
       "      <td>d</td>\n",
       "      <td>0.0</td>\n",
       "      <td>0.0</td>\n",
       "      <td>...</td>\n",
       "      <td>1.0</td>\n",
       "      <td>0.0</td>\n",
       "      <td>0.0</td>\n",
       "      <td>0.0</td>\n",
       "      <td>0.0</td>\n",
       "      <td>0.0</td>\n",
       "      <td>0.0</td>\n",
       "      <td>0.0</td>\n",
       "      <td>0</td>\n",
       "      <td>0</td>\n",
       "    </tr>\n",
       "    <tr>\n",
       "      <th>4</th>\n",
       "      <td>703487</td>\n",
       "      <td>0.0</td>\n",
       "      <td>0.0</td>\n",
       "      <td>0</td>\n",
       "      <td>1.0</td>\n",
       "      <td>0.0</td>\n",
       "      <td>0.0</td>\n",
       "      <td>d</td>\n",
       "      <td>0.0</td>\n",
       "      <td>0.0</td>\n",
       "      <td>...</td>\n",
       "      <td>1.0</td>\n",
       "      <td>0.0</td>\n",
       "      <td>0.0</td>\n",
       "      <td>0.0</td>\n",
       "      <td>0.0</td>\n",
       "      <td>0.0</td>\n",
       "      <td>0.0</td>\n",
       "      <td>0.0</td>\n",
       "      <td>0</td>\n",
       "      <td>0</td>\n",
       "    </tr>\n",
       "  </tbody>\n",
       "</table>\n",
       "<p>5 rows × 48 columns</p>\n",
       "</div>"
      ],
      "text/plain": [
       "    index  DemoReqPg_CallClicks_evt_count  air_purifier_page_top  \\\n",
       "0  574305                             0.0                    0.0   \n",
       "1  283735                             0.0                    0.0   \n",
       "2  377029                             0.0                    0.0   \n",
       "3   75833                             1.0                    0.0   \n",
       "4  703487                             0.0                    0.0   \n",
       "\n",
       "   bookdemo_in_7days  bounces  checkout_page_top  contactus_top country  \\\n",
       "0                  0      0.0                0.0            0.0       d   \n",
       "1                  0      8.0                0.0            0.0       i   \n",
       "2                  0      0.0                0.0            0.0       d   \n",
       "3                  0      0.0                0.0          532.0       d   \n",
       "4                  0      1.0                0.0            0.0       d   \n",
       "\n",
       "   customer_service_amc_login_top  customer_service_request_login_top  ...  \\\n",
       "0                             0.0                                 0.0  ...   \n",
       "1                             0.0                                 0.0  ...   \n",
       "2                             0.0                                 0.0  ...   \n",
       "3                             0.0                                 0.0  ...   \n",
       "4                             0.0                                 0.0  ...   \n",
       "\n",
       "   visited_demo_page visited_offer_page  visited_security_solutions_page  \\\n",
       "0                1.0                0.0                              0.0   \n",
       "1                1.0                0.0                              0.0   \n",
       "2                1.0                0.0                              0.0   \n",
       "3                1.0                0.0                              0.0   \n",
       "4                1.0                0.0                              0.0   \n",
       "\n",
       "   visited_storelocator  visited_successbookdemo  visited_vacuum_cleaner_page  \\\n",
       "0                   0.0                      0.0                          0.0   \n",
       "1                   0.0                      0.0                          0.0   \n",
       "2                   0.0                      0.0                          0.0   \n",
       "3                   0.0                      0.0                          0.0   \n",
       "4                   0.0                      0.0                          0.0   \n",
       "\n",
       "   visited_water_purifier_page  water_purifier_page_top  callclick_in_7days  \\\n",
       "0                          0.0                      0.0                   0   \n",
       "1                          0.0                      0.0                   0   \n",
       "2                          0.0                      0.0                   0   \n",
       "3                          0.0                      0.0                   0   \n",
       "4                          0.0                      0.0                   0   \n",
       "\n",
       "   converted  \n",
       "0          0  \n",
       "1          0  \n",
       "2          0  \n",
       "3          0  \n",
       "4          0  \n",
       "\n",
       "[5 rows x 48 columns]"
      ]
     },
     "execution_count": 4,
     "metadata": {},
     "output_type": "execute_result"
    }
   ],
   "source": [
    "eureka_data.head()"
   ]
  },
  {
   "cell_type": "markdown",
   "id": "a0dac3c4",
   "metadata": {},
   "source": [
    "Find the following insights (Draw an appropriate plot, whenever necessary).\n",
    "\n",
    "\n",
    "4.\tKashif has the following claims from this business understanding. How do you test his claims and make necessary conclusions?\n",
    "a.\tCustomers using mobile, desktop, and tablet are equally distributed.\n",
    "b.\tCustomers who convert spend more time on the website.\n"
   ]
  },
  {
   "cell_type": "markdown",
   "id": "dde7d6e8",
   "metadata": {},
   "source": [
    "1.\tWhat is the difference in percentage of conversion by domestic compared to international clients?"
   ]
  },
  {
   "cell_type": "code",
   "execution_count": 5,
   "id": "a59b22f0",
   "metadata": {},
   "outputs": [
    {
     "data": {
      "text/plain": [
       "1    95.955882\n",
       "Name: converted, dtype: float64"
      ]
     },
     "execution_count": 5,
     "metadata": {},
     "output_type": "execute_result"
    }
   ],
   "source": [
    "d_conv_cnt = eureka_data[(eureka_data.country == 'd') & (eureka_data.converted == 1)].converted.value_counts()\n",
    "i_conv_cnt = eureka_data[(eureka_data.country == 'i') & (eureka_data.converted == 1)].converted.value_counts()\n",
    "\n",
    "conv_diff = ((d_conv_cnt-i_conv_cnt)/d_conv_cnt) *100\n",
    "conv_diff"
   ]
  },
  {
   "cell_type": "markdown",
   "id": "b46babd1",
   "metadata": {},
   "source": [
    "Percentage difference by domestic compared to International clients is 95.9%"
   ]
  },
  {
   "cell_type": "markdown",
   "id": "15621e63",
   "metadata": {},
   "source": [
    "2.\tWhat are the top 10 source mediums of users visiting the site?\n",
    "Below are the top 10 source mediums of users visiting the site"
   ]
  },
  {
   "cell_type": "code",
   "execution_count": 6,
   "id": "8676e10f",
   "metadata": {},
   "outputs": [
    {
     "data": {
      "text/plain": [
       "google / cpc                      30428\n",
       "google / organic                   8276\n",
       "(direct) / (none)                  2734\n",
       "facebook / social                   329\n",
       "bing / organic                      143\n",
       "Quora / (not set)                    48\n",
       "gaintheory / amc_sms                 37\n",
       "draquaguard.co.in / referral         28\n",
       "in.search.yahoo.com / referral       27\n",
       "yahoo / organic                      27\n",
       "Name: sourceMedium, dtype: int64"
      ]
     },
     "execution_count": 6,
     "metadata": {},
     "output_type": "execute_result"
    }
   ],
   "source": [
    "eureka_data.sourceMedium.value_counts().head(10)"
   ]
  },
  {
   "cell_type": "markdown",
   "id": "ad883054",
   "metadata": {},
   "source": [
    "3.\tIs there any difference in time spent on the water purifier page between users who converted and users who did not convert?\n",
    "Ans: Below we can see that there is a difference in average time spent by the users converted and non converted for water purifier page"
   ]
  },
  {
   "cell_type": "code",
   "execution_count": 7,
   "id": "5bcff726",
   "metadata": {},
   "outputs": [
    {
     "name": "stdout",
     "output_type": "stream",
     "text": [
      "Average time for Converted Users 1    425.78869\n",
      "Name: converted, dtype: float64\n",
      "Average time for Non Converted Users 0    314.288717\n",
      "Name: converted, dtype: float64\n"
     ]
    }
   ],
   "source": [
    "wp_conv=eureka_data[(eureka_data.visited_water_purifier_page == 1) &  (eureka_data.converted == 1)].water_purifier_page_top.sum()\n",
    "no_user_conv=eureka_data[(eureka_data.visited_water_purifier_page == 1) &  (eureka_data.converted == 1)].converted.value_counts()\n",
    "wpn_conv=eureka_data[(eureka_data.visited_water_purifier_page == 1) &  (eureka_data.converted == 0)].water_purifier_page_top.sum()\n",
    "no_user_non_conv=eureka_data[(eureka_data.visited_water_purifier_page == 1) &  (eureka_data.converted == 0)].converted.value_counts()\n",
    "\n",
    "## Average timestamp for converted users \n",
    "avg_time_conv=(wp_conv/no_user_conv)\n",
    "\n",
    "avg_time_non_conv=(wpn_conv/no_user_non_conv)\n",
    "\n",
    "print(\"Average time for Converted Users\",avg_time_conv)\n",
    "\n",
    "print(\"Average time for Non Converted Users\",avg_time_non_conv)"
   ]
  },
  {
   "cell_type": "markdown",
   "id": "845f77bb",
   "metadata": {},
   "source": [
    "4.\tKashif has the following claims from this business understanding. How do you test his claims and make necessary conclusions?\n",
    "a.\tCustomers using mobile, desktop, and tablet are equally distributed.\n"
   ]
  },
  {
   "cell_type": "markdown",
   "id": "45f862a0",
   "metadata": {},
   "source": [
    "Ans: H0 = Equally distributed\n",
    "     H1 = Not Equally distributed\n",
    "     \n",
    "Performing ANOVA test, we can see that P-value is significant. Therefore, We cannot reject the null hypothesis and can say that data is uniformly distributed"
   ]
  },
  {
   "cell_type": "code",
   "execution_count": 8,
   "id": "5bf5c552",
   "metadata": {},
   "outputs": [],
   "source": [
    "import pandas as pd\n",
    "eureka_data_ed = pd.DataFrame()\n",
    "eureka_data_ed=eureka_data[['device','converted']]"
   ]
  },
  {
   "cell_type": "code",
   "execution_count": 9,
   "id": "3849976e",
   "metadata": {},
   "outputs": [],
   "source": [
    "eureka_data_ed['device'] = pd.Categorical(eureka_data_ed.device)"
   ]
  },
  {
   "cell_type": "code",
   "execution_count": 10,
   "id": "83d0fc42",
   "metadata": {},
   "outputs": [],
   "source": [
    "import statsmodels.api as sm\n",
    "from statsmodels.formula.api import ols"
   ]
  },
  {
   "cell_type": "code",
   "execution_count": 11,
   "id": "775b23b6",
   "metadata": {},
   "outputs": [
    {
     "data": {
      "text/html": [
       "<div>\n",
       "<style scoped>\n",
       "    .dataframe tbody tr th:only-of-type {\n",
       "        vertical-align: middle;\n",
       "    }\n",
       "\n",
       "    .dataframe tbody tr th {\n",
       "        vertical-align: top;\n",
       "    }\n",
       "\n",
       "    .dataframe thead th {\n",
       "        text-align: right;\n",
       "    }\n",
       "</style>\n",
       "<table border=\"1\" class=\"dataframe\">\n",
       "  <thead>\n",
       "    <tr style=\"text-align: right;\">\n",
       "      <th></th>\n",
       "      <th>sum_sq</th>\n",
       "      <th>df</th>\n",
       "      <th>F</th>\n",
       "      <th>PR(&gt;F)</th>\n",
       "    </tr>\n",
       "  </thead>\n",
       "  <tbody>\n",
       "    <tr>\n",
       "      <th>C(device)</th>\n",
       "      <td>8.108362</td>\n",
       "      <td>2.0</td>\n",
       "      <td>80.264525</td>\n",
       "      <td>1.612864e-35</td>\n",
       "    </tr>\n",
       "    <tr>\n",
       "      <th>Residual</th>\n",
       "      <td>2134.613576</td>\n",
       "      <td>42261.0</td>\n",
       "      <td>NaN</td>\n",
       "      <td>NaN</td>\n",
       "    </tr>\n",
       "  </tbody>\n",
       "</table>\n",
       "</div>"
      ],
      "text/plain": [
       "                sum_sq       df          F        PR(>F)\n",
       "C(device)     8.108362      2.0  80.264525  1.612864e-35\n",
       "Residual   2134.613576  42261.0        NaN           NaN"
      ]
     },
     "execution_count": 11,
     "metadata": {},
     "output_type": "execute_result"
    }
   ],
   "source": [
    "model = ols('converted ~ C(device)', data=eureka_data_ed).fit()\n",
    "anova_table = sm.stats.anova_lm(model, typ=2)\n",
    "anova_table"
   ]
  },
  {
   "cell_type": "code",
   "execution_count": 12,
   "id": "fc46ca8d",
   "metadata": {},
   "outputs": [
    {
     "data": {
      "text/html": [
       "<div>\n",
       "<style scoped>\n",
       "    .dataframe tbody tr th:only-of-type {\n",
       "        vertical-align: middle;\n",
       "    }\n",
       "\n",
       "    .dataframe tbody tr th {\n",
       "        vertical-align: top;\n",
       "    }\n",
       "\n",
       "    .dataframe thead th {\n",
       "        text-align: right;\n",
       "    }\n",
       "</style>\n",
       "<table border=\"1\" class=\"dataframe\">\n",
       "  <thead>\n",
       "    <tr style=\"text-align: right;\">\n",
       "      <th></th>\n",
       "      <th>device</th>\n",
       "      <th>converted</th>\n",
       "    </tr>\n",
       "  </thead>\n",
       "  <tbody>\n",
       "    <tr>\n",
       "      <th>0</th>\n",
       "      <td>mobile</td>\n",
       "      <td>0</td>\n",
       "    </tr>\n",
       "    <tr>\n",
       "      <th>1</th>\n",
       "      <td>mobile</td>\n",
       "      <td>0</td>\n",
       "    </tr>\n",
       "    <tr>\n",
       "      <th>2</th>\n",
       "      <td>mobile</td>\n",
       "      <td>0</td>\n",
       "    </tr>\n",
       "    <tr>\n",
       "      <th>3</th>\n",
       "      <td>mobile</td>\n",
       "      <td>0</td>\n",
       "    </tr>\n",
       "    <tr>\n",
       "      <th>4</th>\n",
       "      <td>mobile</td>\n",
       "      <td>0</td>\n",
       "    </tr>\n",
       "  </tbody>\n",
       "</table>\n",
       "</div>"
      ],
      "text/plain": [
       "   device  converted\n",
       "0  mobile          0\n",
       "1  mobile          0\n",
       "2  mobile          0\n",
       "3  mobile          0\n",
       "4  mobile          0"
      ]
     },
     "execution_count": 12,
     "metadata": {},
     "output_type": "execute_result"
    }
   ],
   "source": [
    "eureka_data_ed.head()"
   ]
  },
  {
   "cell_type": "code",
   "execution_count": 13,
   "id": "c033571e",
   "metadata": {},
   "outputs": [
    {
     "data": {
      "text/plain": [
       "(array([36370.,     0.,     0.,     0.,     0.,  5545.,     0.,     0.,\n",
       "            0.,   349.]),\n",
       " array([0. , 0.2, 0.4, 0.6, 0.8, 1. , 1.2, 1.4, 1.6, 1.8, 2. ]),\n",
       " <BarContainer object of 10 artists>)"
      ]
     },
     "execution_count": 13,
     "metadata": {},
     "output_type": "execute_result"
    },
    {
     "data": {
      "image/png": "[encoded data removed]",
      "text/plain": [
       "<Figure size 720x504 with 1 Axes>"
      ]
     },
     "metadata": {
      "needs_background": "light"
     },
     "output_type": "display_data"
    }
   ],
   "source": [
    "from matplotlib import pyplot as plt\n",
    "import numpy as np\n",
    "fig, ax = plt.subplots(figsize =(10, 7))\n",
    "ax.hist(eureka_data.device)"
   ]
  },
  {
   "cell_type": "markdown",
   "id": "ec37a290",
   "metadata": {},
   "source": [
    "b.\tCustomers who convert spend more time on the website.\n",
    "The comment that customers who convert spend more time on website is in alignment with the below calculations"
   ]
  },
  {
   "cell_type": "code",
   "execution_count": 14,
   "id": "4610244b",
   "metadata": {},
   "outputs": [
    {
     "name": "stdout",
     "output_type": "stream",
     "text": [
      "Average session time for converted customer 1    340.963339\n",
      "Name: converted, dtype: float64\n",
      "Average session time for non converted customer 0    313.053625\n",
      "Name: converted, dtype: float64\n"
     ]
    }
   ],
   "source": [
    "total_conv_time=eureka_data[(eureka_data.converted == 1)].sessionDuration.sum()\n",
    "total_conv_cust=eureka_data[(eureka_data.converted == 1)].converted.value_counts()\n",
    "Avg_session_time_conv=(total_conv_time/total_conv_cust)\n",
    "total_non_conv_time=eureka_data[(eureka_data.converted == 0)].sessionDuration.sum()\n",
    "total_non_conv_cust=eureka_data[(eureka_data.converted == 0)].converted.value_counts()\n",
    "Avg_session_time_non_conv=(total_non_conv_time/total_non_conv_cust)\n",
    "\n",
    "print(\"Average session time for converted customer\",Avg_session_time_conv)\n",
    "\n",
    "print(\"Average session time for non converted customer\",Avg_session_time_non_conv)\n"
   ]
  },
  {
   "cell_type": "markdown",
   "id": "016b4f81",
   "metadata": {},
   "source": [
    "Design minimum of 8 experiments should have been attempted for finding the best model.\n",
    "o\tAt least two different approaches to deal with data imbalance problems\n",
    "o\tAt least two different data encoding techniques\n",
    "o\tAt least four different models (with combination of above encodings and data augmentation techniques)\n",
    "o\tThe model’s hyperparameters should have been selected through grid search mechanisms\n"
   ]
  },
  {
   "cell_type": "markdown",
   "id": "0cd2fe56",
   "metadata": {},
   "source": [
    "From the below pie-chart we can see that data is highly imbalance and we need to use balance it before performing any experiment"
   ]
  },
  {
   "cell_type": "code",
   "execution_count": 15,
   "id": "3010bbd3",
   "metadata": {},
   "outputs": [
    {
     "data": {
      "image/png": "[encoded data removed]",
      "text/plain": [
       "<Figure size 432x288 with 1 Axes>"
      ]
     },
     "metadata": {},
     "output_type": "display_data"
    }
   ],
   "source": [
    "from matplotlib import pyplot as plt\n",
    "import numpy as np\n",
    "count = eureka_data['converted'].value_counts(sort = True)\n",
    "colors = [\"grey\",\"orange\"] \n",
    "labels=['No','Yes']\n",
    "#plotting pie chart\n",
    "plt.pie(count,labels=labels, colors=colors,autopct='%1.1f%%')\n",
    "plt.title('converted Percentage in data')\n",
    "plt.show()"
   ]
  },
  {
   "cell_type": "code",
   "execution_count": null,
   "id": "9414274b",
   "metadata": {},
   "outputs": [],
   "source": [
    "import plotly.graph_objs as go\n",
    "import plotly.offline as py\n",
    "\n",
    "#correlation\n",
    "correlation = eureka_df_v3.corr()\n",
    "#tick labels\n",
    "matrix_cols = correlation.columns.tolist()\n",
    "#convert to array\n",
    "corr_array = np.array(correlation)\n",
    "\n",
    "#Plotting\n",
    "trace = go.Heatmap(z = corr_array,\n",
    "                   x = matrix_cols,\n",
    "                   y = matrix_cols,\n",
    "                   colorscale = \"Viridis\",\n",
    "                   colorbar = dict(title = \"Pearson Correlation coefficients\", titleside = \"right\"),\n",
    "                  )\n",
    "layout = go.Layout(dict(title = \"Correlation matrix\",\n",
    "                        autosize = False,\n",
    "                        height = 720,\n",
    "                        width = 800,\n",
    "                        margin = dict(r = 0, l = 210, t = 25, b = 210),\n",
    "                        yaxis = dict(tickfont = dict(size = 9)),\n",
    "                        xaxis = dict(tickfont = dict(size = 9))\n",
    "                       )\n",
    "                  )\n",
    "data = [trace]\n",
    "fig = go.Figure(data=data, layout=layout)\n",
    "py.iplot(fig)"
   ]
  },
  {
   "cell_type": "markdown",
   "id": "9dcf368b",
   "metadata": {},
   "source": [
    "- Based on the above unique values and correlation matrix we observed that Columns index, bookdemo_in_7days , goal3Completions ,goal4Completions, goal7Completions , callclick_in_7days have only 1 unique value\n",
    "- So these columns can be dropped as these are not making any value add."
   ]
  },
  {
   "cell_type": "code",
   "execution_count": 16,
   "id": "0e799400",
   "metadata": {},
   "outputs": [],
   "source": [
    "eureka_data=eureka_data.drop('index',axis=1)\n",
    "eureka_data=eureka_data.drop('bookdemo_in_7days',axis=1)\n",
    "eureka_data=eureka_data.drop('goal3Completions',axis=1)\n",
    "eureka_data=eureka_data.drop('goal4Completions',axis=1)\n",
    "eureka_data=eureka_data.drop('goal7Completions',axis=1)\n",
    "eureka_data=eureka_data.drop('callclick_in_7days',axis=1)"
   ]
  },
  {
   "cell_type": "code",
   "execution_count": 17,
   "id": "f696d55d",
   "metadata": {
    "scrolled": true
   },
   "outputs": [
    {
     "name": "stdout",
     "output_type": "stream",
     "text": [
      "<class 'pandas.core.frame.DataFrame'>\n",
      "RangeIndex: 42264 entries, 0 to 42263\n",
      "Data columns (total 42 columns):\n",
      " #   Column                                  Non-Null Count  Dtype  \n",
      "---  ------                                  --------------  -----  \n",
      " 0   DemoReqPg_CallClicks_evt_count          42264 non-null  float64\n",
      " 1   air_purifier_page_top                   42264 non-null  float64\n",
      " 2   bounces                                 42264 non-null  float64\n",
      " 3   checkout_page_top                       42264 non-null  float64\n",
      " 4   contactus_top                           42264 non-null  float64\n",
      " 5   country                                 42264 non-null  object \n",
      " 6   customer_service_amc_login_top          42264 non-null  float64\n",
      " 7   customer_service_request_login_top      42264 non-null  float64\n",
      " 8   demo_page_top                           42264 non-null  float64\n",
      " 9   device                                  42264 non-null  object \n",
      " 10  dsls                                    42264 non-null  int64  \n",
      " 11  fired_DemoReqPg_CallClicks_evt          42264 non-null  float64\n",
      " 12  fired_help_me_buy_evt                   42264 non-null  float64\n",
      " 13  fired_phone_clicks_evt                  42264 non-null  float64\n",
      " 14  help_me_buy_evt_count                   42264 non-null  float64\n",
      " 15  newUser                                 42264 non-null  int64  \n",
      " 16  offer_page_top                          42264 non-null  float64\n",
      " 17  pageviews                               42264 non-null  float64\n",
      " 18  paid                                    42264 non-null  int64  \n",
      " 19  phone_clicks_evt_count                  42264 non-null  float64\n",
      " 20  region                                  42264 non-null  object \n",
      " 21  security_solutions_page_top             42264 non-null  float64\n",
      " 22  sessionDuration                         42264 non-null  float64\n",
      " 23  sessions                                42264 non-null  float64\n",
      " 24  sourceMedium                            42264 non-null  object \n",
      " 25  storelocator_top                        42264 non-null  float64\n",
      " 26  successbookdemo_top                     42264 non-null  float64\n",
      " 27  vacuum_cleaner_page_top                 42264 non-null  float64\n",
      " 28  visited_air_purifier_page               42264 non-null  float64\n",
      " 29  visited_checkout_page                   42264 non-null  float64\n",
      " 30  visited_contactus                       42264 non-null  float64\n",
      " 31  visited_customer_service_amc_login      42264 non-null  float64\n",
      " 32  visited_customer_service_request_login  42264 non-null  float64\n",
      " 33  visited_demo_page                       42264 non-null  float64\n",
      " 34  visited_offer_page                      42264 non-null  float64\n",
      " 35  visited_security_solutions_page         42264 non-null  float64\n",
      " 36  visited_storelocator                    42264 non-null  float64\n",
      " 37  visited_successbookdemo                 42264 non-null  float64\n",
      " 38  visited_vacuum_cleaner_page             42264 non-null  float64\n",
      " 39  visited_water_purifier_page             42264 non-null  float64\n",
      " 40  water_purifier_page_top                 42264 non-null  float64\n",
      " 41  converted                               42264 non-null  int64  \n",
      "dtypes: float64(34), int64(4), object(4)\n",
      "memory usage: 13.5+ MB\n"
     ]
    }
   ],
   "source": [
    "eureka_data.info()"
   ]
  },
  {
   "cell_type": "code",
   "execution_count": 18,
   "id": "16cdf246",
   "metadata": {},
   "outputs": [
    {
     "data": {
      "text/plain": [
       "False"
      ]
     },
     "execution_count": 18,
     "metadata": {},
     "output_type": "execute_result"
    }
   ],
   "source": [
    "## Checking for null values we can see that there are no null values\n",
    "eureka_data.isnull().values.any()"
   ]
  },
  {
   "cell_type": "markdown",
   "id": "e83b3799",
   "metadata": {},
   "source": [
    "Experiment 1 \n",
    "- Here we have used random undersampling Technique\n",
    "- Also One hot encoding technique for categorical variables\n",
    "- The model used is Logistic Regression where accuracy of the model\n",
    "  :- before classification is 65%\n",
    "  :- After Grid search the accuracy is 70%\n",
    "  :- Precision also increases from 9% to 10% after Grid search\n",
    "- Using L1 feature selection method we have tried and used the best features where after that we can see that the Preicion is increased to 40%\n",
    "- The model pipeline have been exported into pkl file"
   ]
  },
  {
   "cell_type": "code",
   "execution_count": 19,
   "id": "3eca0911",
   "metadata": {},
   "outputs": [],
   "source": [
    "eureka_data_e1 = eureka_data"
   ]
  },
  {
   "cell_type": "code",
   "execution_count": 20,
   "id": "39b729eb",
   "metadata": {},
   "outputs": [],
   "source": [
    "### Splitting the data into train and test into 70:30 ratio\n",
    "X_e1=eureka_data_e1.drop('converted',axis=1)\n",
    "Y_e1=eureka_data_e1['converted']"
   ]
  },
  {
   "cell_type": "code",
   "execution_count": 21,
   "id": "a601bbc0",
   "metadata": {},
   "outputs": [
    {
     "name": "stdout",
     "output_type": "stream",
     "text": [
      "(29584, 41) (29584,)\n",
      "(12680, 41) (12680,)\n"
     ]
    }
   ],
   "source": [
    "from sklearn.model_selection import train_test_split\n",
    "X_train_e1, X_test_e1, y_train_e1, y_test_e1 = train_test_split(X_e1,Y_e1, test_size=0.3)\n",
    "print (X_train_e1.shape, y_train_e1.shape)\n",
    "print (X_test_e1.shape, y_test_e1.shape)"
   ]
  },
  {
   "cell_type": "markdown",
   "id": "3fbff125",
   "metadata": {},
   "source": [
    "Using Random Under Sampling "
   ]
  },
  {
   "cell_type": "code",
   "execution_count": 22,
   "id": "9f96f910",
   "metadata": {},
   "outputs": [
    {
     "name": "stdout",
     "output_type": "stream",
     "text": [
      "Counter({0: 1554, 1: 1554})\n"
     ]
    }
   ],
   "source": [
    "###  random undersampling to balance the class distribution\n",
    "from collections import Counter\n",
    "from sklearn.datasets import make_classification\n",
    "from imblearn.under_sampling import RandomUnderSampler\n",
    "\n",
    "undersample = RandomUnderSampler(sampling_strategy='majority')\n",
    "# fit and apply the transform\n",
    "X_over_e1, y_over_e1 = undersample.fit_resample(X_train_e1, y_train_e1)\n",
    "# summarize class distribution\n",
    "print(Counter(y_over_e1))"
   ]
  },
  {
   "cell_type": "code",
   "execution_count": 23,
   "id": "c4cdebd4",
   "metadata": {},
   "outputs": [],
   "source": [
    "### Non imputed variables\n",
    "non_imputed_num_vars = ['DemoReqPg_CallClicks_evt_count','air_purifier_page_top','bounces','checkout_page_top',\n",
    "'contactus_top','customer_service_amc_login_top','customer_service_request_login_top','demo_page_top',\n",
    "'dsls','help_me_buy_evt_count','offer_page_top','pageviews','phone_clicks_evt_count','security_solutions_page_top',\n",
    "'sessionDuration','sessions','storelocator_top','successbookdemo_top','vacuum_cleaner_page_top',\n",
    "'water_purifier_page_top']"
   ]
  },
  {
   "cell_type": "code",
   "execution_count": 24,
   "id": "3a697ed7",
   "metadata": {},
   "outputs": [],
   "source": [
    "### Categorical Variables\n",
    "cat_vars = ['country','device','region','sourceMedium']"
   ]
  },
  {
   "cell_type": "markdown",
   "id": "555a6e04",
   "metadata": {},
   "source": [
    "Encode Categorical Variables"
   ]
  },
  {
   "cell_type": "code",
   "execution_count": 25,
   "id": "40bf39cc",
   "metadata": {},
   "outputs": [],
   "source": [
    "from sklearn.preprocessing import OneHotEncoder"
   ]
  },
  {
   "cell_type": "code",
   "execution_count": 26,
   "id": "18c732f6",
   "metadata": {},
   "outputs": [],
   "source": [
    "ohe_encoder = OneHotEncoder(handle_unknown='ignore')"
   ]
  },
  {
   "cell_type": "markdown",
   "id": "b8675f85",
   "metadata": {},
   "source": [
    "Scaling Numerical Vars"
   ]
  },
  {
   "cell_type": "code",
   "execution_count": 27,
   "id": "120bd909",
   "metadata": {},
   "outputs": [],
   "source": [
    "from sklearn.preprocessing import StandardScaler\n",
    "scaler = StandardScaler()"
   ]
  },
  {
   "cell_type": "markdown",
   "id": "cfdc3d51",
   "metadata": {},
   "source": [
    "Creating Pipeline"
   ]
  },
  {
   "cell_type": "code",
   "execution_count": 28,
   "id": "139ab965",
   "metadata": {},
   "outputs": [],
   "source": [
    "from sklearn.compose import ColumnTransformer\n",
    "from sklearn.pipeline import Pipeline"
   ]
  },
  {
   "cell_type": "code",
   "execution_count": 29,
   "id": "5ea59114",
   "metadata": {},
   "outputs": [],
   "source": [
    "non_imputed_num_transformer = Pipeline( steps = [('scaler', scaler)])"
   ]
  },
  {
   "cell_type": "code",
   "execution_count": 30,
   "id": "486a098b",
   "metadata": {},
   "outputs": [],
   "source": [
    "cat_transformer = Pipeline( steps = [('ohencoder', ohe_encoder)])"
   ]
  },
  {
   "cell_type": "code",
   "execution_count": 31,
   "id": "f6e98b88",
   "metadata": {},
   "outputs": [],
   "source": [
    "preprocessor = ColumnTransformer(\n",
    "    transformers=[  \n",
    "        ('num_not_imputed', non_imputed_num_transformer, non_imputed_num_vars),\n",
    "        ('catvars', cat_transformer, cat_vars)])"
   ]
  },
  {
   "cell_type": "code",
   "execution_count": 32,
   "id": "107053e5",
   "metadata": {},
   "outputs": [],
   "source": [
    "from sklearn.linear_model import LogisticRegression\n",
    "Log_reg_e1 = Pipeline(\n",
    "    steps=[(\"preprocessor\", preprocessor), (\"classifier\", LogisticRegression())]\n",
    ")"
   ]
  },
  {
   "cell_type": "code",
   "execution_count": 33,
   "id": "12dabf47",
   "metadata": {},
   "outputs": [
    {
     "data": {
      "text/plain": [
       "Pipeline(steps=[('preprocessor',\n",
       "                 ColumnTransformer(transformers=[('num_not_imputed',\n",
       "                                                  Pipeline(steps=[('scaler',\n",
       "                                                                   StandardScaler())]),\n",
       "                                                  ['DemoReqPg_CallClicks_evt_count',\n",
       "                                                   'air_purifier_page_top',\n",
       "                                                   'bounces',\n",
       "                                                   'checkout_page_top',\n",
       "                                                   'contactus_top',\n",
       "                                                   'customer_service_amc_login_top',\n",
       "                                                   'customer_service_request_login_top',\n",
       "                                                   'demo_page_top', 'dsls',\n",
       "                                                   'help_me_buy_evt_count',...\n",
       "                                                   'pageviews',\n",
       "                                                   'phone_clicks_evt_count',\n",
       "                                                   'security_solutions_page_top',\n",
       "                                                   'sessionDuration',\n",
       "                                                   'sessions',\n",
       "                                                   'storelocator_top',\n",
       "                                                   'successbookdemo_top',\n",
       "                                                   'vacuum_cleaner_page_top',\n",
       "                                                   'water_purifier_page_top']),\n",
       "                                                 ('catvars',\n",
       "                                                  Pipeline(steps=[('ohencoder',\n",
       "                                                                   OneHotEncoder(handle_unknown='ignore'))]),\n",
       "                                                  ['country', 'device',\n",
       "                                                   'region',\n",
       "                                                   'sourceMedium'])])),\n",
       "                ('classifier', LogisticRegression())])"
      ]
     },
     "execution_count": 33,
     "metadata": {},
     "output_type": "execute_result"
    }
   ],
   "source": [
    "Log_reg_e1.fit(X_over_e1,y_over_e1)"
   ]
  },
  {
   "cell_type": "code",
   "execution_count": 34,
   "id": "e92d1492",
   "metadata": {},
   "outputs": [],
   "source": [
    "from sklearn import set_config\n",
    "set_config(display='diagram')"
   ]
  },
  {
   "cell_type": "code",
   "execution_count": 35,
   "id": "be3eb13d",
   "metadata": {},
   "outputs": [
    {
     "data": {
      "text/html": [
       "<style>#sk-32830f38-3402-45c4-a110-11efd83a4ad3 {color: black;background-color: white;}#sk-32830f38-3402-45c4-a110-11efd83a4ad3 pre{padding: 0;}#sk-32830f38-3402-45c4-a110-11efd83a4ad3 div.sk-toggleable {background-color: white;}#sk-32830f38-3402-45c4-a110-11efd83a4ad3 label.sk-toggleable__label {cursor: pointer;display: block;width: 100%;margin-bottom: 0;padding: 0.3em;box-sizing: border-box;text-align: center;}#sk-32830f38-3402-45c4-a110-11efd83a4ad3 label.sk-toggleable__label-arrow:before {content: \"▸\";float: left;margin-right: 0.25em;color: #696969;}#sk-32830f38-3402-45c4-a110-11efd83a4ad3 label.sk-toggleable__label-arrow:hover:before {color: black;}#sk-32830f38-3402-45c4-a110-11efd83a4ad3 div.sk-estimator:hover label.sk-toggleable__label-arrow:before {color: black;}#sk-32830f38-3402-45c4-a110-11efd83a4ad3 div.sk-toggleable__content {max-height: 0;max-width: 0;overflow: hidden;text-align: left;background-color: #f0f8ff;}#sk-32830f38-3402-45c4-a110-11efd83a4ad3 div.sk-toggleable__content pre {margin: 0.2em;color: black;border-radius: 0.25em;background-color: #f0f8ff;}#sk-32830f38-3402-45c4-a110-11efd83a4ad3 input.sk-toggleable__control:checked~div.sk-toggleable__content {max-height: 200px;max-width: 100%;overflow: auto;}#sk-32830f38-3402-45c4-a110-11efd83a4ad3 input.sk-toggleable__control:checked~label.sk-toggleable__label-arrow:before {content: \"▾\";}#sk-32830f38-3402-45c4-a110-11efd83a4ad3 div.sk-estimator input.sk-toggleable__control:checked~label.sk-toggleable__label {background-color: #d4ebff;}#sk-32830f38-3402-45c4-a110-11efd83a4ad3 div.sk-label input.sk-toggleable__control:checked~label.sk-toggleable__label {background-color: #d4ebff;}#sk-32830f38-3402-45c4-a110-11efd83a4ad3 input.sk-hidden--visually {border: 0;clip: rect(1px 1px 1px 1px);clip: rect(1px, 1px, 1px, 1px);height: 1px;margin: -1px;overflow: hidden;padding: 0;position: absolute;width: 1px;}#sk-32830f38-3402-45c4-a110-11efd83a4ad3 div.sk-estimator {font-family: monospace;background-color: #f0f8ff;border: 1px dotted black;border-radius: 0.25em;box-sizing: border-box;margin-bottom: 0.5em;}#sk-32830f38-3402-45c4-a110-11efd83a4ad3 div.sk-estimator:hover {background-color: #d4ebff;}#sk-32830f38-3402-45c4-a110-11efd83a4ad3 div.sk-parallel-item::after {content: \"\";width: 100%;border-bottom: 1px solid gray;flex-grow: 1;}#sk-32830f38-3402-45c4-a110-11efd83a4ad3 div.sk-label:hover label.sk-toggleable__label {background-color: #d4ebff;}#sk-32830f38-3402-45c4-a110-11efd83a4ad3 div.sk-serial::before {content: \"\";position: absolute;border-left: 1px solid gray;box-sizing: border-box;top: 2em;bottom: 0;left: 50%;}#sk-32830f38-3402-45c4-a110-11efd83a4ad3 div.sk-serial {display: flex;flex-direction: column;align-items: center;background-color: white;padding-right: 0.2em;padding-left: 0.2em;}#sk-32830f38-3402-45c4-a110-11efd83a4ad3 div.sk-item {z-index: 1;}#sk-32830f38-3402-45c4-a110-11efd83a4ad3 div.sk-parallel {display: flex;align-items: stretch;justify-content: center;background-color: white;}#sk-32830f38-3402-45c4-a110-11efd83a4ad3 div.sk-parallel::before {content: \"\";position: absolute;border-left: 1px solid gray;box-sizing: border-box;top: 2em;bottom: 0;left: 50%;}#sk-32830f38-3402-45c4-a110-11efd83a4ad3 div.sk-parallel-item {display: flex;flex-direction: column;position: relative;background-color: white;}#sk-32830f38-3402-45c4-a110-11efd83a4ad3 div.sk-parallel-item:first-child::after {align-self: flex-end;width: 50%;}#sk-32830f38-3402-45c4-a110-11efd83a4ad3 div.sk-parallel-item:last-child::after {align-self: flex-start;width: 50%;}#sk-32830f38-3402-45c4-a110-11efd83a4ad3 div.sk-parallel-item:only-child::after {width: 0;}#sk-32830f38-3402-45c4-a110-11efd83a4ad3 div.sk-dashed-wrapped {border: 1px dashed gray;margin: 0 0.4em 0.5em 0.4em;box-sizing: border-box;padding-bottom: 0.4em;background-color: white;position: relative;}#sk-32830f38-3402-45c4-a110-11efd83a4ad3 div.sk-label label {font-family: monospace;font-weight: bold;background-color: white;display: inline-block;line-height: 1.2em;}#sk-32830f38-3402-45c4-a110-11efd83a4ad3 div.sk-label-container {position: relative;z-index: 2;text-align: center;}#sk-32830f38-3402-45c4-a110-11efd83a4ad3 div.sk-container {/* jupyter's `normalize.less` sets `[hidden] { display: none; }` but bootstrap.min.css set `[hidden] { display: none !important; }` so we also need the `!important` here to be able to override the default hidden behavior on the sphinx rendered scikit-learn.org. See: https://github.com/scikit-learn/scikit-learn/issues/21755 */display: inline-block !important;position: relative;}#sk-32830f38-3402-45c4-a110-11efd83a4ad3 div.sk-text-repr-fallback {display: none;}</style><div id=\"sk-32830f38-3402-45c4-a110-11efd83a4ad3\" class=\"sk-top-container\"><div class=\"sk-text-repr-fallback\"><pre>Pipeline(steps=[(&#x27;preprocessor&#x27;,\n",
       "                 ColumnTransformer(transformers=[(&#x27;num_not_imputed&#x27;,\n",
       "                                                  Pipeline(steps=[(&#x27;scaler&#x27;,\n",
       "                                                                   StandardScaler())]),\n",
       "                                                  [&#x27;DemoReqPg_CallClicks_evt_count&#x27;,\n",
       "                                                   &#x27;air_purifier_page_top&#x27;,\n",
       "                                                   &#x27;bounces&#x27;,\n",
       "                                                   &#x27;checkout_page_top&#x27;,\n",
       "                                                   &#x27;contactus_top&#x27;,\n",
       "                                                   &#x27;customer_service_amc_login_top&#x27;,\n",
       "                                                   &#x27;customer_service_request_login_top&#x27;,\n",
       "                                                   &#x27;demo_page_top&#x27;, &#x27;dsls&#x27;,\n",
       "                                                   &#x27;help_me_buy_evt_count&#x27;,...\n",
       "                                                   &#x27;pageviews&#x27;,\n",
       "                                                   &#x27;phone_clicks_evt_count&#x27;,\n",
       "                                                   &#x27;security_solutions_page_top&#x27;,\n",
       "                                                   &#x27;sessionDuration&#x27;,\n",
       "                                                   &#x27;sessions&#x27;,\n",
       "                                                   &#x27;storelocator_top&#x27;,\n",
       "                                                   &#x27;successbookdemo_top&#x27;,\n",
       "                                                   &#x27;vacuum_cleaner_page_top&#x27;,\n",
       "                                                   &#x27;water_purifier_page_top&#x27;]),\n",
       "                                                 (&#x27;catvars&#x27;,\n",
       "                                                  Pipeline(steps=[(&#x27;ohencoder&#x27;,\n",
       "                                                                   OneHotEncoder(handle_unknown=&#x27;ignore&#x27;))]),\n",
       "                                                  [&#x27;country&#x27;, &#x27;device&#x27;,\n",
       "                                                   &#x27;region&#x27;,\n",
       "                                                   &#x27;sourceMedium&#x27;])])),\n",
       "                (&#x27;classifier&#x27;, LogisticRegression())])</pre><b>Please rerun this cell to show the HTML repr or trust the notebook.</b></div><div class=\"sk-container\" hidden><div class=\"sk-item sk-dashed-wrapped\"><div class=\"sk-label-container\"><div class=\"sk-label sk-toggleable\"><input class=\"sk-toggleable__control sk-hidden--visually\" id=\"d9e04f12-889c-4de8-a5cd-19b1bf72dffd\" type=\"checkbox\" ><label for=\"d9e04f12-889c-4de8-a5cd-19b1bf72dffd\" class=\"sk-toggleable__label sk-toggleable__label-arrow\">Pipeline</label><div class=\"sk-toggleable__content\"><pre>Pipeline(steps=[(&#x27;preprocessor&#x27;,\n",
       "                 ColumnTransformer(transformers=[(&#x27;num_not_imputed&#x27;,\n",
       "                                                  Pipeline(steps=[(&#x27;scaler&#x27;,\n",
       "                                                                   StandardScaler())]),\n",
       "                                                  [&#x27;DemoReqPg_CallClicks_evt_count&#x27;,\n",
       "                                                   &#x27;air_purifier_page_top&#x27;,\n",
       "                                                   &#x27;bounces&#x27;,\n",
       "                                                   &#x27;checkout_page_top&#x27;,\n",
       "                                                   &#x27;contactus_top&#x27;,\n",
       "                                                   &#x27;customer_service_amc_login_top&#x27;,\n",
       "                                                   &#x27;customer_service_request_login_top&#x27;,\n",
       "                                                   &#x27;demo_page_top&#x27;, &#x27;dsls&#x27;,\n",
       "                                                   &#x27;help_me_buy_evt_count&#x27;,...\n",
       "                                                   &#x27;pageviews&#x27;,\n",
       "                                                   &#x27;phone_clicks_evt_count&#x27;,\n",
       "                                                   &#x27;security_solutions_page_top&#x27;,\n",
       "                                                   &#x27;sessionDuration&#x27;,\n",
       "                                                   &#x27;sessions&#x27;,\n",
       "                                                   &#x27;storelocator_top&#x27;,\n",
       "                                                   &#x27;successbookdemo_top&#x27;,\n",
       "                                                   &#x27;vacuum_cleaner_page_top&#x27;,\n",
       "                                                   &#x27;water_purifier_page_top&#x27;]),\n",
       "                                                 (&#x27;catvars&#x27;,\n",
       "                                                  Pipeline(steps=[(&#x27;ohencoder&#x27;,\n",
       "                                                                   OneHotEncoder(handle_unknown=&#x27;ignore&#x27;))]),\n",
       "                                                  [&#x27;country&#x27;, &#x27;device&#x27;,\n",
       "                                                   &#x27;region&#x27;,\n",
       "                                                   &#x27;sourceMedium&#x27;])])),\n",
       "                (&#x27;classifier&#x27;, LogisticRegression())])</pre></div></div></div><div class=\"sk-serial\"><div class=\"sk-item sk-dashed-wrapped\"><div class=\"sk-label-container\"><div class=\"sk-label sk-toggleable\"><input class=\"sk-toggleable__control sk-hidden--visually\" id=\"ca5232b4-3e36-4f9c-bbcb-90296d32d24f\" type=\"checkbox\" ><label for=\"ca5232b4-3e36-4f9c-bbcb-90296d32d24f\" class=\"sk-toggleable__label sk-toggleable__label-arrow\">preprocessor: ColumnTransformer</label><div class=\"sk-toggleable__content\"><pre>ColumnTransformer(transformers=[(&#x27;num_not_imputed&#x27;,\n",
       "                                 Pipeline(steps=[(&#x27;scaler&#x27;, StandardScaler())]),\n",
       "                                 [&#x27;DemoReqPg_CallClicks_evt_count&#x27;,\n",
       "                                  &#x27;air_purifier_page_top&#x27;, &#x27;bounces&#x27;,\n",
       "                                  &#x27;checkout_page_top&#x27;, &#x27;contactus_top&#x27;,\n",
       "                                  &#x27;customer_service_amc_login_top&#x27;,\n",
       "                                  &#x27;customer_service_request_login_top&#x27;,\n",
       "                                  &#x27;demo_page_top&#x27;, &#x27;dsls&#x27;,\n",
       "                                  &#x27;help_me_buy_evt_count&#x27;, &#x27;offer_page_top&#x27;,\n",
       "                                  &#x27;pageviews&#x27;, &#x27;phone_clicks_evt_count&#x27;,\n",
       "                                  &#x27;security_solutions_page_top&#x27;,\n",
       "                                  &#x27;sessionDuration&#x27;, &#x27;sessions&#x27;,\n",
       "                                  &#x27;storelocator_top&#x27;, &#x27;successbookdemo_top&#x27;,\n",
       "                                  &#x27;vacuum_cleaner_page_top&#x27;,\n",
       "                                  &#x27;water_purifier_page_top&#x27;]),\n",
       "                                (&#x27;catvars&#x27;,\n",
       "                                 Pipeline(steps=[(&#x27;ohencoder&#x27;,\n",
       "                                                  OneHotEncoder(handle_unknown=&#x27;ignore&#x27;))]),\n",
       "                                 [&#x27;country&#x27;, &#x27;device&#x27;, &#x27;region&#x27;,\n",
       "                                  &#x27;sourceMedium&#x27;])])</pre></div></div></div><div class=\"sk-parallel\"><div class=\"sk-parallel-item\"><div class=\"sk-item\"><div class=\"sk-label-container\"><div class=\"sk-label sk-toggleable\"><input class=\"sk-toggleable__control sk-hidden--visually\" id=\"f9533fab-0de7-4364-be98-b29486eba42a\" type=\"checkbox\" ><label for=\"f9533fab-0de7-4364-be98-b29486eba42a\" class=\"sk-toggleable__label sk-toggleable__label-arrow\">num_not_imputed</label><div class=\"sk-toggleable__content\"><pre>[&#x27;DemoReqPg_CallClicks_evt_count&#x27;, &#x27;air_purifier_page_top&#x27;, &#x27;bounces&#x27;, &#x27;checkout_page_top&#x27;, &#x27;contactus_top&#x27;, &#x27;customer_service_amc_login_top&#x27;, &#x27;customer_service_request_login_top&#x27;, &#x27;demo_page_top&#x27;, &#x27;dsls&#x27;, &#x27;help_me_buy_evt_count&#x27;, &#x27;offer_page_top&#x27;, &#x27;pageviews&#x27;, &#x27;phone_clicks_evt_count&#x27;, &#x27;security_solutions_page_top&#x27;, &#x27;sessionDuration&#x27;, &#x27;sessions&#x27;, &#x27;storelocator_top&#x27;, &#x27;successbookdemo_top&#x27;, &#x27;vacuum_cleaner_page_top&#x27;, &#x27;water_purifier_page_top&#x27;]</pre></div></div></div><div class=\"sk-serial\"><div class=\"sk-item\"><div class=\"sk-serial\"><div class=\"sk-item\"><div class=\"sk-estimator sk-toggleable\"><input class=\"sk-toggleable__control sk-hidden--visually\" id=\"e8e87fa9-3008-4b84-8402-7f68ecb22a1f\" type=\"checkbox\" ><label for=\"e8e87fa9-3008-4b84-8402-7f68ecb22a1f\" class=\"sk-toggleable__label sk-toggleable__label-arrow\">StandardScaler</label><div class=\"sk-toggleable__content\"><pre>StandardScaler()</pre></div></div></div></div></div></div></div></div><div class=\"sk-parallel-item\"><div class=\"sk-item\"><div class=\"sk-label-container\"><div class=\"sk-label sk-toggleable\"><input class=\"sk-toggleable__control sk-hidden--visually\" id=\"a4737d1a-5d78-4738-8b87-2e752e82df4a\" type=\"checkbox\" ><label for=\"a4737d1a-5d78-4738-8b87-2e752e82df4a\" class=\"sk-toggleable__label sk-toggleable__label-arrow\">catvars</label><div class=\"sk-toggleable__content\"><pre>[&#x27;country&#x27;, &#x27;device&#x27;, &#x27;region&#x27;, &#x27;sourceMedium&#x27;]</pre></div></div></div><div class=\"sk-serial\"><div class=\"sk-item\"><div class=\"sk-serial\"><div class=\"sk-item\"><div class=\"sk-estimator sk-toggleable\"><input class=\"sk-toggleable__control sk-hidden--visually\" id=\"d6b1e4ff-f844-4a0c-96e3-8bed79548852\" type=\"checkbox\" ><label for=\"d6b1e4ff-f844-4a0c-96e3-8bed79548852\" class=\"sk-toggleable__label sk-toggleable__label-arrow\">OneHotEncoder</label><div class=\"sk-toggleable__content\"><pre>OneHotEncoder(handle_unknown=&#x27;ignore&#x27;)</pre></div></div></div></div></div></div></div></div></div></div><div class=\"sk-item\"><div class=\"sk-estimator sk-toggleable\"><input class=\"sk-toggleable__control sk-hidden--visually\" id=\"a9de3c9d-db84-486c-a0dc-0268d297569d\" type=\"checkbox\" ><label for=\"a9de3c9d-db84-486c-a0dc-0268d297569d\" class=\"sk-toggleable__label sk-toggleable__label-arrow\">LogisticRegression</label><div class=\"sk-toggleable__content\"><pre>LogisticRegression()</pre></div></div></div></div></div></div></div>"
      ],
      "text/plain": [
       "Pipeline(steps=[('preprocessor',\n",
       "                 ColumnTransformer(transformers=[('num_not_imputed',\n",
       "                                                  Pipeline(steps=[('scaler',\n",
       "                                                                   StandardScaler())]),\n",
       "                                                  ['DemoReqPg_CallClicks_evt_count',\n",
       "                                                   'air_purifier_page_top',\n",
       "                                                   'bounces',\n",
       "                                                   'checkout_page_top',\n",
       "                                                   'contactus_top',\n",
       "                                                   'customer_service_amc_login_top',\n",
       "                                                   'customer_service_request_login_top',\n",
       "                                                   'demo_page_top', 'dsls',\n",
       "                                                   'help_me_buy_evt_count',...\n",
       "                                                   'pageviews',\n",
       "                                                   'phone_clicks_evt_count',\n",
       "                                                   'security_solutions_page_top',\n",
       "                                                   'sessionDuration',\n",
       "                                                   'sessions',\n",
       "                                                   'storelocator_top',\n",
       "                                                   'successbookdemo_top',\n",
       "                                                   'vacuum_cleaner_page_top',\n",
       "                                                   'water_purifier_page_top']),\n",
       "                                                 ('catvars',\n",
       "                                                  Pipeline(steps=[('ohencoder',\n",
       "                                                                   OneHotEncoder(handle_unknown='ignore'))]),\n",
       "                                                  ['country', 'device',\n",
       "                                                   'region',\n",
       "                                                   'sourceMedium'])])),\n",
       "                ('classifier', LogisticRegression())])"
      ]
     },
     "execution_count": 35,
     "metadata": {},
     "output_type": "execute_result"
    }
   ],
   "source": [
    "Log_reg_e1"
   ]
  },
  {
   "cell_type": "code",
   "execution_count": 36,
   "id": "5c062505",
   "metadata": {},
   "outputs": [],
   "source": [
    "from sklearn.metrics import accuracy_score, confusion_matrix\n",
    "from sklearn.metrics import classification_report"
   ]
  },
  {
   "cell_type": "code",
   "execution_count": 39,
   "id": "af2500ea",
   "metadata": {},
   "outputs": [
    {
     "name": "stdout",
     "output_type": "stream",
     "text": [
      "LG:               precision    recall  f1-score   support\n",
      "\n",
      "           0       0.68      0.64      0.66      1638\n",
      "           1       0.62      0.66      0.64      1470\n",
      "\n",
      "    accuracy                           0.65      3108\n",
      "   macro avg       0.65      0.65      0.65      3108\n",
      "weighted avg       0.65      0.65      0.65      3108\n",
      " [[1051  503]\n",
      " [ 587  967]]\n",
      " \n",
      "Accuracy Score is  : 0.6492921492921493\n"
     ]
    }
   ],
   "source": [
    "LOGy_pred = Log_reg_e1.predict(X_over_e1)\n",
    "print(\"LG:\",classification_report(LOGy_pred,y_over_e1),confusion_matrix(y_over_e1, LOGy_pred))\n",
    "print(\" \")\n",
    "print('Accuracy Score is  :' ,Log_reg_e1.score(X_over_e1,y_over_e1))"
   ]
  },
  {
   "cell_type": "markdown",
   "id": "2d4c0115",
   "metadata": {},
   "source": [
    "K fold crossvalidation"
   ]
  },
  {
   "cell_type": "code",
   "execution_count": 40,
   "id": "f4d8eafa",
   "metadata": {},
   "outputs": [],
   "source": [
    "from sklearn.model_selection import cross_val_score"
   ]
  },
  {
   "cell_type": "code",
   "execution_count": 41,
   "id": "62c9d4b0",
   "metadata": {},
   "outputs": [],
   "source": [
    "scores = cross_val_score( Log_reg_e1,\n",
    "                          X_over_e1,\n",
    "                          y_over_e1,\n",
    "                          cv = 10,\n",
    "                          scoring = 'accuracy')"
   ]
  },
  {
   "cell_type": "code",
   "execution_count": 42,
   "id": "ea8eb848",
   "metadata": {},
   "outputs": [
    {
     "data": {
      "text/plain": [
       "array([0.60450161, 0.67524116, 0.66559486, 0.63022508, 0.65916399,\n",
       "       0.63022508, 0.63344051, 0.59485531, 0.6       , 0.60322581])"
      ]
     },
     "execution_count": 42,
     "metadata": {},
     "output_type": "execute_result"
    }
   ],
   "source": [
    "scores"
   ]
  },
  {
   "cell_type": "code",
   "execution_count": 43,
   "id": "f6ebab87",
   "metadata": {},
   "outputs": [
    {
     "data": {
      "text/plain": [
       "0.6296473394876051"
      ]
     },
     "execution_count": 43,
     "metadata": {},
     "output_type": "execute_result"
    }
   ],
   "source": [
    "scores.mean()"
   ]
  },
  {
   "cell_type": "code",
   "execution_count": 44,
   "id": "ecd2cb6c",
   "metadata": {},
   "outputs": [
    {
     "data": {
      "text/plain": [
       "0.02770769564201863"
      ]
     },
     "execution_count": 44,
     "metadata": {},
     "output_type": "execute_result"
    }
   ],
   "source": [
    "scores.std()"
   ]
  },
  {
   "cell_type": "code",
   "execution_count": 46,
   "id": "e1b1f4c6",
   "metadata": {},
   "outputs": [
    {
     "name": "stdout",
     "output_type": "stream",
     "text": [
      "Accuracy Score : 0.6730283911671924\n",
      "Precision Score : 0.0955743879472693\n",
      "Recall Score : 0.571830985915493\n",
      "F1 Score : 0.16377571601452195\n"
     ]
    }
   ],
   "source": [
    "from sklearn.metrics import accuracy_score,recall_score,precision_score,f1_score\n",
    "\n",
    "Log_test_pred = Log_reg_e1.predict(X_test_e1)\n",
    "\n",
    "print('Accuracy Score : ' + str(accuracy_score(y_test_e1,Log_test_pred)))\n",
    "print('Precision Score : ' + str(precision_score(y_test_e1,Log_test_pred)))\n",
    "print('Recall Score : ' + str(recall_score(y_test_e1,Log_test_pred)))\n",
    "print('F1 Score : ' + str(f1_score(y_test_e1,Log_test_pred)))"
   ]
  },
  {
   "cell_type": "markdown",
   "id": "8b8375de",
   "metadata": {},
   "source": [
    "Grid Search"
   ]
  },
  {
   "cell_type": "code",
   "execution_count": 47,
   "id": "558a401f",
   "metadata": {},
   "outputs": [],
   "source": [
    "from sklearn.model_selection import GridSearchCV"
   ]
  },
  {
   "cell_type": "code",
   "execution_count": 48,
   "id": "18e773be",
   "metadata": {},
   "outputs": [],
   "source": [
    "grid_values = {'penalty': ['l1', 'l2'],'C':[0.001,.009,0.01,.09,1,5,10,25]}"
   ]
  },
  {
   "cell_type": "code",
   "execution_count": 49,
   "id": "ae8a6297",
   "metadata": {},
   "outputs": [],
   "source": [
    "#log_reg_grid1  = GridSearchCV(Log_reg, param_grid = log_reg_params,scoring = 'recall')\n",
    "clf = LogisticRegression()\n",
    "grid_clf_acc = GridSearchCV(clf, param_grid = grid_values,scoring = 'precision')"
   ]
  },
  {
   "cell_type": "code",
   "execution_count": 52,
   "id": "0c7310fc",
   "metadata": {},
   "outputs": [],
   "source": [
    "from sklearn.linear_model import LogisticRegression\n",
    "Log_reg1 = Pipeline(\n",
    "    steps=[(\"preprocessor\", preprocessor), (\"classifier\", grid_clf_acc)]\n",
    ")"
   ]
  },
  {
   "cell_type": "code",
   "execution_count": 53,
   "id": "368ba737",
   "metadata": {},
   "outputs": [
    {
     "data": {
      "text/html": [
       "<style>#sk-8b14edb9-bfd6-43d3-a3ad-5e836d00f6ad {color: black;background-color: white;}#sk-8b14edb9-bfd6-43d3-a3ad-5e836d00f6ad pre{padding: 0;}#sk-8b14edb9-bfd6-43d3-a3ad-5e836d00f6ad div.sk-toggleable {background-color: white;}#sk-8b14edb9-bfd6-43d3-a3ad-5e836d00f6ad label.sk-toggleable__label {cursor: pointer;display: block;width: 100%;margin-bottom: 0;padding: 0.3em;box-sizing: border-box;text-align: center;}#sk-8b14edb9-bfd6-43d3-a3ad-5e836d00f6ad label.sk-toggleable__label-arrow:before {content: \"▸\";float: left;margin-right: 0.25em;color: #696969;}#sk-8b14edb9-bfd6-43d3-a3ad-5e836d00f6ad label.sk-toggleable__label-arrow:hover:before {color: black;}#sk-8b14edb9-bfd6-43d3-a3ad-5e836d00f6ad div.sk-estimator:hover label.sk-toggleable__label-arrow:before {color: black;}#sk-8b14edb9-bfd6-43d3-a3ad-5e836d00f6ad div.sk-toggleable__content {max-height: 0;max-width: 0;overflow: hidden;text-align: left;background-color: #f0f8ff;}#sk-8b14edb9-bfd6-43d3-a3ad-5e836d00f6ad div.sk-toggleable__content pre {margin: 0.2em;color: black;border-radius: 0.25em;background-color: #f0f8ff;}#sk-8b14edb9-bfd6-43d3-a3ad-5e836d00f6ad input.sk-toggleable__control:checked~div.sk-toggleable__content {max-height: 200px;max-width: 100%;overflow: auto;}#sk-8b14edb9-bfd6-43d3-a3ad-5e836d00f6ad input.sk-toggleable__control:checked~label.sk-toggleable__label-arrow:before {content: \"▾\";}#sk-8b14edb9-bfd6-43d3-a3ad-5e836d00f6ad div.sk-estimator input.sk-toggleable__control:checked~label.sk-toggleable__label {background-color: #d4ebff;}#sk-8b14edb9-bfd6-43d3-a3ad-5e836d00f6ad div.sk-label input.sk-toggleable__control:checked~label.sk-toggleable__label {background-color: #d4ebff;}#sk-8b14edb9-bfd6-43d3-a3ad-5e836d00f6ad input.sk-hidden--visually {border: 0;clip: rect(1px 1px 1px 1px);clip: rect(1px, 1px, 1px, 1px);height: 1px;margin: -1px;overflow: hidden;padding: 0;position: absolute;width: 1px;}#sk-8b14edb9-bfd6-43d3-a3ad-5e836d00f6ad div.sk-estimator {font-family: monospace;background-color: #f0f8ff;border: 1px dotted black;border-radius: 0.25em;box-sizing: border-box;margin-bottom: 0.5em;}#sk-8b14edb9-bfd6-43d3-a3ad-5e836d00f6ad div.sk-estimator:hover {background-color: #d4ebff;}#sk-8b14edb9-bfd6-43d3-a3ad-5e836d00f6ad div.sk-parallel-item::after {content: \"\";width: 100%;border-bottom: 1px solid gray;flex-grow: 1;}#sk-8b14edb9-bfd6-43d3-a3ad-5e836d00f6ad div.sk-label:hover label.sk-toggleable__label {background-color: #d4ebff;}#sk-8b14edb9-bfd6-43d3-a3ad-5e836d00f6ad div.sk-serial::before {content: \"\";position: absolute;border-left: 1px solid gray;box-sizing: border-box;top: 2em;bottom: 0;left: 50%;}#sk-8b14edb9-bfd6-43d3-a3ad-5e836d00f6ad div.sk-serial {display: flex;flex-direction: column;align-items: center;background-color: white;padding-right: 0.2em;padding-left: 0.2em;}#sk-8b14edb9-bfd6-43d3-a3ad-5e836d00f6ad div.sk-item {z-index: 1;}#sk-8b14edb9-bfd6-43d3-a3ad-5e836d00f6ad div.sk-parallel {display: flex;align-items: stretch;justify-content: center;background-color: white;}#sk-8b14edb9-bfd6-43d3-a3ad-5e836d00f6ad div.sk-parallel::before {content: \"\";position: absolute;border-left: 1px solid gray;box-sizing: border-box;top: 2em;bottom: 0;left: 50%;}#sk-8b14edb9-bfd6-43d3-a3ad-5e836d00f6ad div.sk-parallel-item {display: flex;flex-direction: column;position: relative;background-color: white;}#sk-8b14edb9-bfd6-43d3-a3ad-5e836d00f6ad div.sk-parallel-item:first-child::after {align-self: flex-end;width: 50%;}#sk-8b14edb9-bfd6-43d3-a3ad-5e836d00f6ad div.sk-parallel-item:last-child::after {align-self: flex-start;width: 50%;}#sk-8b14edb9-bfd6-43d3-a3ad-5e836d00f6ad div.sk-parallel-item:only-child::after {width: 0;}#sk-8b14edb9-bfd6-43d3-a3ad-5e836d00f6ad div.sk-dashed-wrapped {border: 1px dashed gray;margin: 0 0.4em 0.5em 0.4em;box-sizing: border-box;padding-bottom: 0.4em;background-color: white;position: relative;}#sk-8b14edb9-bfd6-43d3-a3ad-5e836d00f6ad div.sk-label label {font-family: monospace;font-weight: bold;background-color: white;display: inline-block;line-height: 1.2em;}#sk-8b14edb9-bfd6-43d3-a3ad-5e836d00f6ad div.sk-label-container {position: relative;z-index: 2;text-align: center;}#sk-8b14edb9-bfd6-43d3-a3ad-5e836d00f6ad div.sk-container {/* jupyter's `normalize.less` sets `[hidden] { display: none; }` but bootstrap.min.css set `[hidden] { display: none !important; }` so we also need the `!important` here to be able to override the default hidden behavior on the sphinx rendered scikit-learn.org. See: https://github.com/scikit-learn/scikit-learn/issues/21755 */display: inline-block !important;position: relative;}#sk-8b14edb9-bfd6-43d3-a3ad-5e836d00f6ad div.sk-text-repr-fallback {display: none;}</style><div id=\"sk-8b14edb9-bfd6-43d3-a3ad-5e836d00f6ad\" class=\"sk-top-container\"><div class=\"sk-text-repr-fallback\"><pre>Pipeline(steps=[(&#x27;preprocessor&#x27;,\n",
       "                 ColumnTransformer(transformers=[(&#x27;num_not_imputed&#x27;,\n",
       "                                                  Pipeline(steps=[(&#x27;scaler&#x27;,\n",
       "                                                                   StandardScaler())]),\n",
       "                                                  [&#x27;DemoReqPg_CallClicks_evt_count&#x27;,\n",
       "                                                   &#x27;air_purifier_page_top&#x27;,\n",
       "                                                   &#x27;bounces&#x27;,\n",
       "                                                   &#x27;checkout_page_top&#x27;,\n",
       "                                                   &#x27;contactus_top&#x27;,\n",
       "                                                   &#x27;customer_service_amc_login_top&#x27;,\n",
       "                                                   &#x27;customer_service_request_login_top&#x27;,\n",
       "                                                   &#x27;demo_page_top&#x27;, &#x27;dsls&#x27;,\n",
       "                                                   &#x27;help_me_buy_evt_count&#x27;,...\n",
       "                                                   &#x27;successbookdemo_top&#x27;,\n",
       "                                                   &#x27;vacuum_cleaner_page_top&#x27;,\n",
       "                                                   &#x27;water_purifier_page_top&#x27;]),\n",
       "                                                 (&#x27;catvars&#x27;,\n",
       "                                                  Pipeline(steps=[(&#x27;ohencoder&#x27;,\n",
       "                                                                   OneHotEncoder(handle_unknown=&#x27;ignore&#x27;))]),\n",
       "                                                  [&#x27;country&#x27;, &#x27;device&#x27;,\n",
       "                                                   &#x27;region&#x27;,\n",
       "                                                   &#x27;sourceMedium&#x27;])])),\n",
       "                (&#x27;classifier&#x27;,\n",
       "                 GridSearchCV(estimator=LogisticRegression(),\n",
       "                              param_grid={&#x27;C&#x27;: [0.001, 0.009, 0.01, 0.09, 1, 5,\n",
       "                                                10, 25],\n",
       "                                          &#x27;penalty&#x27;: [&#x27;l1&#x27;, &#x27;l2&#x27;]},\n",
       "                              scoring=&#x27;precision&#x27;))])</pre><b>Please rerun this cell to show the HTML repr or trust the notebook.</b></div><div class=\"sk-container\" hidden><div class=\"sk-item sk-dashed-wrapped\"><div class=\"sk-label-container\"><div class=\"sk-label sk-toggleable\"><input class=\"sk-toggleable__control sk-hidden--visually\" id=\"54fc1965-0a28-40b2-9a6d-340153f60a4c\" type=\"checkbox\" ><label for=\"54fc1965-0a28-40b2-9a6d-340153f60a4c\" class=\"sk-toggleable__label sk-toggleable__label-arrow\">Pipeline</label><div class=\"sk-toggleable__content\"><pre>Pipeline(steps=[(&#x27;preprocessor&#x27;,\n",
       "                 ColumnTransformer(transformers=[(&#x27;num_not_imputed&#x27;,\n",
       "                                                  Pipeline(steps=[(&#x27;scaler&#x27;,\n",
       "                                                                   StandardScaler())]),\n",
       "                                                  [&#x27;DemoReqPg_CallClicks_evt_count&#x27;,\n",
       "                                                   &#x27;air_purifier_page_top&#x27;,\n",
       "                                                   &#x27;bounces&#x27;,\n",
       "                                                   &#x27;checkout_page_top&#x27;,\n",
       "                                                   &#x27;contactus_top&#x27;,\n",
       "                                                   &#x27;customer_service_amc_login_top&#x27;,\n",
       "                                                   &#x27;customer_service_request_login_top&#x27;,\n",
       "                                                   &#x27;demo_page_top&#x27;, &#x27;dsls&#x27;,\n",
       "                                                   &#x27;help_me_buy_evt_count&#x27;,...\n",
       "                                                   &#x27;successbookdemo_top&#x27;,\n",
       "                                                   &#x27;vacuum_cleaner_page_top&#x27;,\n",
       "                                                   &#x27;water_purifier_page_top&#x27;]),\n",
       "                                                 (&#x27;catvars&#x27;,\n",
       "                                                  Pipeline(steps=[(&#x27;ohencoder&#x27;,\n",
       "                                                                   OneHotEncoder(handle_unknown=&#x27;ignore&#x27;))]),\n",
       "                                                  [&#x27;country&#x27;, &#x27;device&#x27;,\n",
       "                                                   &#x27;region&#x27;,\n",
       "                                                   &#x27;sourceMedium&#x27;])])),\n",
       "                (&#x27;classifier&#x27;,\n",
       "                 GridSearchCV(estimator=LogisticRegression(),\n",
       "                              param_grid={&#x27;C&#x27;: [0.001, 0.009, 0.01, 0.09, 1, 5,\n",
       "                                                10, 25],\n",
       "                                          &#x27;penalty&#x27;: [&#x27;l1&#x27;, &#x27;l2&#x27;]},\n",
       "                              scoring=&#x27;precision&#x27;))])</pre></div></div></div><div class=\"sk-serial\"><div class=\"sk-item sk-dashed-wrapped\"><div class=\"sk-label-container\"><div class=\"sk-label sk-toggleable\"><input class=\"sk-toggleable__control sk-hidden--visually\" id=\"bd0e4285-c7dc-48ab-9468-f08057b7ed5b\" type=\"checkbox\" ><label for=\"bd0e4285-c7dc-48ab-9468-f08057b7ed5b\" class=\"sk-toggleable__label sk-toggleable__label-arrow\">preprocessor: ColumnTransformer</label><div class=\"sk-toggleable__content\"><pre>ColumnTransformer(transformers=[(&#x27;num_not_imputed&#x27;,\n",
       "                                 Pipeline(steps=[(&#x27;scaler&#x27;, StandardScaler())]),\n",
       "                                 [&#x27;DemoReqPg_CallClicks_evt_count&#x27;,\n",
       "                                  &#x27;air_purifier_page_top&#x27;, &#x27;bounces&#x27;,\n",
       "                                  &#x27;checkout_page_top&#x27;, &#x27;contactus_top&#x27;,\n",
       "                                  &#x27;customer_service_amc_login_top&#x27;,\n",
       "                                  &#x27;customer_service_request_login_top&#x27;,\n",
       "                                  &#x27;demo_page_top&#x27;, &#x27;dsls&#x27;,\n",
       "                                  &#x27;help_me_buy_evt_count&#x27;, &#x27;offer_page_top&#x27;,\n",
       "                                  &#x27;pageviews&#x27;, &#x27;phone_clicks_evt_count&#x27;,\n",
       "                                  &#x27;security_solutions_page_top&#x27;,\n",
       "                                  &#x27;sessionDuration&#x27;, &#x27;sessions&#x27;,\n",
       "                                  &#x27;storelocator_top&#x27;, &#x27;successbookdemo_top&#x27;,\n",
       "                                  &#x27;vacuum_cleaner_page_top&#x27;,\n",
       "                                  &#x27;water_purifier_page_top&#x27;]),\n",
       "                                (&#x27;catvars&#x27;,\n",
       "                                 Pipeline(steps=[(&#x27;ohencoder&#x27;,\n",
       "                                                  OneHotEncoder(handle_unknown=&#x27;ignore&#x27;))]),\n",
       "                                 [&#x27;country&#x27;, &#x27;device&#x27;, &#x27;region&#x27;,\n",
       "                                  &#x27;sourceMedium&#x27;])])</pre></div></div></div><div class=\"sk-parallel\"><div class=\"sk-parallel-item\"><div class=\"sk-item\"><div class=\"sk-label-container\"><div class=\"sk-label sk-toggleable\"><input class=\"sk-toggleable__control sk-hidden--visually\" id=\"68008ccc-2eee-4d8d-9049-691c6d760a35\" type=\"checkbox\" ><label for=\"68008ccc-2eee-4d8d-9049-691c6d760a35\" class=\"sk-toggleable__label sk-toggleable__label-arrow\">num_not_imputed</label><div class=\"sk-toggleable__content\"><pre>[&#x27;DemoReqPg_CallClicks_evt_count&#x27;, &#x27;air_purifier_page_top&#x27;, &#x27;bounces&#x27;, &#x27;checkout_page_top&#x27;, &#x27;contactus_top&#x27;, &#x27;customer_service_amc_login_top&#x27;, &#x27;customer_service_request_login_top&#x27;, &#x27;demo_page_top&#x27;, &#x27;dsls&#x27;, &#x27;help_me_buy_evt_count&#x27;, &#x27;offer_page_top&#x27;, &#x27;pageviews&#x27;, &#x27;phone_clicks_evt_count&#x27;, &#x27;security_solutions_page_top&#x27;, &#x27;sessionDuration&#x27;, &#x27;sessions&#x27;, &#x27;storelocator_top&#x27;, &#x27;successbookdemo_top&#x27;, &#x27;vacuum_cleaner_page_top&#x27;, &#x27;water_purifier_page_top&#x27;]</pre></div></div></div><div class=\"sk-serial\"><div class=\"sk-item\"><div class=\"sk-serial\"><div class=\"sk-item\"><div class=\"sk-estimator sk-toggleable\"><input class=\"sk-toggleable__control sk-hidden--visually\" id=\"86e672e9-48e8-4bff-8de5-7cc2823623e2\" type=\"checkbox\" ><label for=\"86e672e9-48e8-4bff-8de5-7cc2823623e2\" class=\"sk-toggleable__label sk-toggleable__label-arrow\">StandardScaler</label><div class=\"sk-toggleable__content\"><pre>StandardScaler()</pre></div></div></div></div></div></div></div></div><div class=\"sk-parallel-item\"><div class=\"sk-item\"><div class=\"sk-label-container\"><div class=\"sk-label sk-toggleable\"><input class=\"sk-toggleable__control sk-hidden--visually\" id=\"683d3e74-fd50-48e6-9a00-9a148a9b32fa\" type=\"checkbox\" ><label for=\"683d3e74-fd50-48e6-9a00-9a148a9b32fa\" class=\"sk-toggleable__label sk-toggleable__label-arrow\">catvars</label><div class=\"sk-toggleable__content\"><pre>[&#x27;country&#x27;, &#x27;device&#x27;, &#x27;region&#x27;, &#x27;sourceMedium&#x27;]</pre></div></div></div><div class=\"sk-serial\"><div class=\"sk-item\"><div class=\"sk-serial\"><div class=\"sk-item\"><div class=\"sk-estimator sk-toggleable\"><input class=\"sk-toggleable__control sk-hidden--visually\" id=\"1d36f919-56da-495a-92c7-d532b7aef32b\" type=\"checkbox\" ><label for=\"1d36f919-56da-495a-92c7-d532b7aef32b\" class=\"sk-toggleable__label sk-toggleable__label-arrow\">OneHotEncoder</label><div class=\"sk-toggleable__content\"><pre>OneHotEncoder(handle_unknown=&#x27;ignore&#x27;)</pre></div></div></div></div></div></div></div></div></div></div><div class=\"sk-item sk-dashed-wrapped\"><div class=\"sk-label-container\"><div class=\"sk-label sk-toggleable\"><input class=\"sk-toggleable__control sk-hidden--visually\" id=\"7b4b8890-a8d0-41e6-af9c-9594633027fd\" type=\"checkbox\" ><label for=\"7b4b8890-a8d0-41e6-af9c-9594633027fd\" class=\"sk-toggleable__label sk-toggleable__label-arrow\">classifier: GridSearchCV</label><div class=\"sk-toggleable__content\"><pre>GridSearchCV(estimator=LogisticRegression(),\n",
       "             param_grid={&#x27;C&#x27;: [0.001, 0.009, 0.01, 0.09, 1, 5, 10, 25],\n",
       "                         &#x27;penalty&#x27;: [&#x27;l1&#x27;, &#x27;l2&#x27;]},\n",
       "             scoring=&#x27;precision&#x27;)</pre></div></div></div><div class=\"sk-parallel\"><div class=\"sk-parallel-item\"><div class=\"sk-item\"><div class=\"sk-serial\"><div class=\"sk-item\"><div class=\"sk-estimator sk-toggleable\"><input class=\"sk-toggleable__control sk-hidden--visually\" id=\"49ed14a6-ff79-4563-867d-c9e6e0744d0b\" type=\"checkbox\" ><label for=\"49ed14a6-ff79-4563-867d-c9e6e0744d0b\" class=\"sk-toggleable__label sk-toggleable__label-arrow\">LogisticRegression</label><div class=\"sk-toggleable__content\"><pre>LogisticRegression()</pre></div></div></div></div></div></div></div></div></div></div></div></div>"
      ],
      "text/plain": [
       "Pipeline(steps=[('preprocessor',\n",
       "                 ColumnTransformer(transformers=[('num_not_imputed',\n",
       "                                                  Pipeline(steps=[('scaler',\n",
       "                                                                   StandardScaler())]),\n",
       "                                                  ['DemoReqPg_CallClicks_evt_count',\n",
       "                                                   'air_purifier_page_top',\n",
       "                                                   'bounces',\n",
       "                                                   'checkout_page_top',\n",
       "                                                   'contactus_top',\n",
       "                                                   'customer_service_amc_login_top',\n",
       "                                                   'customer_service_request_login_top',\n",
       "                                                   'demo_page_top', 'dsls',\n",
       "                                                   'help_me_buy_evt_count',...\n",
       "                                                   'successbookdemo_top',\n",
       "                                                   'vacuum_cleaner_page_top',\n",
       "                                                   'water_purifier_page_top']),\n",
       "                                                 ('catvars',\n",
       "                                                  Pipeline(steps=[('ohencoder',\n",
       "                                                                   OneHotEncoder(handle_unknown='ignore'))]),\n",
       "                                                  ['country', 'device',\n",
       "                                                   'region',\n",
       "                                                   'sourceMedium'])])),\n",
       "                ('classifier',\n",
       "                 GridSearchCV(estimator=LogisticRegression(),\n",
       "                              param_grid={'C': [0.001, 0.009, 0.01, 0.09, 1, 5,\n",
       "                                                10, 25],\n",
       "                                          'penalty': ['l1', 'l2']},\n",
       "                              scoring='precision'))])"
      ]
     },
     "execution_count": 53,
     "metadata": {},
     "output_type": "execute_result"
    }
   ],
   "source": [
    "Log_reg1.fit(X_over_e1,y_over_e1)"
   ]
  },
  {
   "cell_type": "code",
   "execution_count": 54,
   "id": "3640aa25",
   "metadata": {},
   "outputs": [
    {
     "name": "stdout",
     "output_type": "stream",
     "text": [
      "Accuracy Score : 0.7425867507886436\n",
      "Precision Score : 0.1009375\n",
      "Recall Score : 0.45492957746478874\n",
      "F1 Score : 0.16521739130434782\n"
     ]
    },
    {
     "data": {
      "text/plain": [
       "array([[9093, 2877],\n",
       "       [ 387,  323]], dtype=int64)"
      ]
     },
     "execution_count": 54,
     "metadata": {},
     "output_type": "execute_result"
    }
   ],
   "source": [
    "from sklearn.metrics import accuracy_score,recall_score,precision_score,f1_score\n",
    "\n",
    "#Predict values based on new parameters\n",
    "y_pred_acc = Log_reg1.predict(X_test_e1)\n",
    "# New Model Evaluation metrics \n",
    "print('Accuracy Score : ' + str(accuracy_score(y_test_e1,y_pred_acc)))\n",
    "print('Precision Score : ' + str(precision_score(y_test_e1,y_pred_acc)))\n",
    "print('Recall Score : ' + str(recall_score(y_test_e1,y_pred_acc)))\n",
    "print('F1 Score : ' + str(f1_score(y_test_e1,y_pred_acc)))\n",
    "#Logistic Regression (Grid Search) Confusion matrix\n",
    "confusion_matrix(y_test_e1,y_pred_acc)"
   ]
  },
  {
   "cell_type": "markdown",
   "id": "27404fe3",
   "metadata": {},
   "source": [
    "L1 based feature selection"
   ]
  },
  {
   "cell_type": "code",
   "execution_count": 55,
   "id": "e37c4e9c",
   "metadata": {},
   "outputs": [],
   "source": [
    "from sklearn.preprocessing import OneHotEncoder\n",
    "ohe_encoder = OneHotEncoder()\n",
    "cat_features = ['country','device','region','sourceMedium']\n",
    "ohe_encoder.fit(eureka_data_e1[cat_features])\n",
    "encoded_cat_names = list(ohe_encoder.get_feature_names(cat_features))\n",
    "encoded_cols = ohe_encoder.transform(eureka_data_e1[cat_features])\n",
    "encoded_cols_df = pd.DataFrame.sparse.from_spmatrix(encoded_cols.tocsc(), \n",
    "                                                columns=encoded_cat_names)"
   ]
  },
  {
   "cell_type": "code",
   "execution_count": 56,
   "id": "8054f5c5",
   "metadata": {},
   "outputs": [],
   "source": [
    "from sklearn.linear_model import Lasso, LogisticRegression\n",
    "from sklearn.feature_selection import SelectFromModel\n",
    "from sklearn.preprocessing import StandardScaler"
   ]
  },
  {
   "cell_type": "code",
   "execution_count": 57,
   "id": "a2c26ea7",
   "metadata": {},
   "outputs": [],
   "source": [
    "eureka_data_e1=eureka_data_e1.drop('country',axis=1)\n",
    "eureka_data_e1=eureka_data_e1.drop('device',axis=1)\n",
    "eureka_data_e1=eureka_data_e1.drop('region',axis=1)\n",
    "eureka_data_e1=eureka_data_e1.drop('sourceMedium',axis=1)"
   ]
  },
  {
   "cell_type": "code",
   "execution_count": 58,
   "id": "e9b826f8",
   "metadata": {},
   "outputs": [],
   "source": [
    "data_out = pd.concat([eureka_data_e1, encoded_cols_df], axis=1)\n"
   ]
  },
  {
   "cell_type": "code",
   "execution_count": 59,
   "id": "d893d019",
   "metadata": {},
   "outputs": [],
   "source": [
    "train_df, test_df = train_test_split(data_out,\n",
    "                                     train_size = 0.7,\n",
    "                                     random_state = 100)"
   ]
  },
  {
   "cell_type": "code",
   "execution_count": 60,
   "id": "a71bf8fa",
   "metadata": {},
   "outputs": [],
   "source": [
    "x_features = list(train_df.columns)\n",
    "x_features.remove('converted')"
   ]
  },
  {
   "cell_type": "code",
   "execution_count": 61,
   "id": "b4da8aae",
   "metadata": {},
   "outputs": [],
   "source": [
    "logreg_feat = LogisticRegression( penalty = 'l1', C = .1, solver = 'liblinear' )"
   ]
  },
  {
   "cell_type": "code",
   "execution_count": 62,
   "id": "988e5d1b",
   "metadata": {},
   "outputs": [
    {
     "data": {
      "text/html": [
       "<style>#sk-c3cb29e9-68e4-4b7a-a209-b317012f6d2c {color: black;background-color: white;}#sk-c3cb29e9-68e4-4b7a-a209-b317012f6d2c pre{padding: 0;}#sk-c3cb29e9-68e4-4b7a-a209-b317012f6d2c div.sk-toggleable {background-color: white;}#sk-c3cb29e9-68e4-4b7a-a209-b317012f6d2c label.sk-toggleable__label {cursor: pointer;display: block;width: 100%;margin-bottom: 0;padding: 0.3em;box-sizing: border-box;text-align: center;}#sk-c3cb29e9-68e4-4b7a-a209-b317012f6d2c label.sk-toggleable__label-arrow:before {content: \"▸\";float: left;margin-right: 0.25em;color: #696969;}#sk-c3cb29e9-68e4-4b7a-a209-b317012f6d2c label.sk-toggleable__label-arrow:hover:before {color: black;}#sk-c3cb29e9-68e4-4b7a-a209-b317012f6d2c div.sk-estimator:hover label.sk-toggleable__label-arrow:before {color: black;}#sk-c3cb29e9-68e4-4b7a-a209-b317012f6d2c div.sk-toggleable__content {max-height: 0;max-width: 0;overflow: hidden;text-align: left;background-color: #f0f8ff;}#sk-c3cb29e9-68e4-4b7a-a209-b317012f6d2c div.sk-toggleable__content pre {margin: 0.2em;color: black;border-radius: 0.25em;background-color: #f0f8ff;}#sk-c3cb29e9-68e4-4b7a-a209-b317012f6d2c input.sk-toggleable__control:checked~div.sk-toggleable__content {max-height: 200px;max-width: 100%;overflow: auto;}#sk-c3cb29e9-68e4-4b7a-a209-b317012f6d2c input.sk-toggleable__control:checked~label.sk-toggleable__label-arrow:before {content: \"▾\";}#sk-c3cb29e9-68e4-4b7a-a209-b317012f6d2c div.sk-estimator input.sk-toggleable__control:checked~label.sk-toggleable__label {background-color: #d4ebff;}#sk-c3cb29e9-68e4-4b7a-a209-b317012f6d2c div.sk-label input.sk-toggleable__control:checked~label.sk-toggleable__label {background-color: #d4ebff;}#sk-c3cb29e9-68e4-4b7a-a209-b317012f6d2c input.sk-hidden--visually {border: 0;clip: rect(1px 1px 1px 1px);clip: rect(1px, 1px, 1px, 1px);height: 1px;margin: -1px;overflow: hidden;padding: 0;position: absolute;width: 1px;}#sk-c3cb29e9-68e4-4b7a-a209-b317012f6d2c div.sk-estimator {font-family: monospace;background-color: #f0f8ff;border: 1px dotted black;border-radius: 0.25em;box-sizing: border-box;margin-bottom: 0.5em;}#sk-c3cb29e9-68e4-4b7a-a209-b317012f6d2c div.sk-estimator:hover {background-color: #d4ebff;}#sk-c3cb29e9-68e4-4b7a-a209-b317012f6d2c div.sk-parallel-item::after {content: \"\";width: 100%;border-bottom: 1px solid gray;flex-grow: 1;}#sk-c3cb29e9-68e4-4b7a-a209-b317012f6d2c div.sk-label:hover label.sk-toggleable__label {background-color: #d4ebff;}#sk-c3cb29e9-68e4-4b7a-a209-b317012f6d2c div.sk-serial::before {content: \"\";position: absolute;border-left: 1px solid gray;box-sizing: border-box;top: 2em;bottom: 0;left: 50%;}#sk-c3cb29e9-68e4-4b7a-a209-b317012f6d2c div.sk-serial {display: flex;flex-direction: column;align-items: center;background-color: white;padding-right: 0.2em;padding-left: 0.2em;}#sk-c3cb29e9-68e4-4b7a-a209-b317012f6d2c div.sk-item {z-index: 1;}#sk-c3cb29e9-68e4-4b7a-a209-b317012f6d2c div.sk-parallel {display: flex;align-items: stretch;justify-content: center;background-color: white;}#sk-c3cb29e9-68e4-4b7a-a209-b317012f6d2c div.sk-parallel::before {content: \"\";position: absolute;border-left: 1px solid gray;box-sizing: border-box;top: 2em;bottom: 0;left: 50%;}#sk-c3cb29e9-68e4-4b7a-a209-b317012f6d2c div.sk-parallel-item {display: flex;flex-direction: column;position: relative;background-color: white;}#sk-c3cb29e9-68e4-4b7a-a209-b317012f6d2c div.sk-parallel-item:first-child::after {align-self: flex-end;width: 50%;}#sk-c3cb29e9-68e4-4b7a-a209-b317012f6d2c div.sk-parallel-item:last-child::after {align-self: flex-start;width: 50%;}#sk-c3cb29e9-68e4-4b7a-a209-b317012f6d2c div.sk-parallel-item:only-child::after {width: 0;}#sk-c3cb29e9-68e4-4b7a-a209-b317012f6d2c div.sk-dashed-wrapped {border: 1px dashed gray;margin: 0 0.4em 0.5em 0.4em;box-sizing: border-box;padding-bottom: 0.4em;background-color: white;position: relative;}#sk-c3cb29e9-68e4-4b7a-a209-b317012f6d2c div.sk-label label {font-family: monospace;font-weight: bold;background-color: white;display: inline-block;line-height: 1.2em;}#sk-c3cb29e9-68e4-4b7a-a209-b317012f6d2c div.sk-label-container {position: relative;z-index: 2;text-align: center;}#sk-c3cb29e9-68e4-4b7a-a209-b317012f6d2c div.sk-container {/* jupyter's `normalize.less` sets `[hidden] { display: none; }` but bootstrap.min.css set `[hidden] { display: none !important; }` so we also need the `!important` here to be able to override the default hidden behavior on the sphinx rendered scikit-learn.org. See: https://github.com/scikit-learn/scikit-learn/issues/21755 */display: inline-block !important;position: relative;}#sk-c3cb29e9-68e4-4b7a-a209-b317012f6d2c div.sk-text-repr-fallback {display: none;}</style><div id=\"sk-c3cb29e9-68e4-4b7a-a209-b317012f6d2c\" class=\"sk-top-container\"><div class=\"sk-text-repr-fallback\"><pre>LogisticRegression(C=0.1, penalty=&#x27;l1&#x27;, solver=&#x27;liblinear&#x27;)</pre><b>Please rerun this cell to show the HTML repr or trust the notebook.</b></div><div class=\"sk-container\" hidden><div class=\"sk-item\"><div class=\"sk-estimator sk-toggleable\"><input class=\"sk-toggleable__control sk-hidden--visually\" id=\"8b3e2e2f-f1f4-4267-add2-2451e6a85756\" type=\"checkbox\" checked><label for=\"8b3e2e2f-f1f4-4267-add2-2451e6a85756\" class=\"sk-toggleable__label sk-toggleable__label-arrow\">LogisticRegression</label><div class=\"sk-toggleable__content\"><pre>LogisticRegression(C=0.1, penalty=&#x27;l1&#x27;, solver=&#x27;liblinear&#x27;)</pre></div></div></div></div></div>"
      ],
      "text/plain": [
       "LogisticRegression(C=0.1, penalty='l1', solver='liblinear')"
      ]
     },
     "execution_count": 62,
     "metadata": {},
     "output_type": "execute_result"
    }
   ],
   "source": [
    "logreg_feat.fit(train_df[x_features], train_df['converted'])"
   ]
  },
  {
   "cell_type": "code",
   "execution_count": 63,
   "id": "96507b2c",
   "metadata": {},
   "outputs": [],
   "source": [
    "from sklearn.metrics import classification_report"
   ]
  },
  {
   "cell_type": "code",
   "execution_count": 64,
   "id": "edf3bb83",
   "metadata": {},
   "outputs": [
    {
     "name": "stdout",
     "output_type": "stream",
     "text": [
      "              precision    recall  f1-score   support\n",
      "\n",
      "           0       0.95      1.00      0.97     11988\n",
      "           1       0.38      0.01      0.02       692\n",
      "\n",
      "    accuracy                           0.95     12680\n",
      "   macro avg       0.66      0.51      0.50     12680\n",
      "weighted avg       0.92      0.95      0.92     12680\n",
      "\n"
     ]
    }
   ],
   "source": [
    "print(classification_report( test_df['converted'], \n",
    "                            logreg_feat.predict(test_df[x_features])))"
   ]
  },
  {
   "cell_type": "code",
   "execution_count": 65,
   "id": "1fc590ca",
   "metadata": {},
   "outputs": [],
   "source": [
    "l1_selection_df = pd.DataFrame( {\"features\": x_features,\n",
    "                                 \"coef\": np.round(logreg_feat.coef_[0], 2)} )"
   ]
  },
  {
   "cell_type": "code",
   "execution_count": 66,
   "id": "21b88e26",
   "metadata": {},
   "outputs": [
    {
     "data": {
      "text/html": [
       "<div>\n",
       "<style scoped>\n",
       "    .dataframe tbody tr th:only-of-type {\n",
       "        vertical-align: middle;\n",
       "    }\n",
       "\n",
       "    .dataframe tbody tr th {\n",
       "        vertical-align: top;\n",
       "    }\n",
       "\n",
       "    .dataframe thead th {\n",
       "        text-align: right;\n",
       "    }\n",
       "</style>\n",
       "<table border=\"1\" class=\"dataframe\">\n",
       "  <thead>\n",
       "    <tr style=\"text-align: right;\">\n",
       "      <th></th>\n",
       "      <th>1</th>\n",
       "      <th>3</th>\n",
       "      <th>4</th>\n",
       "      <th>5</th>\n",
       "      <th>6</th>\n",
       "      <th>7</th>\n",
       "      <th>10</th>\n",
       "      <th>12</th>\n",
       "      <th>14</th>\n",
       "      <th>16</th>\n",
       "      <th>...</th>\n",
       "      <th>244</th>\n",
       "      <th>245</th>\n",
       "      <th>246</th>\n",
       "      <th>247</th>\n",
       "      <th>248</th>\n",
       "      <th>249</th>\n",
       "      <th>250</th>\n",
       "      <th>251</th>\n",
       "      <th>252</th>\n",
       "      <th>253</th>\n",
       "    </tr>\n",
       "  </thead>\n",
       "  <tbody>\n",
       "    <tr>\n",
       "      <th>features</th>\n",
       "      <td>air_purifier_page_top</td>\n",
       "      <td>checkout_page_top</td>\n",
       "      <td>contactus_top</td>\n",
       "      <td>customer_service_amc_login_top</td>\n",
       "      <td>customer_service_request_login_top</td>\n",
       "      <td>demo_page_top</td>\n",
       "      <td>fired_help_me_buy_evt</td>\n",
       "      <td>help_me_buy_evt_count</td>\n",
       "      <td>offer_page_top</td>\n",
       "      <td>paid</td>\n",
       "      <td>...</td>\n",
       "      <td>sourceMedium_tools_aws2.dataweave.co / referral</td>\n",
       "      <td>sourceMedium_water--purifiers-com.cdn.ampproje...</td>\n",
       "      <td>sourceMedium_water-purifiers.com / referral</td>\n",
       "      <td>sourceMedium_webmail.vsnl.com / referral</td>\n",
       "      <td>sourceMedium_www-customercarephonenumber-in.cd...</td>\n",
       "      <td>sourceMedium_yahoo / organic</td>\n",
       "      <td>sourceMedium_youtube / social</td>\n",
       "      <td>sourceMedium_youtube / video</td>\n",
       "      <td>sourceMedium_youtube.com / referral</td>\n",
       "      <td>sourceMedium_zapmeta.co.in / referral</td>\n",
       "    </tr>\n",
       "    <tr>\n",
       "      <th>coef</th>\n",
       "      <td>0.0</td>\n",
       "      <td>0.0</td>\n",
       "      <td>-0.0</td>\n",
       "      <td>-0.0</td>\n",
       "      <td>-0.0</td>\n",
       "      <td>0.0</td>\n",
       "      <td>0.0</td>\n",
       "      <td>0.0</td>\n",
       "      <td>0.0</td>\n",
       "      <td>0.0</td>\n",
       "      <td>...</td>\n",
       "      <td>0.0</td>\n",
       "      <td>0.0</td>\n",
       "      <td>0.0</td>\n",
       "      <td>0.0</td>\n",
       "      <td>0.0</td>\n",
       "      <td>0.0</td>\n",
       "      <td>0.0</td>\n",
       "      <td>0.0</td>\n",
       "      <td>0.0</td>\n",
       "      <td>0.0</td>\n",
       "    </tr>\n",
       "  </tbody>\n",
       "</table>\n",
       "<p>2 rows × 230 columns</p>\n",
       "</div>"
      ],
      "text/plain": [
       "                            1                  3              4    \\\n",
       "features  air_purifier_page_top  checkout_page_top  contactus_top   \n",
       "coef                        0.0                0.0           -0.0   \n",
       "\n",
       "                                     5                                   6    \\\n",
       "features  customer_service_amc_login_top  customer_service_request_login_top   \n",
       "coef                                -0.0                                -0.0   \n",
       "\n",
       "                    7                      10                     12   \\\n",
       "features  demo_page_top  fired_help_me_buy_evt  help_me_buy_evt_count   \n",
       "coef                0.0                    0.0                    0.0   \n",
       "\n",
       "                     14    16   ...  \\\n",
       "features  offer_page_top  paid  ...   \n",
       "coef                 0.0   0.0  ...   \n",
       "\n",
       "                                                      244  \\\n",
       "features  sourceMedium_tools_aws2.dataweave.co / referral   \n",
       "coef                                                  0.0   \n",
       "\n",
       "                                                        245  \\\n",
       "features  sourceMedium_water--purifiers-com.cdn.ampproje...   \n",
       "coef                                                    0.0   \n",
       "\n",
       "                                                  246  \\\n",
       "features  sourceMedium_water-purifiers.com / referral   \n",
       "coef                                              0.0   \n",
       "\n",
       "                                               247  \\\n",
       "features  sourceMedium_webmail.vsnl.com / referral   \n",
       "coef                                           0.0   \n",
       "\n",
       "                                                        248  \\\n",
       "features  sourceMedium_www-customercarephonenumber-in.cd...   \n",
       "coef                                                    0.0   \n",
       "\n",
       "                                   249                            250  \\\n",
       "features  sourceMedium_yahoo / organic  sourceMedium_youtube / social   \n",
       "coef                               0.0                            0.0   \n",
       "\n",
       "                                   251                                  252  \\\n",
       "features  sourceMedium_youtube / video  sourceMedium_youtube.com / referral   \n",
       "coef                               0.0                                  0.0   \n",
       "\n",
       "                                            253  \n",
       "features  sourceMedium_zapmeta.co.in / referral  \n",
       "coef                                        0.0  \n",
       "\n",
       "[2 rows x 230 columns]"
      ]
     },
     "execution_count": 66,
     "metadata": {},
     "output_type": "execute_result"
    }
   ],
   "source": [
    "pd.DataFrame(l1_selection_df[l1_selection_df.coef == 0.0]).transpose()"
   ]
  },
  {
   "cell_type": "markdown",
   "id": "0c2c47aa",
   "metadata": {},
   "source": [
    "air_purifier_page_top\n",
    "checkout_page_top\n",
    "checkout_page_top\n",
    "customer_service_amc_login_top\n",
    "demo_page_top\n",
    "fired_help_me_buy_evt\n",
    "offer_page_top\n",
    "security_solutions_page_top\t\n",
    "paid"
   ]
  },
  {
   "cell_type": "code",
   "execution_count": 67,
   "id": "52e572bd",
   "metadata": {},
   "outputs": [],
   "source": [
    "X_over_e1_fs = X_test_e1"
   ]
  },
  {
   "cell_type": "code",
   "execution_count": 68,
   "id": "b8126d02",
   "metadata": {},
   "outputs": [],
   "source": [
    "X_over_e1_fs=X_over_e1_fs.drop('air_purifier_page_top',axis=1)\n",
    "X_over_e1_fs=X_over_e1_fs.drop('checkout_page_top',axis=1)\n",
    "X_over_e1_fs=X_over_e1_fs.drop('contactus_top',axis=1)\n",
    "X_over_e1_fs=X_over_e1_fs.drop('customer_service_amc_login_top',axis=1)\n",
    "X_over_e1_fs=X_over_e1_fs.drop('demo_page_top',axis=1)\n",
    "X_over_e1_fs=X_over_e1_fs.drop('fired_help_me_buy_evt',axis=1)\n",
    "X_over_e1_fs=X_over_e1_fs.drop('offer_page_top',axis=1)\n",
    "X_over_e1_fs=X_over_e1_fs.drop('security_solutions_page_top',axis=1)\n",
    "X_over_e1_fs=X_over_e1_fs.drop('paid',axis=1)"
   ]
  },
  {
   "cell_type": "code",
   "execution_count": 69,
   "id": "8d2b7a1d",
   "metadata": {},
   "outputs": [],
   "source": [
    "### Non imputed variables\n",
    "non_imputed_num_vars_1 = ['DemoReqPg_CallClicks_evt_count', 'bounces', 'customer_service_request_login_top','dsls','help_me_buy_evt_count','pageviews','phone_clicks_evt_count','sessionDuration','sessions','storelocator_top','successbookdemo_top','vacuum_cleaner_page_top','water_purifier_page_top']"
   ]
  },
  {
   "cell_type": "code",
   "execution_count": 70,
   "id": "0a2a51ca",
   "metadata": {},
   "outputs": [],
   "source": [
    "preprocessor = ColumnTransformer(\n",
    "    transformers=[  \n",
    "        ('num_not_imputed', non_imputed_num_transformer, non_imputed_num_vars_1),\n",
    "        ('catvars', cat_transformer, cat_vars)])"
   ]
  },
  {
   "cell_type": "code",
   "execution_count": 71,
   "id": "5e068bc7",
   "metadata": {},
   "outputs": [],
   "source": [
    "from sklearn.linear_model import LogisticRegression\n",
    "Log_reg_fs = Pipeline(\n",
    "    steps=[(\"preprocessor\", preprocessor), (\"classifier\", LogisticRegression())]\n",
    ")"
   ]
  },
  {
   "cell_type": "code",
   "execution_count": 72,
   "id": "01f09e05",
   "metadata": {
    "scrolled": true
   },
   "outputs": [
    {
     "data": {
      "text/html": [
       "<style>#sk-62aa3db6-aad5-4dae-ba17-b3cdd17f36d0 {color: black;background-color: white;}#sk-62aa3db6-aad5-4dae-ba17-b3cdd17f36d0 pre{padding: 0;}#sk-62aa3db6-aad5-4dae-ba17-b3cdd17f36d0 div.sk-toggleable {background-color: white;}#sk-62aa3db6-aad5-4dae-ba17-b3cdd17f36d0 label.sk-toggleable__label {cursor: pointer;display: block;width: 100%;margin-bottom: 0;padding: 0.3em;box-sizing: border-box;text-align: center;}#sk-62aa3db6-aad5-4dae-ba17-b3cdd17f36d0 label.sk-toggleable__label-arrow:before {content: \"▸\";float: left;margin-right: 0.25em;color: #696969;}#sk-62aa3db6-aad5-4dae-ba17-b3cdd17f36d0 label.sk-toggleable__label-arrow:hover:before {color: black;}#sk-62aa3db6-aad5-4dae-ba17-b3cdd17f36d0 div.sk-estimator:hover label.sk-toggleable__label-arrow:before {color: black;}#sk-62aa3db6-aad5-4dae-ba17-b3cdd17f36d0 div.sk-toggleable__content {max-height: 0;max-width: 0;overflow: hidden;text-align: left;background-color: #f0f8ff;}#sk-62aa3db6-aad5-4dae-ba17-b3cdd17f36d0 div.sk-toggleable__content pre {margin: 0.2em;color: black;border-radius: 0.25em;background-color: #f0f8ff;}#sk-62aa3db6-aad5-4dae-ba17-b3cdd17f36d0 input.sk-toggleable__control:checked~div.sk-toggleable__content {max-height: 200px;max-width: 100%;overflow: auto;}#sk-62aa3db6-aad5-4dae-ba17-b3cdd17f36d0 input.sk-toggleable__control:checked~label.sk-toggleable__label-arrow:before {content: \"▾\";}#sk-62aa3db6-aad5-4dae-ba17-b3cdd17f36d0 div.sk-estimator input.sk-toggleable__control:checked~label.sk-toggleable__label {background-color: #d4ebff;}#sk-62aa3db6-aad5-4dae-ba17-b3cdd17f36d0 div.sk-label input.sk-toggleable__control:checked~label.sk-toggleable__label {background-color: #d4ebff;}#sk-62aa3db6-aad5-4dae-ba17-b3cdd17f36d0 input.sk-hidden--visually {border: 0;clip: rect(1px 1px 1px 1px);clip: rect(1px, 1px, 1px, 1px);height: 1px;margin: -1px;overflow: hidden;padding: 0;position: absolute;width: 1px;}#sk-62aa3db6-aad5-4dae-ba17-b3cdd17f36d0 div.sk-estimator {font-family: monospace;background-color: #f0f8ff;border: 1px dotted black;border-radius: 0.25em;box-sizing: border-box;margin-bottom: 0.5em;}#sk-62aa3db6-aad5-4dae-ba17-b3cdd17f36d0 div.sk-estimator:hover {background-color: #d4ebff;}#sk-62aa3db6-aad5-4dae-ba17-b3cdd17f36d0 div.sk-parallel-item::after {content: \"\";width: 100%;border-bottom: 1px solid gray;flex-grow: 1;}#sk-62aa3db6-aad5-4dae-ba17-b3cdd17f36d0 div.sk-label:hover label.sk-toggleable__label {background-color: #d4ebff;}#sk-62aa3db6-aad5-4dae-ba17-b3cdd17f36d0 div.sk-serial::before {content: \"\";position: absolute;border-left: 1px solid gray;box-sizing: border-box;top: 2em;bottom: 0;left: 50%;}#sk-62aa3db6-aad5-4dae-ba17-b3cdd17f36d0 div.sk-serial {display: flex;flex-direction: column;align-items: center;background-color: white;padding-right: 0.2em;padding-left: 0.2em;}#sk-62aa3db6-aad5-4dae-ba17-b3cdd17f36d0 div.sk-item {z-index: 1;}#sk-62aa3db6-aad5-4dae-ba17-b3cdd17f36d0 div.sk-parallel {display: flex;align-items: stretch;justify-content: center;background-color: white;}#sk-62aa3db6-aad5-4dae-ba17-b3cdd17f36d0 div.sk-parallel::before {content: \"\";position: absolute;border-left: 1px solid gray;box-sizing: border-box;top: 2em;bottom: 0;left: 50%;}#sk-62aa3db6-aad5-4dae-ba17-b3cdd17f36d0 div.sk-parallel-item {display: flex;flex-direction: column;position: relative;background-color: white;}#sk-62aa3db6-aad5-4dae-ba17-b3cdd17f36d0 div.sk-parallel-item:first-child::after {align-self: flex-end;width: 50%;}#sk-62aa3db6-aad5-4dae-ba17-b3cdd17f36d0 div.sk-parallel-item:last-child::after {align-self: flex-start;width: 50%;}#sk-62aa3db6-aad5-4dae-ba17-b3cdd17f36d0 div.sk-parallel-item:only-child::after {width: 0;}#sk-62aa3db6-aad5-4dae-ba17-b3cdd17f36d0 div.sk-dashed-wrapped {border: 1px dashed gray;margin: 0 0.4em 0.5em 0.4em;box-sizing: border-box;padding-bottom: 0.4em;background-color: white;position: relative;}#sk-62aa3db6-aad5-4dae-ba17-b3cdd17f36d0 div.sk-label label {font-family: monospace;font-weight: bold;background-color: white;display: inline-block;line-height: 1.2em;}#sk-62aa3db6-aad5-4dae-ba17-b3cdd17f36d0 div.sk-label-container {position: relative;z-index: 2;text-align: center;}#sk-62aa3db6-aad5-4dae-ba17-b3cdd17f36d0 div.sk-container {/* jupyter's `normalize.less` sets `[hidden] { display: none; }` but bootstrap.min.css set `[hidden] { display: none !important; }` so we also need the `!important` here to be able to override the default hidden behavior on the sphinx rendered scikit-learn.org. See: https://github.com/scikit-learn/scikit-learn/issues/21755 */display: inline-block !important;position: relative;}#sk-62aa3db6-aad5-4dae-ba17-b3cdd17f36d0 div.sk-text-repr-fallback {display: none;}</style><div id=\"sk-62aa3db6-aad5-4dae-ba17-b3cdd17f36d0\" class=\"sk-top-container\"><div class=\"sk-text-repr-fallback\"><pre>Pipeline(steps=[(&#x27;preprocessor&#x27;,\n",
       "                 ColumnTransformer(transformers=[(&#x27;num_not_imputed&#x27;,\n",
       "                                                  Pipeline(steps=[(&#x27;scaler&#x27;,\n",
       "                                                                   StandardScaler())]),\n",
       "                                                  [&#x27;DemoReqPg_CallClicks_evt_count&#x27;,\n",
       "                                                   &#x27;bounces&#x27;,\n",
       "                                                   &#x27;customer_service_request_login_top&#x27;,\n",
       "                                                   &#x27;dsls&#x27;,\n",
       "                                                   &#x27;help_me_buy_evt_count&#x27;,\n",
       "                                                   &#x27;pageviews&#x27;,\n",
       "                                                   &#x27;phone_clicks_evt_count&#x27;,\n",
       "                                                   &#x27;sessionDuration&#x27;,\n",
       "                                                   &#x27;sessions&#x27;,\n",
       "                                                   &#x27;storelocator_top&#x27;,\n",
       "                                                   &#x27;successbookdemo_top&#x27;,\n",
       "                                                   &#x27;vacuum_cleaner_page_top&#x27;,\n",
       "                                                   &#x27;water_purifier_page_top&#x27;]),\n",
       "                                                 (&#x27;catvars&#x27;,\n",
       "                                                  Pipeline(steps=[(&#x27;ohencoder&#x27;,\n",
       "                                                                   OneHotEncoder(handle_unknown=&#x27;ignore&#x27;))]),\n",
       "                                                  [&#x27;country&#x27;, &#x27;device&#x27;,\n",
       "                                                   &#x27;region&#x27;,\n",
       "                                                   &#x27;sourceMedium&#x27;])])),\n",
       "                (&#x27;classifier&#x27;, LogisticRegression())])</pre><b>Please rerun this cell to show the HTML repr or trust the notebook.</b></div><div class=\"sk-container\" hidden><div class=\"sk-item sk-dashed-wrapped\"><div class=\"sk-label-container\"><div class=\"sk-label sk-toggleable\"><input class=\"sk-toggleable__control sk-hidden--visually\" id=\"5206b2ab-8c9a-46ee-a3ff-9388256dd256\" type=\"checkbox\" ><label for=\"5206b2ab-8c9a-46ee-a3ff-9388256dd256\" class=\"sk-toggleable__label sk-toggleable__label-arrow\">Pipeline</label><div class=\"sk-toggleable__content\"><pre>Pipeline(steps=[(&#x27;preprocessor&#x27;,\n",
       "                 ColumnTransformer(transformers=[(&#x27;num_not_imputed&#x27;,\n",
       "                                                  Pipeline(steps=[(&#x27;scaler&#x27;,\n",
       "                                                                   StandardScaler())]),\n",
       "                                                  [&#x27;DemoReqPg_CallClicks_evt_count&#x27;,\n",
       "                                                   &#x27;bounces&#x27;,\n",
       "                                                   &#x27;customer_service_request_login_top&#x27;,\n",
       "                                                   &#x27;dsls&#x27;,\n",
       "                                                   &#x27;help_me_buy_evt_count&#x27;,\n",
       "                                                   &#x27;pageviews&#x27;,\n",
       "                                                   &#x27;phone_clicks_evt_count&#x27;,\n",
       "                                                   &#x27;sessionDuration&#x27;,\n",
       "                                                   &#x27;sessions&#x27;,\n",
       "                                                   &#x27;storelocator_top&#x27;,\n",
       "                                                   &#x27;successbookdemo_top&#x27;,\n",
       "                                                   &#x27;vacuum_cleaner_page_top&#x27;,\n",
       "                                                   &#x27;water_purifier_page_top&#x27;]),\n",
       "                                                 (&#x27;catvars&#x27;,\n",
       "                                                  Pipeline(steps=[(&#x27;ohencoder&#x27;,\n",
       "                                                                   OneHotEncoder(handle_unknown=&#x27;ignore&#x27;))]),\n",
       "                                                  [&#x27;country&#x27;, &#x27;device&#x27;,\n",
       "                                                   &#x27;region&#x27;,\n",
       "                                                   &#x27;sourceMedium&#x27;])])),\n",
       "                (&#x27;classifier&#x27;, LogisticRegression())])</pre></div></div></div><div class=\"sk-serial\"><div class=\"sk-item sk-dashed-wrapped\"><div class=\"sk-label-container\"><div class=\"sk-label sk-toggleable\"><input class=\"sk-toggleable__control sk-hidden--visually\" id=\"39a073f8-a25e-42b0-a7ca-bf9366c04666\" type=\"checkbox\" ><label for=\"39a073f8-a25e-42b0-a7ca-bf9366c04666\" class=\"sk-toggleable__label sk-toggleable__label-arrow\">preprocessor: ColumnTransformer</label><div class=\"sk-toggleable__content\"><pre>ColumnTransformer(transformers=[(&#x27;num_not_imputed&#x27;,\n",
       "                                 Pipeline(steps=[(&#x27;scaler&#x27;, StandardScaler())]),\n",
       "                                 [&#x27;DemoReqPg_CallClicks_evt_count&#x27;, &#x27;bounces&#x27;,\n",
       "                                  &#x27;customer_service_request_login_top&#x27;, &#x27;dsls&#x27;,\n",
       "                                  &#x27;help_me_buy_evt_count&#x27;, &#x27;pageviews&#x27;,\n",
       "                                  &#x27;phone_clicks_evt_count&#x27;, &#x27;sessionDuration&#x27;,\n",
       "                                  &#x27;sessions&#x27;, &#x27;storelocator_top&#x27;,\n",
       "                                  &#x27;successbookdemo_top&#x27;,\n",
       "                                  &#x27;vacuum_cleaner_page_top&#x27;,\n",
       "                                  &#x27;water_purifier_page_top&#x27;]),\n",
       "                                (&#x27;catvars&#x27;,\n",
       "                                 Pipeline(steps=[(&#x27;ohencoder&#x27;,\n",
       "                                                  OneHotEncoder(handle_unknown=&#x27;ignore&#x27;))]),\n",
       "                                 [&#x27;country&#x27;, &#x27;device&#x27;, &#x27;region&#x27;,\n",
       "                                  &#x27;sourceMedium&#x27;])])</pre></div></div></div><div class=\"sk-parallel\"><div class=\"sk-parallel-item\"><div class=\"sk-item\"><div class=\"sk-label-container\"><div class=\"sk-label sk-toggleable\"><input class=\"sk-toggleable__control sk-hidden--visually\" id=\"cad87d52-5146-4cec-a52a-e1bcd49b9b93\" type=\"checkbox\" ><label for=\"cad87d52-5146-4cec-a52a-e1bcd49b9b93\" class=\"sk-toggleable__label sk-toggleable__label-arrow\">num_not_imputed</label><div class=\"sk-toggleable__content\"><pre>[&#x27;DemoReqPg_CallClicks_evt_count&#x27;, &#x27;bounces&#x27;, &#x27;customer_service_request_login_top&#x27;, &#x27;dsls&#x27;, &#x27;help_me_buy_evt_count&#x27;, &#x27;pageviews&#x27;, &#x27;phone_clicks_evt_count&#x27;, &#x27;sessionDuration&#x27;, &#x27;sessions&#x27;, &#x27;storelocator_top&#x27;, &#x27;successbookdemo_top&#x27;, &#x27;vacuum_cleaner_page_top&#x27;, &#x27;water_purifier_page_top&#x27;]</pre></div></div></div><div class=\"sk-serial\"><div class=\"sk-item\"><div class=\"sk-serial\"><div class=\"sk-item\"><div class=\"sk-estimator sk-toggleable\"><input class=\"sk-toggleable__control sk-hidden--visually\" id=\"85ac5c3c-486e-48b2-9779-4963a1415a83\" type=\"checkbox\" ><label for=\"85ac5c3c-486e-48b2-9779-4963a1415a83\" class=\"sk-toggleable__label sk-toggleable__label-arrow\">StandardScaler</label><div class=\"sk-toggleable__content\"><pre>StandardScaler()</pre></div></div></div></div></div></div></div></div><div class=\"sk-parallel-item\"><div class=\"sk-item\"><div class=\"sk-label-container\"><div class=\"sk-label sk-toggleable\"><input class=\"sk-toggleable__control sk-hidden--visually\" id=\"6da2cc73-feda-4b84-949a-7732ab505a3a\" type=\"checkbox\" ><label for=\"6da2cc73-feda-4b84-949a-7732ab505a3a\" class=\"sk-toggleable__label sk-toggleable__label-arrow\">catvars</label><div class=\"sk-toggleable__content\"><pre>[&#x27;country&#x27;, &#x27;device&#x27;, &#x27;region&#x27;, &#x27;sourceMedium&#x27;]</pre></div></div></div><div class=\"sk-serial\"><div class=\"sk-item\"><div class=\"sk-serial\"><div class=\"sk-item\"><div class=\"sk-estimator sk-toggleable\"><input class=\"sk-toggleable__control sk-hidden--visually\" id=\"59cae0eb-1668-44c9-96ce-3e2b75d4ba7c\" type=\"checkbox\" ><label for=\"59cae0eb-1668-44c9-96ce-3e2b75d4ba7c\" class=\"sk-toggleable__label sk-toggleable__label-arrow\">OneHotEncoder</label><div class=\"sk-toggleable__content\"><pre>OneHotEncoder(handle_unknown=&#x27;ignore&#x27;)</pre></div></div></div></div></div></div></div></div></div></div><div class=\"sk-item\"><div class=\"sk-estimator sk-toggleable\"><input class=\"sk-toggleable__control sk-hidden--visually\" id=\"ec072fc7-37cc-4dce-a9a8-f46d72efcc93\" type=\"checkbox\" ><label for=\"ec072fc7-37cc-4dce-a9a8-f46d72efcc93\" class=\"sk-toggleable__label sk-toggleable__label-arrow\">LogisticRegression</label><div class=\"sk-toggleable__content\"><pre>LogisticRegression()</pre></div></div></div></div></div></div></div>"
      ],
      "text/plain": [
       "Pipeline(steps=[('preprocessor',\n",
       "                 ColumnTransformer(transformers=[('num_not_imputed',\n",
       "                                                  Pipeline(steps=[('scaler',\n",
       "                                                                   StandardScaler())]),\n",
       "                                                  ['DemoReqPg_CallClicks_evt_count',\n",
       "                                                   'bounces',\n",
       "                                                   'customer_service_request_login_top',\n",
       "                                                   'dsls',\n",
       "                                                   'help_me_buy_evt_count',\n",
       "                                                   'pageviews',\n",
       "                                                   'phone_clicks_evt_count',\n",
       "                                                   'sessionDuration',\n",
       "                                                   'sessions',\n",
       "                                                   'storelocator_top',\n",
       "                                                   'successbookdemo_top',\n",
       "                                                   'vacuum_cleaner_page_top',\n",
       "                                                   'water_purifier_page_top']),\n",
       "                                                 ('catvars',\n",
       "                                                  Pipeline(steps=[('ohencoder',\n",
       "                                                                   OneHotEncoder(handle_unknown='ignore'))]),\n",
       "                                                  ['country', 'device',\n",
       "                                                   'region',\n",
       "                                                   'sourceMedium'])])),\n",
       "                ('classifier', LogisticRegression())])"
      ]
     },
     "execution_count": 72,
     "metadata": {},
     "output_type": "execute_result"
    }
   ],
   "source": [
    "Log_reg_fs.fit(X_over_e1_fs,y_test_e1)"
   ]
  },
  {
   "cell_type": "code",
   "execution_count": 73,
   "id": "995f8d68",
   "metadata": {},
   "outputs": [
    {
     "name": "stdout",
     "output_type": "stream",
     "text": [
      "Accuracy Score : 0.944006309148265\n",
      "Precision Score : 0.5\n",
      "Recall Score : 0.009859154929577466\n",
      "F1 Score : 0.019337016574585638\n"
     ]
    },
    {
     "data": {
      "text/plain": [
       "array([[11963,     7],\n",
       "       [  703,     7]], dtype=int64)"
      ]
     },
     "execution_count": 73,
     "metadata": {},
     "output_type": "execute_result"
    }
   ],
   "source": [
    "from sklearn.metrics import accuracy_score,recall_score,precision_score,f1_score\n",
    "\n",
    "#Predict values based on new parameters\n",
    "y_pred_acc = Log_reg_fs.predict(X_test_e1)\n",
    "\n",
    "# New Model Evaluation metrics \n",
    "print('Accuracy Score : ' + str(accuracy_score(y_test_e1,y_pred_acc)))\n",
    "print('Precision Score : ' + str(precision_score(y_test_e1,y_pred_acc)))\n",
    "print('Recall Score : ' + str(recall_score(y_test_e1,y_pred_acc)))\n",
    "print('F1 Score : ' + str(f1_score(y_test_e1,y_pred_acc)))\n",
    "\n",
    "#Logistic Regression (Grid Search) Confusion matrix\n",
    "confusion_matrix(y_test_e1,y_pred_acc)"
   ]
  },
  {
   "cell_type": "code",
   "execution_count": 74,
   "id": "4b275535",
   "metadata": {},
   "outputs": [
    {
     "name": "stdout",
     "output_type": "stream",
     "text": [
      "Accuracy Score : 0.944006309148265\n",
      "Precision Score : 0.5\n",
      "Recall Score : 0.009859154929577466\n",
      "F1 Score : 0.019337016574585638\n"
     ]
    },
    {
     "data": {
      "text/plain": [
       "array([[11963,     7],\n",
       "       [  703,     7]], dtype=int64)"
      ]
     },
     "execution_count": 74,
     "metadata": {},
     "output_type": "execute_result"
    }
   ],
   "source": [
    "from sklearn.metrics import accuracy_score,recall_score,precision_score,f1_score\n",
    "\n",
    "#Predict values based on new parameters\n",
    "y_pred_acc = Log_reg_fs.predict(X_over_e1_fs)\n",
    "\n",
    "# New Model Evaluation metrics \n",
    "print('Accuracy Score : ' + str(accuracy_score(y_test_e1,y_pred_acc)))\n",
    "print('Precision Score : ' + str(precision_score(y_test_e1,y_pred_acc)))\n",
    "print('Recall Score : ' + str(recall_score(y_test_e1,y_pred_acc)))\n",
    "print('F1 Score : ' + str(f1_score(y_test_e1,y_pred_acc)))\n",
    "\n",
    "#Logistic Regression (Grid Search) Confusion matrix\n",
    "confusion_matrix(y_test_e1,y_pred_acc)"
   ]
  },
  {
   "cell_type": "code",
   "execution_count": 75,
   "id": "c02b96be",
   "metadata": {},
   "outputs": [],
   "source": [
    "from sklearn.metrics import mean_squared_error"
   ]
  },
  {
   "cell_type": "code",
   "execution_count": 76,
   "id": "663c7320",
   "metadata": {},
   "outputs": [
    {
     "data": {
      "text/plain": [
       "0.5073590929621311"
      ]
     },
     "execution_count": 76,
     "metadata": {},
     "output_type": "execute_result"
    }
   ],
   "source": [
    "## RMSE\n",
    "final_rmse = np.sqrt(mean_squared_error(y_test_e1, Log_reg1.predict(X_test_e1)))\n",
    "final_rmse"
   ]
  },
  {
   "cell_type": "markdown",
   "id": "856eb4ae",
   "metadata": {},
   "source": [
    "Model Persistence"
   ]
  },
  {
   "cell_type": "code",
   "execution_count": 77,
   "id": "6c6b6333",
   "metadata": {},
   "outputs": [],
   "source": [
    "class lead_PredictionModel():    \n",
    "    def __init__(self, model, features, rmse):\n",
    "        self.model = model\n",
    "        self.features = features\n",
    "        self.rmse = rmse"
   ]
  },
  {
   "cell_type": "code",
   "execution_count": 78,
   "id": "9b86bfbe",
   "metadata": {},
   "outputs": [],
   "source": [
    "my_model_e1 = lead_PredictionModel(Log_reg1, list(X_train_e1.columns), final_rmse)"
   ]
  },
  {
   "cell_type": "code",
   "execution_count": 79,
   "id": "da7d6aaa",
   "metadata": {},
   "outputs": [],
   "source": [
    "from joblib import dump"
   ]
  },
  {
   "cell_type": "code",
   "execution_count": 80,
   "id": "f545f3af",
   "metadata": {},
   "outputs": [
    {
     "data": {
      "text/plain": [
       "['./leads_projection_e1.pkl']"
      ]
     },
     "execution_count": 80,
     "metadata": {},
     "output_type": "execute_result"
    }
   ],
   "source": [
    "dump(my_model_e1, './leads_projection_e1.pkl')"
   ]
  },
  {
   "cell_type": "code",
   "execution_count": null,
   "id": "9b6d3af0",
   "metadata": {},
   "outputs": [],
   "source": []
  },
  {
   "cell_type": "markdown",
   "id": "33625338",
   "metadata": {},
   "source": [
    "Experiment 2 \n",
    "- Here we have used random over sampling Technique\n",
    "- Also Target encoding technique for categorical variables\n",
    "- The model used is Logistic Regression where accuracy of the model\n",
    "  :- before classification is 62.97%%\n",
    "  :- After Grid search the accuracy is 74%\n",
    "  :- Precision also increases from 10.1% to 10.8% after Grid search\n",
    "- Using L1 feature selection method we have tried and used the best features where after that we can see that the Preicion is increased to 38%\n",
    "- The model pipeline have been exported into pkl file"
   ]
  },
  {
   "cell_type": "code",
   "execution_count": 81,
   "id": "a8d0ccaa",
   "metadata": {},
   "outputs": [],
   "source": [
    "eureka_data_e2 = eureka_data"
   ]
  },
  {
   "cell_type": "code",
   "execution_count": 82,
   "id": "3f8e18c5",
   "metadata": {},
   "outputs": [],
   "source": [
    "### Splitting the data into train and test into 70:30 ratio\n",
    "X_e2=eureka_data_e2.drop('converted',axis=1)\n",
    "Y_e2=eureka_data_e2['converted']"
   ]
  },
  {
   "cell_type": "code",
   "execution_count": 83,
   "id": "8cfcbcd2",
   "metadata": {},
   "outputs": [
    {
     "name": "stdout",
     "output_type": "stream",
     "text": [
      "(29584, 41) (29584,)\n"
     ]
    }
   ],
   "source": [
    "from sklearn.model_selection import train_test_split\n",
    "X_train_e2, X_test_e2, y_train_e2, y_test_e2 = train_test_split(X_e2,Y_e2, test_size=0.3)\n",
    "print (X_train_e2.shape, y_train_e2.shape)"
   ]
  },
  {
   "cell_type": "markdown",
   "id": "3cd601f4",
   "metadata": {},
   "source": [
    "Using Random Over Sampling "
   ]
  },
  {
   "cell_type": "code",
   "execution_count": 84,
   "id": "2313292c",
   "metadata": {},
   "outputs": [
    {
     "name": "stdout",
     "output_type": "stream",
     "text": [
      "Counter({0: 1579, 1: 1579})\n"
     ]
    }
   ],
   "source": [
    "###  random Oversampling to balance the class distribution\n",
    "from collections import Counter\n",
    "from sklearn.datasets import make_classification\n",
    "from imblearn.over_sampling import RandomOverSampler\n",
    "\n",
    "oversample = RandomOverSampler(sampling_strategy='minority')\n",
    "# fit and apply the transform\n",
    "X_over_e2, y_over_e2 = undersample.fit_resample(X_train_e2, y_train_e2)\n",
    "# summarize class distribution\n",
    "print(Counter(y_over_e2))"
   ]
  },
  {
   "cell_type": "code",
   "execution_count": 85,
   "id": "ac3664f5",
   "metadata": {},
   "outputs": [],
   "source": [
    "### Non imputed variables\n",
    "non_imputed_num_vars = ['DemoReqPg_CallClicks_evt_count','air_purifier_page_top','bounces','checkout_page_top',\n",
    "'contactus_top','customer_service_amc_login_top','customer_service_request_login_top','demo_page_top',\n",
    "'dsls','help_me_buy_evt_count','offer_page_top','pageviews','phone_clicks_evt_count','security_solutions_page_top',\n",
    "'sessionDuration','sessions','storelocator_top','successbookdemo_top','vacuum_cleaner_page_top',\n",
    "'water_purifier_page_top']"
   ]
  },
  {
   "cell_type": "code",
   "execution_count": 86,
   "id": "6e96790e",
   "metadata": {},
   "outputs": [],
   "source": [
    "### Categorical Variables\n",
    "cat_vars = ['country','device','region','sourceMedium']"
   ]
  },
  {
   "cell_type": "markdown",
   "id": "6f0f0ff2",
   "metadata": {},
   "source": [
    "Tatget Encoding"
   ]
  },
  {
   "cell_type": "code",
   "execution_count": 87,
   "id": "55b3d3ac",
   "metadata": {},
   "outputs": [],
   "source": [
    "from category_encoders import TargetEncoder"
   ]
  },
  {
   "cell_type": "code",
   "execution_count": 88,
   "id": "2761aef1",
   "metadata": {},
   "outputs": [],
   "source": [
    "tag_encoder = TargetEncoder(min_samples_leaf=100, smoothing=1000.0)"
   ]
  },
  {
   "cell_type": "markdown",
   "id": "a296f4ab",
   "metadata": {},
   "source": [
    "Creating Pipeline"
   ]
  },
  {
   "cell_type": "code",
   "execution_count": 89,
   "id": "dd38e3fa",
   "metadata": {},
   "outputs": [],
   "source": [
    "from sklearn.compose import ColumnTransformer\n",
    "from sklearn.pipeline import Pipeline"
   ]
  },
  {
   "cell_type": "code",
   "execution_count": 90,
   "id": "7e6a323f",
   "metadata": {},
   "outputs": [],
   "source": [
    "non_imputed_num_transformer = Pipeline( steps = [('scaler', scaler)])"
   ]
  },
  {
   "cell_type": "code",
   "execution_count": 91,
   "id": "2d8a11a0",
   "metadata": {},
   "outputs": [],
   "source": [
    "cat_transformer = Pipeline( steps = [('targt_encoder', tag_encoder)])"
   ]
  },
  {
   "cell_type": "code",
   "execution_count": 92,
   "id": "827259c1",
   "metadata": {},
   "outputs": [],
   "source": [
    "preprocessor = ColumnTransformer(\n",
    "    transformers=[  \n",
    "        ('num_not_imputed', non_imputed_num_transformer, non_imputed_num_vars),\n",
    "        ('catvars', cat_transformer, cat_vars)])"
   ]
  },
  {
   "cell_type": "code",
   "execution_count": 93,
   "id": "998548de",
   "metadata": {},
   "outputs": [],
   "source": [
    "from sklearn.linear_model import LogisticRegression\n",
    "Log_reg_e2 = Pipeline(\n",
    "    steps=[(\"preprocessor\", preprocessor), (\"classifier\", LogisticRegression())]\n",
    ")"
   ]
  },
  {
   "cell_type": "code",
   "execution_count": 94,
   "id": "9f0c00b6",
   "metadata": {},
   "outputs": [
    {
     "data": {
      "text/html": [
       "<style>#sk-db0d49ad-7311-40c3-8bde-02483860cfd1 {color: black;background-color: white;}#sk-db0d49ad-7311-40c3-8bde-02483860cfd1 pre{padding: 0;}#sk-db0d49ad-7311-40c3-8bde-02483860cfd1 div.sk-toggleable {background-color: white;}#sk-db0d49ad-7311-40c3-8bde-02483860cfd1 label.sk-toggleable__label {cursor: pointer;display: block;width: 100%;margin-bottom: 0;padding: 0.3em;box-sizing: border-box;text-align: center;}#sk-db0d49ad-7311-40c3-8bde-02483860cfd1 label.sk-toggleable__label-arrow:before {content: \"▸\";float: left;margin-right: 0.25em;color: #696969;}#sk-db0d49ad-7311-40c3-8bde-02483860cfd1 label.sk-toggleable__label-arrow:hover:before {color: black;}#sk-db0d49ad-7311-40c3-8bde-02483860cfd1 div.sk-estimator:hover label.sk-toggleable__label-arrow:before {color: black;}#sk-db0d49ad-7311-40c3-8bde-02483860cfd1 div.sk-toggleable__content {max-height: 0;max-width: 0;overflow: hidden;text-align: left;background-color: #f0f8ff;}#sk-db0d49ad-7311-40c3-8bde-02483860cfd1 div.sk-toggleable__content pre {margin: 0.2em;color: black;border-radius: 0.25em;background-color: #f0f8ff;}#sk-db0d49ad-7311-40c3-8bde-02483860cfd1 input.sk-toggleable__control:checked~div.sk-toggleable__content {max-height: 200px;max-width: 100%;overflow: auto;}#sk-db0d49ad-7311-40c3-8bde-02483860cfd1 input.sk-toggleable__control:checked~label.sk-toggleable__label-arrow:before {content: \"▾\";}#sk-db0d49ad-7311-40c3-8bde-02483860cfd1 div.sk-estimator input.sk-toggleable__control:checked~label.sk-toggleable__label {background-color: #d4ebff;}#sk-db0d49ad-7311-40c3-8bde-02483860cfd1 div.sk-label input.sk-toggleable__control:checked~label.sk-toggleable__label {background-color: #d4ebff;}#sk-db0d49ad-7311-40c3-8bde-02483860cfd1 input.sk-hidden--visually {border: 0;clip: rect(1px 1px 1px 1px);clip: rect(1px, 1px, 1px, 1px);height: 1px;margin: -1px;overflow: hidden;padding: 0;position: absolute;width: 1px;}#sk-db0d49ad-7311-40c3-8bde-02483860cfd1 div.sk-estimator {font-family: monospace;background-color: #f0f8ff;border: 1px dotted black;border-radius: 0.25em;box-sizing: border-box;margin-bottom: 0.5em;}#sk-db0d49ad-7311-40c3-8bde-02483860cfd1 div.sk-estimator:hover {background-color: #d4ebff;}#sk-db0d49ad-7311-40c3-8bde-02483860cfd1 div.sk-parallel-item::after {content: \"\";width: 100%;border-bottom: 1px solid gray;flex-grow: 1;}#sk-db0d49ad-7311-40c3-8bde-02483860cfd1 div.sk-label:hover label.sk-toggleable__label {background-color: #d4ebff;}#sk-db0d49ad-7311-40c3-8bde-02483860cfd1 div.sk-serial::before {content: \"\";position: absolute;border-left: 1px solid gray;box-sizing: border-box;top: 2em;bottom: 0;left: 50%;}#sk-db0d49ad-7311-40c3-8bde-02483860cfd1 div.sk-serial {display: flex;flex-direction: column;align-items: center;background-color: white;padding-right: 0.2em;padding-left: 0.2em;}#sk-db0d49ad-7311-40c3-8bde-02483860cfd1 div.sk-item {z-index: 1;}#sk-db0d49ad-7311-40c3-8bde-02483860cfd1 div.sk-parallel {display: flex;align-items: stretch;justify-content: center;background-color: white;}#sk-db0d49ad-7311-40c3-8bde-02483860cfd1 div.sk-parallel::before {content: \"\";position: absolute;border-left: 1px solid gray;box-sizing: border-box;top: 2em;bottom: 0;left: 50%;}#sk-db0d49ad-7311-40c3-8bde-02483860cfd1 div.sk-parallel-item {display: flex;flex-direction: column;position: relative;background-color: white;}#sk-db0d49ad-7311-40c3-8bde-02483860cfd1 div.sk-parallel-item:first-child::after {align-self: flex-end;width: 50%;}#sk-db0d49ad-7311-40c3-8bde-02483860cfd1 div.sk-parallel-item:last-child::after {align-self: flex-start;width: 50%;}#sk-db0d49ad-7311-40c3-8bde-02483860cfd1 div.sk-parallel-item:only-child::after {width: 0;}#sk-db0d49ad-7311-40c3-8bde-02483860cfd1 div.sk-dashed-wrapped {border: 1px dashed gray;margin: 0 0.4em 0.5em 0.4em;box-sizing: border-box;padding-bottom: 0.4em;background-color: white;position: relative;}#sk-db0d49ad-7311-40c3-8bde-02483860cfd1 div.sk-label label {font-family: monospace;font-weight: bold;background-color: white;display: inline-block;line-height: 1.2em;}#sk-db0d49ad-7311-40c3-8bde-02483860cfd1 div.sk-label-container {position: relative;z-index: 2;text-align: center;}#sk-db0d49ad-7311-40c3-8bde-02483860cfd1 div.sk-container {/* jupyter's `normalize.less` sets `[hidden] { display: none; }` but bootstrap.min.css set `[hidden] { display: none !important; }` so we also need the `!important` here to be able to override the default hidden behavior on the sphinx rendered scikit-learn.org. See: https://github.com/scikit-learn/scikit-learn/issues/21755 */display: inline-block !important;position: relative;}#sk-db0d49ad-7311-40c3-8bde-02483860cfd1 div.sk-text-repr-fallback {display: none;}</style><div id=\"sk-db0d49ad-7311-40c3-8bde-02483860cfd1\" class=\"sk-top-container\"><div class=\"sk-text-repr-fallback\"><pre>Pipeline(steps=[(&#x27;preprocessor&#x27;,\n",
       "                 ColumnTransformer(transformers=[(&#x27;num_not_imputed&#x27;,\n",
       "                                                  Pipeline(steps=[(&#x27;scaler&#x27;,\n",
       "                                                                   StandardScaler())]),\n",
       "                                                  [&#x27;DemoReqPg_CallClicks_evt_count&#x27;,\n",
       "                                                   &#x27;air_purifier_page_top&#x27;,\n",
       "                                                   &#x27;bounces&#x27;,\n",
       "                                                   &#x27;checkout_page_top&#x27;,\n",
       "                                                   &#x27;contactus_top&#x27;,\n",
       "                                                   &#x27;customer_service_amc_login_top&#x27;,\n",
       "                                                   &#x27;customer_service_request_login_top&#x27;,\n",
       "                                                   &#x27;demo_page_top&#x27;, &#x27;dsls&#x27;,\n",
       "                                                   &#x27;help_me_buy_evt_count&#x27;,...\n",
       "                                                   &#x27;phone_clicks_evt_count&#x27;,\n",
       "                                                   &#x27;security_solutions_page_top&#x27;,\n",
       "                                                   &#x27;sessionDuration&#x27;,\n",
       "                                                   &#x27;sessions&#x27;,\n",
       "                                                   &#x27;storelocator_top&#x27;,\n",
       "                                                   &#x27;successbookdemo_top&#x27;,\n",
       "                                                   &#x27;vacuum_cleaner_page_top&#x27;,\n",
       "                                                   &#x27;water_purifier_page_top&#x27;]),\n",
       "                                                 (&#x27;catvars&#x27;,\n",
       "                                                  Pipeline(steps=[(&#x27;targt_encoder&#x27;,\n",
       "                                                                   TargetEncoder(min_samples_leaf=100,\n",
       "                                                                                 smoothing=1000.0))]),\n",
       "                                                  [&#x27;country&#x27;, &#x27;device&#x27;,\n",
       "                                                   &#x27;region&#x27;,\n",
       "                                                   &#x27;sourceMedium&#x27;])])),\n",
       "                (&#x27;classifier&#x27;, LogisticRegression())])</pre><b>Please rerun this cell to show the HTML repr or trust the notebook.</b></div><div class=\"sk-container\" hidden><div class=\"sk-item sk-dashed-wrapped\"><div class=\"sk-label-container\"><div class=\"sk-label sk-toggleable\"><input class=\"sk-toggleable__control sk-hidden--visually\" id=\"12d846c4-d4e2-4b3b-b14e-b8418ca0de5f\" type=\"checkbox\" ><label for=\"12d846c4-d4e2-4b3b-b14e-b8418ca0de5f\" class=\"sk-toggleable__label sk-toggleable__label-arrow\">Pipeline</label><div class=\"sk-toggleable__content\"><pre>Pipeline(steps=[(&#x27;preprocessor&#x27;,\n",
       "                 ColumnTransformer(transformers=[(&#x27;num_not_imputed&#x27;,\n",
       "                                                  Pipeline(steps=[(&#x27;scaler&#x27;,\n",
       "                                                                   StandardScaler())]),\n",
       "                                                  [&#x27;DemoReqPg_CallClicks_evt_count&#x27;,\n",
       "                                                   &#x27;air_purifier_page_top&#x27;,\n",
       "                                                   &#x27;bounces&#x27;,\n",
       "                                                   &#x27;checkout_page_top&#x27;,\n",
       "                                                   &#x27;contactus_top&#x27;,\n",
       "                                                   &#x27;customer_service_amc_login_top&#x27;,\n",
       "                                                   &#x27;customer_service_request_login_top&#x27;,\n",
       "                                                   &#x27;demo_page_top&#x27;, &#x27;dsls&#x27;,\n",
       "                                                   &#x27;help_me_buy_evt_count&#x27;,...\n",
       "                                                   &#x27;phone_clicks_evt_count&#x27;,\n",
       "                                                   &#x27;security_solutions_page_top&#x27;,\n",
       "                                                   &#x27;sessionDuration&#x27;,\n",
       "                                                   &#x27;sessions&#x27;,\n",
       "                                                   &#x27;storelocator_top&#x27;,\n",
       "                                                   &#x27;successbookdemo_top&#x27;,\n",
       "                                                   &#x27;vacuum_cleaner_page_top&#x27;,\n",
       "                                                   &#x27;water_purifier_page_top&#x27;]),\n",
       "                                                 (&#x27;catvars&#x27;,\n",
       "                                                  Pipeline(steps=[(&#x27;targt_encoder&#x27;,\n",
       "                                                                   TargetEncoder(min_samples_leaf=100,\n",
       "                                                                                 smoothing=1000.0))]),\n",
       "                                                  [&#x27;country&#x27;, &#x27;device&#x27;,\n",
       "                                                   &#x27;region&#x27;,\n",
       "                                                   &#x27;sourceMedium&#x27;])])),\n",
       "                (&#x27;classifier&#x27;, LogisticRegression())])</pre></div></div></div><div class=\"sk-serial\"><div class=\"sk-item sk-dashed-wrapped\"><div class=\"sk-label-container\"><div class=\"sk-label sk-toggleable\"><input class=\"sk-toggleable__control sk-hidden--visually\" id=\"fc538d42-1f6e-4051-bb29-70cb6bdcde30\" type=\"checkbox\" ><label for=\"fc538d42-1f6e-4051-bb29-70cb6bdcde30\" class=\"sk-toggleable__label sk-toggleable__label-arrow\">preprocessor: ColumnTransformer</label><div class=\"sk-toggleable__content\"><pre>ColumnTransformer(transformers=[(&#x27;num_not_imputed&#x27;,\n",
       "                                 Pipeline(steps=[(&#x27;scaler&#x27;, StandardScaler())]),\n",
       "                                 [&#x27;DemoReqPg_CallClicks_evt_count&#x27;,\n",
       "                                  &#x27;air_purifier_page_top&#x27;, &#x27;bounces&#x27;,\n",
       "                                  &#x27;checkout_page_top&#x27;, &#x27;contactus_top&#x27;,\n",
       "                                  &#x27;customer_service_amc_login_top&#x27;,\n",
       "                                  &#x27;customer_service_request_login_top&#x27;,\n",
       "                                  &#x27;demo_page_top&#x27;, &#x27;dsls&#x27;,\n",
       "                                  &#x27;help_me_buy_evt_count&#x27;, &#x27;offer_page_top&#x27;,\n",
       "                                  &#x27;pageviews&#x27;, &#x27;phone_clicks_evt_count&#x27;,\n",
       "                                  &#x27;security_solutions_page_top&#x27;,\n",
       "                                  &#x27;sessionDuration&#x27;, &#x27;sessions&#x27;,\n",
       "                                  &#x27;storelocator_top&#x27;, &#x27;successbookdemo_top&#x27;,\n",
       "                                  &#x27;vacuum_cleaner_page_top&#x27;,\n",
       "                                  &#x27;water_purifier_page_top&#x27;]),\n",
       "                                (&#x27;catvars&#x27;,\n",
       "                                 Pipeline(steps=[(&#x27;targt_encoder&#x27;,\n",
       "                                                  TargetEncoder(min_samples_leaf=100,\n",
       "                                                                smoothing=1000.0))]),\n",
       "                                 [&#x27;country&#x27;, &#x27;device&#x27;, &#x27;region&#x27;,\n",
       "                                  &#x27;sourceMedium&#x27;])])</pre></div></div></div><div class=\"sk-parallel\"><div class=\"sk-parallel-item\"><div class=\"sk-item\"><div class=\"sk-label-container\"><div class=\"sk-label sk-toggleable\"><input class=\"sk-toggleable__control sk-hidden--visually\" id=\"ec9b1886-a9d3-44dd-92b1-2606e5cf5e34\" type=\"checkbox\" ><label for=\"ec9b1886-a9d3-44dd-92b1-2606e5cf5e34\" class=\"sk-toggleable__label sk-toggleable__label-arrow\">num_not_imputed</label><div class=\"sk-toggleable__content\"><pre>[&#x27;DemoReqPg_CallClicks_evt_count&#x27;, &#x27;air_purifier_page_top&#x27;, &#x27;bounces&#x27;, &#x27;checkout_page_top&#x27;, &#x27;contactus_top&#x27;, &#x27;customer_service_amc_login_top&#x27;, &#x27;customer_service_request_login_top&#x27;, &#x27;demo_page_top&#x27;, &#x27;dsls&#x27;, &#x27;help_me_buy_evt_count&#x27;, &#x27;offer_page_top&#x27;, &#x27;pageviews&#x27;, &#x27;phone_clicks_evt_count&#x27;, &#x27;security_solutions_page_top&#x27;, &#x27;sessionDuration&#x27;, &#x27;sessions&#x27;, &#x27;storelocator_top&#x27;, &#x27;successbookdemo_top&#x27;, &#x27;vacuum_cleaner_page_top&#x27;, &#x27;water_purifier_page_top&#x27;]</pre></div></div></div><div class=\"sk-serial\"><div class=\"sk-item\"><div class=\"sk-serial\"><div class=\"sk-item\"><div class=\"sk-estimator sk-toggleable\"><input class=\"sk-toggleable__control sk-hidden--visually\" id=\"bb5d5d01-c6c4-4fca-b932-eacde66acede\" type=\"checkbox\" ><label for=\"bb5d5d01-c6c4-4fca-b932-eacde66acede\" class=\"sk-toggleable__label sk-toggleable__label-arrow\">StandardScaler</label><div class=\"sk-toggleable__content\"><pre>StandardScaler()</pre></div></div></div></div></div></div></div></div><div class=\"sk-parallel-item\"><div class=\"sk-item\"><div class=\"sk-label-container\"><div class=\"sk-label sk-toggleable\"><input class=\"sk-toggleable__control sk-hidden--visually\" id=\"e36de63f-dcbd-4638-9485-b2f78c0df97f\" type=\"checkbox\" ><label for=\"e36de63f-dcbd-4638-9485-b2f78c0df97f\" class=\"sk-toggleable__label sk-toggleable__label-arrow\">catvars</label><div class=\"sk-toggleable__content\"><pre>[&#x27;country&#x27;, &#x27;device&#x27;, &#x27;region&#x27;, &#x27;sourceMedium&#x27;]</pre></div></div></div><div class=\"sk-serial\"><div class=\"sk-item\"><div class=\"sk-serial\"><div class=\"sk-item\"><div class=\"sk-estimator sk-toggleable\"><input class=\"sk-toggleable__control sk-hidden--visually\" id=\"41b89e2c-8254-4db5-93ed-19aa2351ca98\" type=\"checkbox\" ><label for=\"41b89e2c-8254-4db5-93ed-19aa2351ca98\" class=\"sk-toggleable__label sk-toggleable__label-arrow\">TargetEncoder</label><div class=\"sk-toggleable__content\"><pre>TargetEncoder(min_samples_leaf=100, smoothing=1000.0)</pre></div></div></div></div></div></div></div></div></div></div><div class=\"sk-item\"><div class=\"sk-estimator sk-toggleable\"><input class=\"sk-toggleable__control sk-hidden--visually\" id=\"1f1533eb-d1fe-4b25-9c51-e2d51883933e\" type=\"checkbox\" ><label for=\"1f1533eb-d1fe-4b25-9c51-e2d51883933e\" class=\"sk-toggleable__label sk-toggleable__label-arrow\">LogisticRegression</label><div class=\"sk-toggleable__content\"><pre>LogisticRegression()</pre></div></div></div></div></div></div></div>"
      ],
      "text/plain": [
       "Pipeline(steps=[('preprocessor',\n",
       "                 ColumnTransformer(transformers=[('num_not_imputed',\n",
       "                                                  Pipeline(steps=[('scaler',\n",
       "                                                                   StandardScaler())]),\n",
       "                                                  ['DemoReqPg_CallClicks_evt_count',\n",
       "                                                   'air_purifier_page_top',\n",
       "                                                   'bounces',\n",
       "                                                   'checkout_page_top',\n",
       "                                                   'contactus_top',\n",
       "                                                   'customer_service_amc_login_top',\n",
       "                                                   'customer_service_request_login_top',\n",
       "                                                   'demo_page_top', 'dsls',\n",
       "                                                   'help_me_buy_evt_count',...\n",
       "                                                   'phone_clicks_evt_count',\n",
       "                                                   'security_solutions_page_top',\n",
       "                                                   'sessionDuration',\n",
       "                                                   'sessions',\n",
       "                                                   'storelocator_top',\n",
       "                                                   'successbookdemo_top',\n",
       "                                                   'vacuum_cleaner_page_top',\n",
       "                                                   'water_purifier_page_top']),\n",
       "                                                 ('catvars',\n",
       "                                                  Pipeline(steps=[('targt_encoder',\n",
       "                                                                   TargetEncoder(min_samples_leaf=100,\n",
       "                                                                                 smoothing=1000.0))]),\n",
       "                                                  ['country', 'device',\n",
       "                                                   'region',\n",
       "                                                   'sourceMedium'])])),\n",
       "                ('classifier', LogisticRegression())])"
      ]
     },
     "execution_count": 94,
     "metadata": {},
     "output_type": "execute_result"
    }
   ],
   "source": [
    "Log_reg_e2.fit(X_over_e2,y_over_e2)"
   ]
  },
  {
   "cell_type": "code",
   "execution_count": 95,
   "id": "d2063df0",
   "metadata": {},
   "outputs": [
    {
     "name": "stdout",
     "output_type": "stream",
     "text": [
      "LG:               precision    recall  f1-score   support\n",
      "\n",
      "           0       0.71      0.62      0.66      1805\n",
      "           1       0.56      0.66      0.61      1353\n",
      "\n",
      "    accuracy                           0.64      3158\n",
      "   macro avg       0.64      0.64      0.63      3158\n",
      "weighted avg       0.65      0.64      0.64      3158\n",
      " [[1117  462]\n",
      " [ 688  891]]\n",
      " \n",
      "Accuracy Score is  : 0.6358454718176061\n"
     ]
    }
   ],
   "source": [
    "from sklearn.metrics import accuracy_score, confusion_matrix\n",
    "from sklearn.metrics import classification_report\n",
    "\n",
    "\n",
    "LOGy_pred_e2 = Log_reg_e2.predict(X_over_e2)\n",
    "print(\"LG:\",classification_report(LOGy_pred_e2,y_over_e2),confusion_matrix(y_over_e2, LOGy_pred_e2))\n",
    "print(\" \")\n",
    "print('Accuracy Score is  :' ,Log_reg_e2.score(X_over_e2,y_over_e2))"
   ]
  },
  {
   "cell_type": "markdown",
   "id": "d3a1b1b9",
   "metadata": {},
   "source": [
    "K fold crossvalidation"
   ]
  },
  {
   "cell_type": "code",
   "execution_count": 96,
   "id": "e9f6db41",
   "metadata": {},
   "outputs": [],
   "source": [
    "from sklearn.model_selection import cross_val_score"
   ]
  },
  {
   "cell_type": "code",
   "execution_count": 97,
   "id": "2c7d629d",
   "metadata": {},
   "outputs": [],
   "source": [
    "scores = cross_val_score( Log_reg_e2,\n",
    "                          X_over_e2,\n",
    "                          y_over_e2,\n",
    "                          cv = 10,\n",
    "                          scoring = 'accuracy')"
   ]
  },
  {
   "cell_type": "code",
   "execution_count": 98,
   "id": "96d03b38",
   "metadata": {},
   "outputs": [
    {
     "data": {
      "text/plain": [
       "array([0.62658228, 0.65822785, 0.66455696, 0.60759494, 0.65506329,\n",
       "       0.60443038, 0.61075949, 0.63607595, 0.63492063, 0.58412698])"
      ]
     },
     "execution_count": 98,
     "metadata": {},
     "output_type": "execute_result"
    }
   ],
   "source": [
    "scores"
   ]
  },
  {
   "cell_type": "code",
   "execution_count": 99,
   "id": "367a106c",
   "metadata": {},
   "outputs": [
    {
     "data": {
      "text/plain": [
       "0.6282338758288125"
      ]
     },
     "execution_count": 99,
     "metadata": {},
     "output_type": "execute_result"
    }
   ],
   "source": [
    "scores.mean()"
   ]
  },
  {
   "cell_type": "code",
   "execution_count": 100,
   "id": "c3b97f7e",
   "metadata": {},
   "outputs": [
    {
     "data": {
      "text/plain": [
       "0.025082075848840105"
      ]
     },
     "execution_count": 100,
     "metadata": {},
     "output_type": "execute_result"
    }
   ],
   "source": [
    "scores.std()"
   ]
  },
  {
   "cell_type": "code",
   "execution_count": 101,
   "id": "0776a150",
   "metadata": {},
   "outputs": [
    {
     "name": "stdout",
     "output_type": "stream",
     "text": [
      "Accuracy Score : 0.7063091482649843\n",
      "Precision Score : 0.09875891206759968\n",
      "Recall Score : 0.545985401459854\n",
      "F1 Score : 0.167262969588551\n"
     ]
    }
   ],
   "source": [
    "from sklearn.metrics import accuracy_score,recall_score,precision_score,f1_score\n",
    "\n",
    "Log_test_pred_e2 = Log_reg_e2.predict(X_test_e2)\n",
    "print('Accuracy Score : ' + str(accuracy_score(y_test_e2,Log_test_pred_e2)))\n",
    "print('Precision Score : ' + str(precision_score(y_test_e2,Log_test_pred_e2)))\n",
    "print('Recall Score : ' + str(recall_score(y_test_e2,Log_test_pred_e2)))\n",
    "print('F1 Score : ' + str(f1_score(y_test_e2,Log_test_pred_e2)))"
   ]
  },
  {
   "cell_type": "markdown",
   "id": "86211955",
   "metadata": {},
   "source": [
    "GRID SEARCH"
   ]
  },
  {
   "cell_type": "code",
   "execution_count": 102,
   "id": "4e651773",
   "metadata": {},
   "outputs": [],
   "source": [
    "from sklearn.model_selection import GridSearchCV"
   ]
  },
  {
   "cell_type": "code",
   "execution_count": 103,
   "id": "b25d7480",
   "metadata": {},
   "outputs": [],
   "source": [
    "grid_values = {'penalty': ['l1', 'l2'],'C':[0.001,.009,0.01,.09,1,5,10,25]}"
   ]
  },
  {
   "cell_type": "code",
   "execution_count": 104,
   "id": "ab826a85",
   "metadata": {},
   "outputs": [],
   "source": [
    "clf = LogisticRegression()\n",
    "grid_clf_acc = GridSearchCV(clf, param_grid = grid_values,scoring = 'precision')"
   ]
  },
  {
   "cell_type": "code",
   "execution_count": 105,
   "id": "991b8fdb",
   "metadata": {},
   "outputs": [],
   "source": [
    "from sklearn.linear_model import LogisticRegression\n",
    "Log_reg_e2_1 = Pipeline(\n",
    "    steps=[(\"preprocessor\", preprocessor), (\"classifier\", grid_clf_acc)]\n",
    ")"
   ]
  },
  {
   "cell_type": "code",
   "execution_count": 106,
   "id": "7958fee7",
   "metadata": {},
   "outputs": [
    {
     "data": {
      "text/html": [
       "<style>#sk-8e50f0b3-967f-42d1-bc97-815c608d98ab {color: black;background-color: white;}#sk-8e50f0b3-967f-42d1-bc97-815c608d98ab pre{padding: 0;}#sk-8e50f0b3-967f-42d1-bc97-815c608d98ab div.sk-toggleable {background-color: white;}#sk-8e50f0b3-967f-42d1-bc97-815c608d98ab label.sk-toggleable__label {cursor: pointer;display: block;width: 100%;margin-bottom: 0;padding: 0.3em;box-sizing: border-box;text-align: center;}#sk-8e50f0b3-967f-42d1-bc97-815c608d98ab label.sk-toggleable__label-arrow:before {content: \"▸\";float: left;margin-right: 0.25em;color: #696969;}#sk-8e50f0b3-967f-42d1-bc97-815c608d98ab label.sk-toggleable__label-arrow:hover:before {color: black;}#sk-8e50f0b3-967f-42d1-bc97-815c608d98ab div.sk-estimator:hover label.sk-toggleable__label-arrow:before {color: black;}#sk-8e50f0b3-967f-42d1-bc97-815c608d98ab div.sk-toggleable__content {max-height: 0;max-width: 0;overflow: hidden;text-align: left;background-color: #f0f8ff;}#sk-8e50f0b3-967f-42d1-bc97-815c608d98ab div.sk-toggleable__content pre {margin: 0.2em;color: black;border-radius: 0.25em;background-color: #f0f8ff;}#sk-8e50f0b3-967f-42d1-bc97-815c608d98ab input.sk-toggleable__control:checked~div.sk-toggleable__content {max-height: 200px;max-width: 100%;overflow: auto;}#sk-8e50f0b3-967f-42d1-bc97-815c608d98ab input.sk-toggleable__control:checked~label.sk-toggleable__label-arrow:before {content: \"▾\";}#sk-8e50f0b3-967f-42d1-bc97-815c608d98ab div.sk-estimator input.sk-toggleable__control:checked~label.sk-toggleable__label {background-color: #d4ebff;}#sk-8e50f0b3-967f-42d1-bc97-815c608d98ab div.sk-label input.sk-toggleable__control:checked~label.sk-toggleable__label {background-color: #d4ebff;}#sk-8e50f0b3-967f-42d1-bc97-815c608d98ab input.sk-hidden--visually {border: 0;clip: rect(1px 1px 1px 1px);clip: rect(1px, 1px, 1px, 1px);height: 1px;margin: -1px;overflow: hidden;padding: 0;position: absolute;width: 1px;}#sk-8e50f0b3-967f-42d1-bc97-815c608d98ab div.sk-estimator {font-family: monospace;background-color: #f0f8ff;border: 1px dotted black;border-radius: 0.25em;box-sizing: border-box;margin-bottom: 0.5em;}#sk-8e50f0b3-967f-42d1-bc97-815c608d98ab div.sk-estimator:hover {background-color: #d4ebff;}#sk-8e50f0b3-967f-42d1-bc97-815c608d98ab div.sk-parallel-item::after {content: \"\";width: 100%;border-bottom: 1px solid gray;flex-grow: 1;}#sk-8e50f0b3-967f-42d1-bc97-815c608d98ab div.sk-label:hover label.sk-toggleable__label {background-color: #d4ebff;}#sk-8e50f0b3-967f-42d1-bc97-815c608d98ab div.sk-serial::before {content: \"\";position: absolute;border-left: 1px solid gray;box-sizing: border-box;top: 2em;bottom: 0;left: 50%;}#sk-8e50f0b3-967f-42d1-bc97-815c608d98ab div.sk-serial {display: flex;flex-direction: column;align-items: center;background-color: white;padding-right: 0.2em;padding-left: 0.2em;}#sk-8e50f0b3-967f-42d1-bc97-815c608d98ab div.sk-item {z-index: 1;}#sk-8e50f0b3-967f-42d1-bc97-815c608d98ab div.sk-parallel {display: flex;align-items: stretch;justify-content: center;background-color: white;}#sk-8e50f0b3-967f-42d1-bc97-815c608d98ab div.sk-parallel::before {content: \"\";position: absolute;border-left: 1px solid gray;box-sizing: border-box;top: 2em;bottom: 0;left: 50%;}#sk-8e50f0b3-967f-42d1-bc97-815c608d98ab div.sk-parallel-item {display: flex;flex-direction: column;position: relative;background-color: white;}#sk-8e50f0b3-967f-42d1-bc97-815c608d98ab div.sk-parallel-item:first-child::after {align-self: flex-end;width: 50%;}#sk-8e50f0b3-967f-42d1-bc97-815c608d98ab div.sk-parallel-item:last-child::after {align-self: flex-start;width: 50%;}#sk-8e50f0b3-967f-42d1-bc97-815c608d98ab div.sk-parallel-item:only-child::after {width: 0;}#sk-8e50f0b3-967f-42d1-bc97-815c608d98ab div.sk-dashed-wrapped {border: 1px dashed gray;margin: 0 0.4em 0.5em 0.4em;box-sizing: border-box;padding-bottom: 0.4em;background-color: white;position: relative;}#sk-8e50f0b3-967f-42d1-bc97-815c608d98ab div.sk-label label {font-family: monospace;font-weight: bold;background-color: white;display: inline-block;line-height: 1.2em;}#sk-8e50f0b3-967f-42d1-bc97-815c608d98ab div.sk-label-container {position: relative;z-index: 2;text-align: center;}#sk-8e50f0b3-967f-42d1-bc97-815c608d98ab div.sk-container {/* jupyter's `normalize.less` sets `[hidden] { display: none; }` but bootstrap.min.css set `[hidden] { display: none !important; }` so we also need the `!important` here to be able to override the default hidden behavior on the sphinx rendered scikit-learn.org. See: https://github.com/scikit-learn/scikit-learn/issues/21755 */display: inline-block !important;position: relative;}#sk-8e50f0b3-967f-42d1-bc97-815c608d98ab div.sk-text-repr-fallback {display: none;}</style><div id=\"sk-8e50f0b3-967f-42d1-bc97-815c608d98ab\" class=\"sk-top-container\"><div class=\"sk-text-repr-fallback\"><pre>Pipeline(steps=[(&#x27;preprocessor&#x27;,\n",
       "                 ColumnTransformer(transformers=[(&#x27;num_not_imputed&#x27;,\n",
       "                                                  Pipeline(steps=[(&#x27;scaler&#x27;,\n",
       "                                                                   StandardScaler())]),\n",
       "                                                  [&#x27;DemoReqPg_CallClicks_evt_count&#x27;,\n",
       "                                                   &#x27;air_purifier_page_top&#x27;,\n",
       "                                                   &#x27;bounces&#x27;,\n",
       "                                                   &#x27;checkout_page_top&#x27;,\n",
       "                                                   &#x27;contactus_top&#x27;,\n",
       "                                                   &#x27;customer_service_amc_login_top&#x27;,\n",
       "                                                   &#x27;customer_service_request_login_top&#x27;,\n",
       "                                                   &#x27;demo_page_top&#x27;, &#x27;dsls&#x27;,\n",
       "                                                   &#x27;help_me_buy_evt_count&#x27;,...\n",
       "                                                   &#x27;vacuum_cleaner_page_top&#x27;,\n",
       "                                                   &#x27;water_purifier_page_top&#x27;]),\n",
       "                                                 (&#x27;catvars&#x27;,\n",
       "                                                  Pipeline(steps=[(&#x27;targt_encoder&#x27;,\n",
       "                                                                   TargetEncoder(min_samples_leaf=100,\n",
       "                                                                                 smoothing=1000.0))]),\n",
       "                                                  [&#x27;country&#x27;, &#x27;device&#x27;,\n",
       "                                                   &#x27;region&#x27;,\n",
       "                                                   &#x27;sourceMedium&#x27;])])),\n",
       "                (&#x27;classifier&#x27;,\n",
       "                 GridSearchCV(estimator=LogisticRegression(),\n",
       "                              param_grid={&#x27;C&#x27;: [0.001, 0.009, 0.01, 0.09, 1, 5,\n",
       "                                                10, 25],\n",
       "                                          &#x27;penalty&#x27;: [&#x27;l1&#x27;, &#x27;l2&#x27;]},\n",
       "                              scoring=&#x27;precision&#x27;))])</pre><b>Please rerun this cell to show the HTML repr or trust the notebook.</b></div><div class=\"sk-container\" hidden><div class=\"sk-item sk-dashed-wrapped\"><div class=\"sk-label-container\"><div class=\"sk-label sk-toggleable\"><input class=\"sk-toggleable__control sk-hidden--visually\" id=\"c5da253e-f420-4d05-939d-6fd8da6ee7ab\" type=\"checkbox\" ><label for=\"c5da253e-f420-4d05-939d-6fd8da6ee7ab\" class=\"sk-toggleable__label sk-toggleable__label-arrow\">Pipeline</label><div class=\"sk-toggleable__content\"><pre>Pipeline(steps=[(&#x27;preprocessor&#x27;,\n",
       "                 ColumnTransformer(transformers=[(&#x27;num_not_imputed&#x27;,\n",
       "                                                  Pipeline(steps=[(&#x27;scaler&#x27;,\n",
       "                                                                   StandardScaler())]),\n",
       "                                                  [&#x27;DemoReqPg_CallClicks_evt_count&#x27;,\n",
       "                                                   &#x27;air_purifier_page_top&#x27;,\n",
       "                                                   &#x27;bounces&#x27;,\n",
       "                                                   &#x27;checkout_page_top&#x27;,\n",
       "                                                   &#x27;contactus_top&#x27;,\n",
       "                                                   &#x27;customer_service_amc_login_top&#x27;,\n",
       "                                                   &#x27;customer_service_request_login_top&#x27;,\n",
       "                                                   &#x27;demo_page_top&#x27;, &#x27;dsls&#x27;,\n",
       "                                                   &#x27;help_me_buy_evt_count&#x27;,...\n",
       "                                                   &#x27;vacuum_cleaner_page_top&#x27;,\n",
       "                                                   &#x27;water_purifier_page_top&#x27;]),\n",
       "                                                 (&#x27;catvars&#x27;,\n",
       "                                                  Pipeline(steps=[(&#x27;targt_encoder&#x27;,\n",
       "                                                                   TargetEncoder(min_samples_leaf=100,\n",
       "                                                                                 smoothing=1000.0))]),\n",
       "                                                  [&#x27;country&#x27;, &#x27;device&#x27;,\n",
       "                                                   &#x27;region&#x27;,\n",
       "                                                   &#x27;sourceMedium&#x27;])])),\n",
       "                (&#x27;classifier&#x27;,\n",
       "                 GridSearchCV(estimator=LogisticRegression(),\n",
       "                              param_grid={&#x27;C&#x27;: [0.001, 0.009, 0.01, 0.09, 1, 5,\n",
       "                                                10, 25],\n",
       "                                          &#x27;penalty&#x27;: [&#x27;l1&#x27;, &#x27;l2&#x27;]},\n",
       "                              scoring=&#x27;precision&#x27;))])</pre></div></div></div><div class=\"sk-serial\"><div class=\"sk-item sk-dashed-wrapped\"><div class=\"sk-label-container\"><div class=\"sk-label sk-toggleable\"><input class=\"sk-toggleable__control sk-hidden--visually\" id=\"c9fccadc-46bf-4780-ac6b-3e03f3833161\" type=\"checkbox\" ><label for=\"c9fccadc-46bf-4780-ac6b-3e03f3833161\" class=\"sk-toggleable__label sk-toggleable__label-arrow\">preprocessor: ColumnTransformer</label><div class=\"sk-toggleable__content\"><pre>ColumnTransformer(transformers=[(&#x27;num_not_imputed&#x27;,\n",
       "                                 Pipeline(steps=[(&#x27;scaler&#x27;, StandardScaler())]),\n",
       "                                 [&#x27;DemoReqPg_CallClicks_evt_count&#x27;,\n",
       "                                  &#x27;air_purifier_page_top&#x27;, &#x27;bounces&#x27;,\n",
       "                                  &#x27;checkout_page_top&#x27;, &#x27;contactus_top&#x27;,\n",
       "                                  &#x27;customer_service_amc_login_top&#x27;,\n",
       "                                  &#x27;customer_service_request_login_top&#x27;,\n",
       "                                  &#x27;demo_page_top&#x27;, &#x27;dsls&#x27;,\n",
       "                                  &#x27;help_me_buy_evt_count&#x27;, &#x27;offer_page_top&#x27;,\n",
       "                                  &#x27;pageviews&#x27;, &#x27;phone_clicks_evt_count&#x27;,\n",
       "                                  &#x27;security_solutions_page_top&#x27;,\n",
       "                                  &#x27;sessionDuration&#x27;, &#x27;sessions&#x27;,\n",
       "                                  &#x27;storelocator_top&#x27;, &#x27;successbookdemo_top&#x27;,\n",
       "                                  &#x27;vacuum_cleaner_page_top&#x27;,\n",
       "                                  &#x27;water_purifier_page_top&#x27;]),\n",
       "                                (&#x27;catvars&#x27;,\n",
       "                                 Pipeline(steps=[(&#x27;targt_encoder&#x27;,\n",
       "                                                  TargetEncoder(min_samples_leaf=100,\n",
       "                                                                smoothing=1000.0))]),\n",
       "                                 [&#x27;country&#x27;, &#x27;device&#x27;, &#x27;region&#x27;,\n",
       "                                  &#x27;sourceMedium&#x27;])])</pre></div></div></div><div class=\"sk-parallel\"><div class=\"sk-parallel-item\"><div class=\"sk-item\"><div class=\"sk-label-container\"><div class=\"sk-label sk-toggleable\"><input class=\"sk-toggleable__control sk-hidden--visually\" id=\"f9988da0-5345-421e-ba16-1e5158d3e574\" type=\"checkbox\" ><label for=\"f9988da0-5345-421e-ba16-1e5158d3e574\" class=\"sk-toggleable__label sk-toggleable__label-arrow\">num_not_imputed</label><div class=\"sk-toggleable__content\"><pre>[&#x27;DemoReqPg_CallClicks_evt_count&#x27;, &#x27;air_purifier_page_top&#x27;, &#x27;bounces&#x27;, &#x27;checkout_page_top&#x27;, &#x27;contactus_top&#x27;, &#x27;customer_service_amc_login_top&#x27;, &#x27;customer_service_request_login_top&#x27;, &#x27;demo_page_top&#x27;, &#x27;dsls&#x27;, &#x27;help_me_buy_evt_count&#x27;, &#x27;offer_page_top&#x27;, &#x27;pageviews&#x27;, &#x27;phone_clicks_evt_count&#x27;, &#x27;security_solutions_page_top&#x27;, &#x27;sessionDuration&#x27;, &#x27;sessions&#x27;, &#x27;storelocator_top&#x27;, &#x27;successbookdemo_top&#x27;, &#x27;vacuum_cleaner_page_top&#x27;, &#x27;water_purifier_page_top&#x27;]</pre></div></div></div><div class=\"sk-serial\"><div class=\"sk-item\"><div class=\"sk-serial\"><div class=\"sk-item\"><div class=\"sk-estimator sk-toggleable\"><input class=\"sk-toggleable__control sk-hidden--visually\" id=\"53cd19e9-4395-40e6-8088-3f1c7892a39d\" type=\"checkbox\" ><label for=\"53cd19e9-4395-40e6-8088-3f1c7892a39d\" class=\"sk-toggleable__label sk-toggleable__label-arrow\">StandardScaler</label><div class=\"sk-toggleable__content\"><pre>StandardScaler()</pre></div></div></div></div></div></div></div></div><div class=\"sk-parallel-item\"><div class=\"sk-item\"><div class=\"sk-label-container\"><div class=\"sk-label sk-toggleable\"><input class=\"sk-toggleable__control sk-hidden--visually\" id=\"0175a0ca-ff71-4bcc-9ef9-5221f821165e\" type=\"checkbox\" ><label for=\"0175a0ca-ff71-4bcc-9ef9-5221f821165e\" class=\"sk-toggleable__label sk-toggleable__label-arrow\">catvars</label><div class=\"sk-toggleable__content\"><pre>[&#x27;country&#x27;, &#x27;device&#x27;, &#x27;region&#x27;, &#x27;sourceMedium&#x27;]</pre></div></div></div><div class=\"sk-serial\"><div class=\"sk-item\"><div class=\"sk-serial\"><div class=\"sk-item\"><div class=\"sk-estimator sk-toggleable\"><input class=\"sk-toggleable__control sk-hidden--visually\" id=\"58274f1c-4238-415f-bc20-8e538e559ef4\" type=\"checkbox\" ><label for=\"58274f1c-4238-415f-bc20-8e538e559ef4\" class=\"sk-toggleable__label sk-toggleable__label-arrow\">TargetEncoder</label><div class=\"sk-toggleable__content\"><pre>TargetEncoder(min_samples_leaf=100, smoothing=1000.0)</pre></div></div></div></div></div></div></div></div></div></div><div class=\"sk-item sk-dashed-wrapped\"><div class=\"sk-label-container\"><div class=\"sk-label sk-toggleable\"><input class=\"sk-toggleable__control sk-hidden--visually\" id=\"5015ccb4-526a-4a7e-868d-76513e39457d\" type=\"checkbox\" ><label for=\"5015ccb4-526a-4a7e-868d-76513e39457d\" class=\"sk-toggleable__label sk-toggleable__label-arrow\">classifier: GridSearchCV</label><div class=\"sk-toggleable__content\"><pre>GridSearchCV(estimator=LogisticRegression(),\n",
       "             param_grid={&#x27;C&#x27;: [0.001, 0.009, 0.01, 0.09, 1, 5, 10, 25],\n",
       "                         &#x27;penalty&#x27;: [&#x27;l1&#x27;, &#x27;l2&#x27;]},\n",
       "             scoring=&#x27;precision&#x27;)</pre></div></div></div><div class=\"sk-parallel\"><div class=\"sk-parallel-item\"><div class=\"sk-item\"><div class=\"sk-serial\"><div class=\"sk-item\"><div class=\"sk-estimator sk-toggleable\"><input class=\"sk-toggleable__control sk-hidden--visually\" id=\"9da21a2b-e07c-4e20-9790-ddc678bab9fe\" type=\"checkbox\" ><label for=\"9da21a2b-e07c-4e20-9790-ddc678bab9fe\" class=\"sk-toggleable__label sk-toggleable__label-arrow\">LogisticRegression</label><div class=\"sk-toggleable__content\"><pre>LogisticRegression()</pre></div></div></div></div></div></div></div></div></div></div></div></div>"
      ],
      "text/plain": [
       "Pipeline(steps=[('preprocessor',\n",
       "                 ColumnTransformer(transformers=[('num_not_imputed',\n",
       "                                                  Pipeline(steps=[('scaler',\n",
       "                                                                   StandardScaler())]),\n",
       "                                                  ['DemoReqPg_CallClicks_evt_count',\n",
       "                                                   'air_purifier_page_top',\n",
       "                                                   'bounces',\n",
       "                                                   'checkout_page_top',\n",
       "                                                   'contactus_top',\n",
       "                                                   'customer_service_amc_login_top',\n",
       "                                                   'customer_service_request_login_top',\n",
       "                                                   'demo_page_top', 'dsls',\n",
       "                                                   'help_me_buy_evt_count',...\n",
       "                                                   'vacuum_cleaner_page_top',\n",
       "                                                   'water_purifier_page_top']),\n",
       "                                                 ('catvars',\n",
       "                                                  Pipeline(steps=[('targt_encoder',\n",
       "                                                                   TargetEncoder(min_samples_leaf=100,\n",
       "                                                                                 smoothing=1000.0))]),\n",
       "                                                  ['country', 'device',\n",
       "                                                   'region',\n",
       "                                                   'sourceMedium'])])),\n",
       "                ('classifier',\n",
       "                 GridSearchCV(estimator=LogisticRegression(),\n",
       "                              param_grid={'C': [0.001, 0.009, 0.01, 0.09, 1, 5,\n",
       "                                                10, 25],\n",
       "                                          'penalty': ['l1', 'l2']},\n",
       "                              scoring='precision'))])"
      ]
     },
     "execution_count": 106,
     "metadata": {},
     "output_type": "execute_result"
    }
   ],
   "source": [
    "Log_reg_e2_1.fit(X_over_e2,y_over_e2)"
   ]
  },
  {
   "cell_type": "code",
   "execution_count": 107,
   "id": "b08dc837",
   "metadata": {},
   "outputs": [
    {
     "name": "stdout",
     "output_type": "stream",
     "text": [
      "Accuracy Score : 0.7651419558359621\n",
      "Precision Score : 0.10342442061570391\n",
      "Recall Score : 0.4364963503649635\n",
      "F1 Score : 0.16722595078299776\n"
     ]
    },
    {
     "data": {
      "text/plain": [
       "array([[9403, 2592],\n",
       "       [ 386,  299]], dtype=int64)"
      ]
     },
     "execution_count": 107,
     "metadata": {},
     "output_type": "execute_result"
    }
   ],
   "source": [
    "from sklearn.metrics import accuracy_score,recall_score,precision_score,f1_score\n",
    "\n",
    "#Predict values based on new parameters\n",
    "y_pred_acc = Log_reg_e2_1.predict(X_test_e2)\n",
    "\n",
    "# New Model Evaluation metrics \n",
    "print('Accuracy Score : ' + str(accuracy_score(y_test_e2,y_pred_acc)))\n",
    "print('Precision Score : ' + str(precision_score(y_test_e2,y_pred_acc)))\n",
    "print('Recall Score : ' + str(recall_score(y_test_e2,y_pred_acc)))\n",
    "print('F1 Score : ' + str(f1_score(y_test_e2,y_pred_acc)))\n",
    "\n",
    "#Logistic Regression (Grid Search) Confusion matrix\n",
    "confusion_matrix(y_test_e2,y_pred_acc)"
   ]
  },
  {
   "cell_type": "markdown",
   "id": "1b63c159",
   "metadata": {},
   "source": [
    "L1 based feature selection"
   ]
  },
  {
   "cell_type": "code",
   "execution_count": 108,
   "id": "f20e7b98",
   "metadata": {},
   "outputs": [],
   "source": [
    "#eureka_data_e2=eureka_data_e2.drop('country',axis=1)\n",
    "#eureka_data_e2=eureka_data_e2.drop('device',axis=1)\n",
    "#eureka_data_e2=eureka_data_e2.drop('region',axis=1)\n",
    "#eureka_data_e2=eureka_data_e2.drop('sourceMedium',axis=1)"
   ]
  },
  {
   "cell_type": "code",
   "execution_count": 109,
   "id": "2c41f1a4",
   "metadata": {},
   "outputs": [],
   "source": [
    "x_features = list(eureka_data_e2.columns)\n",
    "x_features.remove('converted')"
   ]
  },
  {
   "cell_type": "code",
   "execution_count": 110,
   "id": "0a3dc094",
   "metadata": {},
   "outputs": [],
   "source": [
    "from category_encoders import TargetEncoder\n",
    "cat_features = ['country','device','region','sourceMedium']\n",
    "target_encoder = TargetEncoder(cols=['country','device','region','sourceMedium'], min_samples_leaf=100, smoothing=1000.0)"
   ]
  },
  {
   "cell_type": "code",
   "execution_count": 111,
   "id": "6d8fe095",
   "metadata": {},
   "outputs": [
    {
     "data": {
      "text/html": [
       "<style>#sk-8214b279-80ae-4299-949c-12f4c3e0be3b {color: black;background-color: white;}#sk-8214b279-80ae-4299-949c-12f4c3e0be3b pre{padding: 0;}#sk-8214b279-80ae-4299-949c-12f4c3e0be3b div.sk-toggleable {background-color: white;}#sk-8214b279-80ae-4299-949c-12f4c3e0be3b label.sk-toggleable__label {cursor: pointer;display: block;width: 100%;margin-bottom: 0;padding: 0.3em;box-sizing: border-box;text-align: center;}#sk-8214b279-80ae-4299-949c-12f4c3e0be3b label.sk-toggleable__label-arrow:before {content: \"▸\";float: left;margin-right: 0.25em;color: #696969;}#sk-8214b279-80ae-4299-949c-12f4c3e0be3b label.sk-toggleable__label-arrow:hover:before {color: black;}#sk-8214b279-80ae-4299-949c-12f4c3e0be3b div.sk-estimator:hover label.sk-toggleable__label-arrow:before {color: black;}#sk-8214b279-80ae-4299-949c-12f4c3e0be3b div.sk-toggleable__content {max-height: 0;max-width: 0;overflow: hidden;text-align: left;background-color: #f0f8ff;}#sk-8214b279-80ae-4299-949c-12f4c3e0be3b div.sk-toggleable__content pre {margin: 0.2em;color: black;border-radius: 0.25em;background-color: #f0f8ff;}#sk-8214b279-80ae-4299-949c-12f4c3e0be3b input.sk-toggleable__control:checked~div.sk-toggleable__content {max-height: 200px;max-width: 100%;overflow: auto;}#sk-8214b279-80ae-4299-949c-12f4c3e0be3b input.sk-toggleable__control:checked~label.sk-toggleable__label-arrow:before {content: \"▾\";}#sk-8214b279-80ae-4299-949c-12f4c3e0be3b div.sk-estimator input.sk-toggleable__control:checked~label.sk-toggleable__label {background-color: #d4ebff;}#sk-8214b279-80ae-4299-949c-12f4c3e0be3b div.sk-label input.sk-toggleable__control:checked~label.sk-toggleable__label {background-color: #d4ebff;}#sk-8214b279-80ae-4299-949c-12f4c3e0be3b input.sk-hidden--visually {border: 0;clip: rect(1px 1px 1px 1px);clip: rect(1px, 1px, 1px, 1px);height: 1px;margin: -1px;overflow: hidden;padding: 0;position: absolute;width: 1px;}#sk-8214b279-80ae-4299-949c-12f4c3e0be3b div.sk-estimator {font-family: monospace;background-color: #f0f8ff;border: 1px dotted black;border-radius: 0.25em;box-sizing: border-box;margin-bottom: 0.5em;}#sk-8214b279-80ae-4299-949c-12f4c3e0be3b div.sk-estimator:hover {background-color: #d4ebff;}#sk-8214b279-80ae-4299-949c-12f4c3e0be3b div.sk-parallel-item::after {content: \"\";width: 100%;border-bottom: 1px solid gray;flex-grow: 1;}#sk-8214b279-80ae-4299-949c-12f4c3e0be3b div.sk-label:hover label.sk-toggleable__label {background-color: #d4ebff;}#sk-8214b279-80ae-4299-949c-12f4c3e0be3b div.sk-serial::before {content: \"\";position: absolute;border-left: 1px solid gray;box-sizing: border-box;top: 2em;bottom: 0;left: 50%;}#sk-8214b279-80ae-4299-949c-12f4c3e0be3b div.sk-serial {display: flex;flex-direction: column;align-items: center;background-color: white;padding-right: 0.2em;padding-left: 0.2em;}#sk-8214b279-80ae-4299-949c-12f4c3e0be3b div.sk-item {z-index: 1;}#sk-8214b279-80ae-4299-949c-12f4c3e0be3b div.sk-parallel {display: flex;align-items: stretch;justify-content: center;background-color: white;}#sk-8214b279-80ae-4299-949c-12f4c3e0be3b div.sk-parallel::before {content: \"\";position: absolute;border-left: 1px solid gray;box-sizing: border-box;top: 2em;bottom: 0;left: 50%;}#sk-8214b279-80ae-4299-949c-12f4c3e0be3b div.sk-parallel-item {display: flex;flex-direction: column;position: relative;background-color: white;}#sk-8214b279-80ae-4299-949c-12f4c3e0be3b div.sk-parallel-item:first-child::after {align-self: flex-end;width: 50%;}#sk-8214b279-80ae-4299-949c-12f4c3e0be3b div.sk-parallel-item:last-child::after {align-self: flex-start;width: 50%;}#sk-8214b279-80ae-4299-949c-12f4c3e0be3b div.sk-parallel-item:only-child::after {width: 0;}#sk-8214b279-80ae-4299-949c-12f4c3e0be3b div.sk-dashed-wrapped {border: 1px dashed gray;margin: 0 0.4em 0.5em 0.4em;box-sizing: border-box;padding-bottom: 0.4em;background-color: white;position: relative;}#sk-8214b279-80ae-4299-949c-12f4c3e0be3b div.sk-label label {font-family: monospace;font-weight: bold;background-color: white;display: inline-block;line-height: 1.2em;}#sk-8214b279-80ae-4299-949c-12f4c3e0be3b div.sk-label-container {position: relative;z-index: 2;text-align: center;}#sk-8214b279-80ae-4299-949c-12f4c3e0be3b div.sk-container {/* jupyter's `normalize.less` sets `[hidden] { display: none; }` but bootstrap.min.css set `[hidden] { display: none !important; }` so we also need the `!important` here to be able to override the default hidden behavior on the sphinx rendered scikit-learn.org. See: https://github.com/scikit-learn/scikit-learn/issues/21755 */display: inline-block !important;position: relative;}#sk-8214b279-80ae-4299-949c-12f4c3e0be3b div.sk-text-repr-fallback {display: none;}</style><div id=\"sk-8214b279-80ae-4299-949c-12f4c3e0be3b\" class=\"sk-top-container\"><div class=\"sk-text-repr-fallback\"><pre>TargetEncoder(cols=[&#x27;country&#x27;, &#x27;device&#x27;, &#x27;region&#x27;, &#x27;sourceMedium&#x27;],\n",
       "              min_samples_leaf=100, smoothing=1000.0)</pre><b>Please rerun this cell to show the HTML repr or trust the notebook.</b></div><div class=\"sk-container\" hidden><div class=\"sk-item\"><div class=\"sk-estimator sk-toggleable\"><input class=\"sk-toggleable__control sk-hidden--visually\" id=\"befea847-b8af-42fc-8f0b-f1de32b47e78\" type=\"checkbox\" checked><label for=\"befea847-b8af-42fc-8f0b-f1de32b47e78\" class=\"sk-toggleable__label sk-toggleable__label-arrow\">TargetEncoder</label><div class=\"sk-toggleable__content\"><pre>TargetEncoder(cols=[&#x27;country&#x27;, &#x27;device&#x27;, &#x27;region&#x27;, &#x27;sourceMedium&#x27;],\n",
       "              min_samples_leaf=100, smoothing=1000.0)</pre></div></div></div></div></div>"
      ],
      "text/plain": [
       "TargetEncoder(cols=['country', 'device', 'region', 'sourceMedium'],\n",
       "              min_samples_leaf=100, smoothing=1000.0)"
      ]
     },
     "execution_count": 111,
     "metadata": {},
     "output_type": "execute_result"
    }
   ],
   "source": [
    "target_encoder.fit(eureka_data_e2[x_features], eureka_data_e2['converted'])"
   ]
  },
  {
   "cell_type": "code",
   "execution_count": 112,
   "id": "8495284f",
   "metadata": {},
   "outputs": [],
   "source": [
    "tr_df_encoded = target_encoder.transform(eureka_data_e2[x_features])\n"
   ]
  },
  {
   "cell_type": "code",
   "execution_count": 113,
   "id": "2a0a25d6",
   "metadata": {},
   "outputs": [],
   "source": [
    "df=pd.DataFrame(eureka_data_e2['converted'])\n",
    "df_1=pd.DataFrame(tr_df_encoded)"
   ]
  },
  {
   "cell_type": "markdown",
   "id": "b96de436",
   "metadata": {},
   "source": [
    "from sklearn.linear_model import Lasso, LogisticRegression\n",
    "from sklearn.feature_selection import SelectFromModel\n",
    "from sklearn.preprocessing import StandardScaler"
   ]
  },
  {
   "cell_type": "code",
   "execution_count": 114,
   "id": "f2002d16",
   "metadata": {},
   "outputs": [],
   "source": [
    "data_out_e2=pd.concat([df_1,df],axis=1)"
   ]
  },
  {
   "cell_type": "code",
   "execution_count": 115,
   "id": "2efe5cf7",
   "metadata": {},
   "outputs": [],
   "source": [
    "train_df, test_df = train_test_split(data_out_e2,\n",
    "                                     train_size = 0.7,\n",
    "                                     random_state = 100)\n"
   ]
  },
  {
   "cell_type": "code",
   "execution_count": 116,
   "id": "f8b84fdc",
   "metadata": {},
   "outputs": [],
   "source": [
    "x_features = list(train_df.columns)\n",
    "x_features.remove('converted')"
   ]
  },
  {
   "cell_type": "code",
   "execution_count": 117,
   "id": "c72b854e",
   "metadata": {},
   "outputs": [],
   "source": [
    "logreg_feat_e2 = LogisticRegression( penalty = 'l1', C = .1, solver = 'liblinear' )"
   ]
  },
  {
   "cell_type": "code",
   "execution_count": 118,
   "id": "43b4b0f4",
   "metadata": {},
   "outputs": [
    {
     "data": {
      "text/html": [
       "<div>\n",
       "<style scoped>\n",
       "    .dataframe tbody tr th:only-of-type {\n",
       "        vertical-align: middle;\n",
       "    }\n",
       "\n",
       "    .dataframe tbody tr th {\n",
       "        vertical-align: top;\n",
       "    }\n",
       "\n",
       "    .dataframe thead th {\n",
       "        text-align: right;\n",
       "    }\n",
       "</style>\n",
       "<table border=\"1\" class=\"dataframe\">\n",
       "  <thead>\n",
       "    <tr style=\"text-align: right;\">\n",
       "      <th></th>\n",
       "      <th>DemoReqPg_CallClicks_evt_count</th>\n",
       "      <th>air_purifier_page_top</th>\n",
       "      <th>bounces</th>\n",
       "      <th>checkout_page_top</th>\n",
       "      <th>contactus_top</th>\n",
       "      <th>country</th>\n",
       "      <th>customer_service_amc_login_top</th>\n",
       "      <th>customer_service_request_login_top</th>\n",
       "      <th>demo_page_top</th>\n",
       "      <th>device</th>\n",
       "      <th>...</th>\n",
       "      <th>visited_customer_service_request_login</th>\n",
       "      <th>visited_demo_page</th>\n",
       "      <th>visited_offer_page</th>\n",
       "      <th>visited_security_solutions_page</th>\n",
       "      <th>visited_storelocator</th>\n",
       "      <th>visited_successbookdemo</th>\n",
       "      <th>visited_vacuum_cleaner_page</th>\n",
       "      <th>visited_water_purifier_page</th>\n",
       "      <th>water_purifier_page_top</th>\n",
       "      <th>converted</th>\n",
       "    </tr>\n",
       "  </thead>\n",
       "  <tbody>\n",
       "    <tr>\n",
       "      <th>27398</th>\n",
       "      <td>0.0</td>\n",
       "      <td>0.0</td>\n",
       "      <td>0.0</td>\n",
       "      <td>0.0</td>\n",
       "      <td>0.0</td>\n",
       "      <td>0.053037</td>\n",
       "      <td>0.0</td>\n",
       "      <td>0.0</td>\n",
       "      <td>34.0</td>\n",
       "      <td>0.059142</td>\n",
       "      <td>...</td>\n",
       "      <td>0.0</td>\n",
       "      <td>1.0</td>\n",
       "      <td>0.0</td>\n",
       "      <td>0.0</td>\n",
       "      <td>0.0</td>\n",
       "      <td>0.0</td>\n",
       "      <td>0.0</td>\n",
       "      <td>0.0</td>\n",
       "      <td>0.0</td>\n",
       "      <td>0</td>\n",
       "    </tr>\n",
       "    <tr>\n",
       "      <th>10607</th>\n",
       "      <td>0.0</td>\n",
       "      <td>0.0</td>\n",
       "      <td>4.0</td>\n",
       "      <td>0.0</td>\n",
       "      <td>0.0</td>\n",
       "      <td>0.053037</td>\n",
       "      <td>0.0</td>\n",
       "      <td>0.0</td>\n",
       "      <td>764.0</td>\n",
       "      <td>0.059142</td>\n",
       "      <td>...</td>\n",
       "      <td>0.0</td>\n",
       "      <td>1.0</td>\n",
       "      <td>0.0</td>\n",
       "      <td>0.0</td>\n",
       "      <td>0.0</td>\n",
       "      <td>0.0</td>\n",
       "      <td>0.0</td>\n",
       "      <td>0.0</td>\n",
       "      <td>0.0</td>\n",
       "      <td>0</td>\n",
       "    </tr>\n",
       "    <tr>\n",
       "      <th>17654</th>\n",
       "      <td>0.0</td>\n",
       "      <td>0.0</td>\n",
       "      <td>0.0</td>\n",
       "      <td>0.0</td>\n",
       "      <td>0.0</td>\n",
       "      <td>0.053037</td>\n",
       "      <td>0.0</td>\n",
       "      <td>0.0</td>\n",
       "      <td>0.0</td>\n",
       "      <td>0.019085</td>\n",
       "      <td>...</td>\n",
       "      <td>0.0</td>\n",
       "      <td>0.0</td>\n",
       "      <td>0.0</td>\n",
       "      <td>0.0</td>\n",
       "      <td>0.0</td>\n",
       "      <td>0.0</td>\n",
       "      <td>0.0</td>\n",
       "      <td>1.0</td>\n",
       "      <td>220.0</td>\n",
       "      <td>0</td>\n",
       "    </tr>\n",
       "    <tr>\n",
       "      <th>22618</th>\n",
       "      <td>0.0</td>\n",
       "      <td>0.0</td>\n",
       "      <td>1.0</td>\n",
       "      <td>0.0</td>\n",
       "      <td>0.0</td>\n",
       "      <td>0.053037</td>\n",
       "      <td>0.0</td>\n",
       "      <td>0.0</td>\n",
       "      <td>1632.0</td>\n",
       "      <td>0.059142</td>\n",
       "      <td>...</td>\n",
       "      <td>0.0</td>\n",
       "      <td>1.0</td>\n",
       "      <td>0.0</td>\n",
       "      <td>0.0</td>\n",
       "      <td>0.0</td>\n",
       "      <td>0.0</td>\n",
       "      <td>0.0</td>\n",
       "      <td>0.0</td>\n",
       "      <td>0.0</td>\n",
       "      <td>0</td>\n",
       "    </tr>\n",
       "    <tr>\n",
       "      <th>517</th>\n",
       "      <td>0.0</td>\n",
       "      <td>0.0</td>\n",
       "      <td>3.0</td>\n",
       "      <td>0.0</td>\n",
       "      <td>0.0</td>\n",
       "      <td>0.053037</td>\n",
       "      <td>61.0</td>\n",
       "      <td>38.0</td>\n",
       "      <td>0.0</td>\n",
       "      <td>0.059142</td>\n",
       "      <td>...</td>\n",
       "      <td>1.0</td>\n",
       "      <td>0.0</td>\n",
       "      <td>0.0</td>\n",
       "      <td>0.0</td>\n",
       "      <td>0.0</td>\n",
       "      <td>0.0</td>\n",
       "      <td>0.0</td>\n",
       "      <td>1.0</td>\n",
       "      <td>511.0</td>\n",
       "      <td>0</td>\n",
       "    </tr>\n",
       "  </tbody>\n",
       "</table>\n",
       "<p>5 rows × 42 columns</p>\n",
       "</div>"
      ],
      "text/plain": [
       "       DemoReqPg_CallClicks_evt_count  air_purifier_page_top  bounces  \\\n",
       "27398                             0.0                    0.0      0.0   \n",
       "10607                             0.0                    0.0      4.0   \n",
       "17654                             0.0                    0.0      0.0   \n",
       "22618                             0.0                    0.0      1.0   \n",
       "517                               0.0                    0.0      3.0   \n",
       "\n",
       "       checkout_page_top  contactus_top   country  \\\n",
       "27398                0.0            0.0  0.053037   \n",
       "10607                0.0            0.0  0.053037   \n",
       "17654                0.0            0.0  0.053037   \n",
       "22618                0.0            0.0  0.053037   \n",
       "517                  0.0            0.0  0.053037   \n",
       "\n",
       "       customer_service_amc_login_top  customer_service_request_login_top  \\\n",
       "27398                             0.0                                 0.0   \n",
       "10607                             0.0                                 0.0   \n",
       "17654                             0.0                                 0.0   \n",
       "22618                             0.0                                 0.0   \n",
       "517                              61.0                                38.0   \n",
       "\n",
       "       demo_page_top    device  ...  visited_customer_service_request_login  \\\n",
       "27398           34.0  0.059142  ...                                     0.0   \n",
       "10607          764.0  0.059142  ...                                     0.0   \n",
       "17654            0.0  0.019085  ...                                     0.0   \n",
       "22618         1632.0  0.059142  ...                                     0.0   \n",
       "517              0.0  0.059142  ...                                     1.0   \n",
       "\n",
       "       visited_demo_page  visited_offer_page  visited_security_solutions_page  \\\n",
       "27398                1.0                 0.0                              0.0   \n",
       "10607                1.0                 0.0                              0.0   \n",
       "17654                0.0                 0.0                              0.0   \n",
       "22618                1.0                 0.0                              0.0   \n",
       "517                  0.0                 0.0                              0.0   \n",
       "\n",
       "       visited_storelocator  visited_successbookdemo  \\\n",
       "27398                   0.0                      0.0   \n",
       "10607                   0.0                      0.0   \n",
       "17654                   0.0                      0.0   \n",
       "22618                   0.0                      0.0   \n",
       "517                     0.0                      0.0   \n",
       "\n",
       "       visited_vacuum_cleaner_page  visited_water_purifier_page  \\\n",
       "27398                          0.0                          0.0   \n",
       "10607                          0.0                          0.0   \n",
       "17654                          0.0                          1.0   \n",
       "22618                          0.0                          0.0   \n",
       "517                            0.0                          1.0   \n",
       "\n",
       "       water_purifier_page_top  converted  \n",
       "27398                      0.0          0  \n",
       "10607                      0.0          0  \n",
       "17654                    220.0          0  \n",
       "22618                      0.0          0  \n",
       "517                      511.0          0  \n",
       "\n",
       "[5 rows x 42 columns]"
      ]
     },
     "execution_count": 118,
     "metadata": {},
     "output_type": "execute_result"
    }
   ],
   "source": [
    "train_df.head()"
   ]
  },
  {
   "cell_type": "code",
   "execution_count": 119,
   "id": "32a8715b",
   "metadata": {},
   "outputs": [
    {
     "data": {
      "text/html": [
       "<style>#sk-165e0b23-f24f-4296-b190-a300bfe04cb2 {color: black;background-color: white;}#sk-165e0b23-f24f-4296-b190-a300bfe04cb2 pre{padding: 0;}#sk-165e0b23-f24f-4296-b190-a300bfe04cb2 div.sk-toggleable {background-color: white;}#sk-165e0b23-f24f-4296-b190-a300bfe04cb2 label.sk-toggleable__label {cursor: pointer;display: block;width: 100%;margin-bottom: 0;padding: 0.3em;box-sizing: border-box;text-align: center;}#sk-165e0b23-f24f-4296-b190-a300bfe04cb2 label.sk-toggleable__label-arrow:before {content: \"▸\";float: left;margin-right: 0.25em;color: #696969;}#sk-165e0b23-f24f-4296-b190-a300bfe04cb2 label.sk-toggleable__label-arrow:hover:before {color: black;}#sk-165e0b23-f24f-4296-b190-a300bfe04cb2 div.sk-estimator:hover label.sk-toggleable__label-arrow:before {color: black;}#sk-165e0b23-f24f-4296-b190-a300bfe04cb2 div.sk-toggleable__content {max-height: 0;max-width: 0;overflow: hidden;text-align: left;background-color: #f0f8ff;}#sk-165e0b23-f24f-4296-b190-a300bfe04cb2 div.sk-toggleable__content pre {margin: 0.2em;color: black;border-radius: 0.25em;background-color: #f0f8ff;}#sk-165e0b23-f24f-4296-b190-a300bfe04cb2 input.sk-toggleable__control:checked~div.sk-toggleable__content {max-height: 200px;max-width: 100%;overflow: auto;}#sk-165e0b23-f24f-4296-b190-a300bfe04cb2 input.sk-toggleable__control:checked~label.sk-toggleable__label-arrow:before {content: \"▾\";}#sk-165e0b23-f24f-4296-b190-a300bfe04cb2 div.sk-estimator input.sk-toggleable__control:checked~label.sk-toggleable__label {background-color: #d4ebff;}#sk-165e0b23-f24f-4296-b190-a300bfe04cb2 div.sk-label input.sk-toggleable__control:checked~label.sk-toggleable__label {background-color: #d4ebff;}#sk-165e0b23-f24f-4296-b190-a300bfe04cb2 input.sk-hidden--visually {border: 0;clip: rect(1px 1px 1px 1px);clip: rect(1px, 1px, 1px, 1px);height: 1px;margin: -1px;overflow: hidden;padding: 0;position: absolute;width: 1px;}#sk-165e0b23-f24f-4296-b190-a300bfe04cb2 div.sk-estimator {font-family: monospace;background-color: #f0f8ff;border: 1px dotted black;border-radius: 0.25em;box-sizing: border-box;margin-bottom: 0.5em;}#sk-165e0b23-f24f-4296-b190-a300bfe04cb2 div.sk-estimator:hover {background-color: #d4ebff;}#sk-165e0b23-f24f-4296-b190-a300bfe04cb2 div.sk-parallel-item::after {content: \"\";width: 100%;border-bottom: 1px solid gray;flex-grow: 1;}#sk-165e0b23-f24f-4296-b190-a300bfe04cb2 div.sk-label:hover label.sk-toggleable__label {background-color: #d4ebff;}#sk-165e0b23-f24f-4296-b190-a300bfe04cb2 div.sk-serial::before {content: \"\";position: absolute;border-left: 1px solid gray;box-sizing: border-box;top: 2em;bottom: 0;left: 50%;}#sk-165e0b23-f24f-4296-b190-a300bfe04cb2 div.sk-serial {display: flex;flex-direction: column;align-items: center;background-color: white;padding-right: 0.2em;padding-left: 0.2em;}#sk-165e0b23-f24f-4296-b190-a300bfe04cb2 div.sk-item {z-index: 1;}#sk-165e0b23-f24f-4296-b190-a300bfe04cb2 div.sk-parallel {display: flex;align-items: stretch;justify-content: center;background-color: white;}#sk-165e0b23-f24f-4296-b190-a300bfe04cb2 div.sk-parallel::before {content: \"\";position: absolute;border-left: 1px solid gray;box-sizing: border-box;top: 2em;bottom: 0;left: 50%;}#sk-165e0b23-f24f-4296-b190-a300bfe04cb2 div.sk-parallel-item {display: flex;flex-direction: column;position: relative;background-color: white;}#sk-165e0b23-f24f-4296-b190-a300bfe04cb2 div.sk-parallel-item:first-child::after {align-self: flex-end;width: 50%;}#sk-165e0b23-f24f-4296-b190-a300bfe04cb2 div.sk-parallel-item:last-child::after {align-self: flex-start;width: 50%;}#sk-165e0b23-f24f-4296-b190-a300bfe04cb2 div.sk-parallel-item:only-child::after {width: 0;}#sk-165e0b23-f24f-4296-b190-a300bfe04cb2 div.sk-dashed-wrapped {border: 1px dashed gray;margin: 0 0.4em 0.5em 0.4em;box-sizing: border-box;padding-bottom: 0.4em;background-color: white;position: relative;}#sk-165e0b23-f24f-4296-b190-a300bfe04cb2 div.sk-label label {font-family: monospace;font-weight: bold;background-color: white;display: inline-block;line-height: 1.2em;}#sk-165e0b23-f24f-4296-b190-a300bfe04cb2 div.sk-label-container {position: relative;z-index: 2;text-align: center;}#sk-165e0b23-f24f-4296-b190-a300bfe04cb2 div.sk-container {/* jupyter's `normalize.less` sets `[hidden] { display: none; }` but bootstrap.min.css set `[hidden] { display: none !important; }` so we also need the `!important` here to be able to override the default hidden behavior on the sphinx rendered scikit-learn.org. See: https://github.com/scikit-learn/scikit-learn/issues/21755 */display: inline-block !important;position: relative;}#sk-165e0b23-f24f-4296-b190-a300bfe04cb2 div.sk-text-repr-fallback {display: none;}</style><div id=\"sk-165e0b23-f24f-4296-b190-a300bfe04cb2\" class=\"sk-top-container\"><div class=\"sk-text-repr-fallback\"><pre>LogisticRegression(C=0.1, penalty=&#x27;l1&#x27;, solver=&#x27;liblinear&#x27;)</pre><b>Please rerun this cell to show the HTML repr or trust the notebook.</b></div><div class=\"sk-container\" hidden><div class=\"sk-item\"><div class=\"sk-estimator sk-toggleable\"><input class=\"sk-toggleable__control sk-hidden--visually\" id=\"1c952b01-381e-42bb-a196-10c25fdd7e51\" type=\"checkbox\" checked><label for=\"1c952b01-381e-42bb-a196-10c25fdd7e51\" class=\"sk-toggleable__label sk-toggleable__label-arrow\">LogisticRegression</label><div class=\"sk-toggleable__content\"><pre>LogisticRegression(C=0.1, penalty=&#x27;l1&#x27;, solver=&#x27;liblinear&#x27;)</pre></div></div></div></div></div>"
      ],
      "text/plain": [
       "LogisticRegression(C=0.1, penalty='l1', solver='liblinear')"
      ]
     },
     "execution_count": 119,
     "metadata": {},
     "output_type": "execute_result"
    }
   ],
   "source": [
    "logreg_feat_e2.fit(train_df[x_features], train_df['converted'])\n"
   ]
  },
  {
   "cell_type": "code",
   "execution_count": 120,
   "id": "13a65de1",
   "metadata": {},
   "outputs": [
    {
     "name": "stdout",
     "output_type": "stream",
     "text": [
      "              precision    recall  f1-score   support\n",
      "\n",
      "           0       0.95      1.00      0.97     11988\n",
      "           1       0.37      0.01      0.02       692\n",
      "\n",
      "    accuracy                           0.95     12680\n",
      "   macro avg       0.66      0.50      0.50     12680\n",
      "weighted avg       0.91      0.95      0.92     12680\n",
      "\n"
     ]
    }
   ],
   "source": [
    "from sklearn.metrics import classification_report\n",
    "\n",
    "print(classification_report( test_df['converted'], \n",
    "                            logreg_feat_e2.predict(test_df[x_features])))"
   ]
  },
  {
   "cell_type": "code",
   "execution_count": 121,
   "id": "6a7fd800",
   "metadata": {},
   "outputs": [],
   "source": [
    "l2_selection_df = pd.DataFrame( {\"features\": x_features,\n",
    "                                 \"coef\": np.round(logreg_feat_e2.coef_[0], 2)} )"
   ]
  },
  {
   "cell_type": "code",
   "execution_count": 122,
   "id": "6b3c0026",
   "metadata": {},
   "outputs": [
    {
     "data": {
      "text/html": [
       "<div>\n",
       "<style scoped>\n",
       "    .dataframe tbody tr th:only-of-type {\n",
       "        vertical-align: middle;\n",
       "    }\n",
       "\n",
       "    .dataframe tbody tr th {\n",
       "        vertical-align: top;\n",
       "    }\n",
       "\n",
       "    .dataframe thead th {\n",
       "        text-align: right;\n",
       "    }\n",
       "</style>\n",
       "<table border=\"1\" class=\"dataframe\">\n",
       "  <thead>\n",
       "    <tr style=\"text-align: right;\">\n",
       "      <th></th>\n",
       "      <th>features</th>\n",
       "      <th>coef</th>\n",
       "    </tr>\n",
       "  </thead>\n",
       "  <tbody>\n",
       "    <tr>\n",
       "      <th>1</th>\n",
       "      <td>air_purifier_page_top</td>\n",
       "      <td>0.0</td>\n",
       "    </tr>\n",
       "    <tr>\n",
       "      <th>3</th>\n",
       "      <td>checkout_page_top</td>\n",
       "      <td>0.0</td>\n",
       "    </tr>\n",
       "    <tr>\n",
       "      <th>4</th>\n",
       "      <td>contactus_top</td>\n",
       "      <td>-0.0</td>\n",
       "    </tr>\n",
       "    <tr>\n",
       "      <th>5</th>\n",
       "      <td>country</td>\n",
       "      <td>0.0</td>\n",
       "    </tr>\n",
       "    <tr>\n",
       "      <th>6</th>\n",
       "      <td>customer_service_amc_login_top</td>\n",
       "      <td>-0.0</td>\n",
       "    </tr>\n",
       "    <tr>\n",
       "      <th>7</th>\n",
       "      <td>customer_service_request_login_top</td>\n",
       "      <td>-0.0</td>\n",
       "    </tr>\n",
       "    <tr>\n",
       "      <th>8</th>\n",
       "      <td>demo_page_top</td>\n",
       "      <td>0.0</td>\n",
       "    </tr>\n",
       "    <tr>\n",
       "      <th>9</th>\n",
       "      <td>device</td>\n",
       "      <td>0.0</td>\n",
       "    </tr>\n",
       "    <tr>\n",
       "      <th>12</th>\n",
       "      <td>fired_help_me_buy_evt</td>\n",
       "      <td>0.0</td>\n",
       "    </tr>\n",
       "    <tr>\n",
       "      <th>14</th>\n",
       "      <td>help_me_buy_evt_count</td>\n",
       "      <td>0.0</td>\n",
       "    </tr>\n",
       "    <tr>\n",
       "      <th>16</th>\n",
       "      <td>offer_page_top</td>\n",
       "      <td>0.0</td>\n",
       "    </tr>\n",
       "    <tr>\n",
       "      <th>18</th>\n",
       "      <td>paid</td>\n",
       "      <td>0.0</td>\n",
       "    </tr>\n",
       "    <tr>\n",
       "      <th>20</th>\n",
       "      <td>region</td>\n",
       "      <td>0.0</td>\n",
       "    </tr>\n",
       "    <tr>\n",
       "      <th>21</th>\n",
       "      <td>security_solutions_page_top</td>\n",
       "      <td>-0.0</td>\n",
       "    </tr>\n",
       "    <tr>\n",
       "      <th>22</th>\n",
       "      <td>sessionDuration</td>\n",
       "      <td>-0.0</td>\n",
       "    </tr>\n",
       "    <tr>\n",
       "      <th>24</th>\n",
       "      <td>sourceMedium</td>\n",
       "      <td>0.0</td>\n",
       "    </tr>\n",
       "    <tr>\n",
       "      <th>25</th>\n",
       "      <td>storelocator_top</td>\n",
       "      <td>0.0</td>\n",
       "    </tr>\n",
       "    <tr>\n",
       "      <th>26</th>\n",
       "      <td>successbookdemo_top</td>\n",
       "      <td>0.0</td>\n",
       "    </tr>\n",
       "    <tr>\n",
       "      <th>27</th>\n",
       "      <td>vacuum_cleaner_page_top</td>\n",
       "      <td>0.0</td>\n",
       "    </tr>\n",
       "    <tr>\n",
       "      <th>28</th>\n",
       "      <td>visited_air_purifier_page</td>\n",
       "      <td>0.0</td>\n",
       "    </tr>\n",
       "    <tr>\n",
       "      <th>29</th>\n",
       "      <td>visited_checkout_page</td>\n",
       "      <td>0.0</td>\n",
       "    </tr>\n",
       "    <tr>\n",
       "      <th>30</th>\n",
       "      <td>visited_contactus</td>\n",
       "      <td>0.0</td>\n",
       "    </tr>\n",
       "    <tr>\n",
       "      <th>31</th>\n",
       "      <td>visited_customer_service_amc_login</td>\n",
       "      <td>0.0</td>\n",
       "    </tr>\n",
       "    <tr>\n",
       "      <th>32</th>\n",
       "      <td>visited_customer_service_request_login</td>\n",
       "      <td>0.0</td>\n",
       "    </tr>\n",
       "    <tr>\n",
       "      <th>35</th>\n",
       "      <td>visited_security_solutions_page</td>\n",
       "      <td>0.0</td>\n",
       "    </tr>\n",
       "    <tr>\n",
       "      <th>36</th>\n",
       "      <td>visited_storelocator</td>\n",
       "      <td>0.0</td>\n",
       "    </tr>\n",
       "    <tr>\n",
       "      <th>38</th>\n",
       "      <td>visited_vacuum_cleaner_page</td>\n",
       "      <td>0.0</td>\n",
       "    </tr>\n",
       "    <tr>\n",
       "      <th>40</th>\n",
       "      <td>water_purifier_page_top</td>\n",
       "      <td>0.0</td>\n",
       "    </tr>\n",
       "  </tbody>\n",
       "</table>\n",
       "</div>"
      ],
      "text/plain": [
       "                                  features  coef\n",
       "1                    air_purifier_page_top   0.0\n",
       "3                        checkout_page_top   0.0\n",
       "4                            contactus_top  -0.0\n",
       "5                                  country   0.0\n",
       "6           customer_service_amc_login_top  -0.0\n",
       "7       customer_service_request_login_top  -0.0\n",
       "8                            demo_page_top   0.0\n",
       "9                                   device   0.0\n",
       "12                   fired_help_me_buy_evt   0.0\n",
       "14                   help_me_buy_evt_count   0.0\n",
       "16                          offer_page_top   0.0\n",
       "18                                    paid   0.0\n",
       "20                                  region   0.0\n",
       "21             security_solutions_page_top  -0.0\n",
       "22                         sessionDuration  -0.0\n",
       "24                            sourceMedium   0.0\n",
       "25                        storelocator_top   0.0\n",
       "26                     successbookdemo_top   0.0\n",
       "27                 vacuum_cleaner_page_top   0.0\n",
       "28               visited_air_purifier_page   0.0\n",
       "29                   visited_checkout_page   0.0\n",
       "30                       visited_contactus   0.0\n",
       "31      visited_customer_service_amc_login   0.0\n",
       "32  visited_customer_service_request_login   0.0\n",
       "35         visited_security_solutions_page   0.0\n",
       "36                    visited_storelocator   0.0\n",
       "38             visited_vacuum_cleaner_page   0.0\n",
       "40                 water_purifier_page_top   0.0"
      ]
     },
     "execution_count": 122,
     "metadata": {},
     "output_type": "execute_result"
    }
   ],
   "source": [
    "pd.DataFrame(l2_selection_df[l2_selection_df.coef == 0.0])"
   ]
  },
  {
   "cell_type": "markdown",
   "id": "fec4e03c",
   "metadata": {},
   "source": [
    "Here we can see that many coefficients are marked as zero hence, features like air_purifier_page_top, checkout_page_top,demo_page_top,device,sourceMedium,paid are not contributing much \n"
   ]
  },
  {
   "cell_type": "code",
   "execution_count": 123,
   "id": "35b8f06a",
   "metadata": {},
   "outputs": [],
   "source": [
    "non_imputed_num_vars_3 = ['DemoReqPg_CallClicks_evt_count','bounces','contactus_top','country','customer_service_amc_login_top','customer_service_request_login_top','device','dsls','fired_DemoReqPg_CallClicks_evt','fired_help_me_buy_evt','fired_phone_clicks_evt','help_me_buy_evt_count','newUser','offer_page_top','pageviews','phone_clicks_evt_count','region','security_solutions_page_top','sessionDuration','sessions','storelocator_top','successbookdemo_top','visited_air_purifier_page','visited_checkout_page','visited_contactus','visited_customer_service_amc_login','visited_customer_service_request_login','visited_demo_page','visited_offer_page','visited_security_solutions_page','visited_storelocator','visited_successbookdemo','visited_vacuum_cleaner_page','visited_water_purifier_page','water_purifier_page_top']"
   ]
  },
  {
   "cell_type": "code",
   "execution_count": 124,
   "id": "b6e1ce87",
   "metadata": {},
   "outputs": [],
   "source": [
    "### Categorical Variables\n",
    "cat_vars = ['country','device','region','sourceMedium']"
   ]
  },
  {
   "cell_type": "code",
   "execution_count": 125,
   "id": "d81eb10a",
   "metadata": {},
   "outputs": [],
   "source": [
    "from category_encoders import TargetEncoder\n",
    "tag_encoder = TargetEncoder(min_samples_leaf=100, smoothing=1000.0)"
   ]
  },
  {
   "cell_type": "code",
   "execution_count": 126,
   "id": "6880478f",
   "metadata": {},
   "outputs": [],
   "source": [
    "from sklearn.compose import ColumnTransformer\n",
    "from sklearn.pipeline import Pipeline"
   ]
  },
  {
   "cell_type": "code",
   "execution_count": 127,
   "id": "14ec60f7",
   "metadata": {},
   "outputs": [],
   "source": [
    "cat_transformer = Pipeline( steps = [('targt_encoder', tag_encoder)])"
   ]
  },
  {
   "cell_type": "code",
   "execution_count": 128,
   "id": "82ca99f5",
   "metadata": {},
   "outputs": [],
   "source": [
    "preprocessor = ColumnTransformer(\n",
    "    transformers=[  \n",
    "        ('num_not_imputed', non_imputed_num_transformer, non_imputed_num_vars_3),\n",
    "        ('catvars', cat_transformer, cat_vars)])\n"
   ]
  },
  {
   "cell_type": "code",
   "execution_count": 129,
   "id": "7d33f7b9",
   "metadata": {},
   "outputs": [],
   "source": [
    "from sklearn.linear_model import LogisticRegression\n",
    "Log_reg_fs_e2 = Pipeline(\n",
    "    steps=[(\"preprocessor\", preprocessor), (\"classifier\", LogisticRegression())]\n",
    ")\n"
   ]
  },
  {
   "cell_type": "code",
   "execution_count": 130,
   "id": "62a83009",
   "metadata": {},
   "outputs": [
    {
     "data": {
      "text/html": [
       "<style>#sk-8d78fe33-cf1c-4150-b003-3c6ca6c7b005 {color: black;background-color: white;}#sk-8d78fe33-cf1c-4150-b003-3c6ca6c7b005 pre{padding: 0;}#sk-8d78fe33-cf1c-4150-b003-3c6ca6c7b005 div.sk-toggleable {background-color: white;}#sk-8d78fe33-cf1c-4150-b003-3c6ca6c7b005 label.sk-toggleable__label {cursor: pointer;display: block;width: 100%;margin-bottom: 0;padding: 0.3em;box-sizing: border-box;text-align: center;}#sk-8d78fe33-cf1c-4150-b003-3c6ca6c7b005 label.sk-toggleable__label-arrow:before {content: \"▸\";float: left;margin-right: 0.25em;color: #696969;}#sk-8d78fe33-cf1c-4150-b003-3c6ca6c7b005 label.sk-toggleable__label-arrow:hover:before {color: black;}#sk-8d78fe33-cf1c-4150-b003-3c6ca6c7b005 div.sk-estimator:hover label.sk-toggleable__label-arrow:before {color: black;}#sk-8d78fe33-cf1c-4150-b003-3c6ca6c7b005 div.sk-toggleable__content {max-height: 0;max-width: 0;overflow: hidden;text-align: left;background-color: #f0f8ff;}#sk-8d78fe33-cf1c-4150-b003-3c6ca6c7b005 div.sk-toggleable__content pre {margin: 0.2em;color: black;border-radius: 0.25em;background-color: #f0f8ff;}#sk-8d78fe33-cf1c-4150-b003-3c6ca6c7b005 input.sk-toggleable__control:checked~div.sk-toggleable__content {max-height: 200px;max-width: 100%;overflow: auto;}#sk-8d78fe33-cf1c-4150-b003-3c6ca6c7b005 input.sk-toggleable__control:checked~label.sk-toggleable__label-arrow:before {content: \"▾\";}#sk-8d78fe33-cf1c-4150-b003-3c6ca6c7b005 div.sk-estimator input.sk-toggleable__control:checked~label.sk-toggleable__label {background-color: #d4ebff;}#sk-8d78fe33-cf1c-4150-b003-3c6ca6c7b005 div.sk-label input.sk-toggleable__control:checked~label.sk-toggleable__label {background-color: #d4ebff;}#sk-8d78fe33-cf1c-4150-b003-3c6ca6c7b005 input.sk-hidden--visually {border: 0;clip: rect(1px 1px 1px 1px);clip: rect(1px, 1px, 1px, 1px);height: 1px;margin: -1px;overflow: hidden;padding: 0;position: absolute;width: 1px;}#sk-8d78fe33-cf1c-4150-b003-3c6ca6c7b005 div.sk-estimator {font-family: monospace;background-color: #f0f8ff;border: 1px dotted black;border-radius: 0.25em;box-sizing: border-box;margin-bottom: 0.5em;}#sk-8d78fe33-cf1c-4150-b003-3c6ca6c7b005 div.sk-estimator:hover {background-color: #d4ebff;}#sk-8d78fe33-cf1c-4150-b003-3c6ca6c7b005 div.sk-parallel-item::after {content: \"\";width: 100%;border-bottom: 1px solid gray;flex-grow: 1;}#sk-8d78fe33-cf1c-4150-b003-3c6ca6c7b005 div.sk-label:hover label.sk-toggleable__label {background-color: #d4ebff;}#sk-8d78fe33-cf1c-4150-b003-3c6ca6c7b005 div.sk-serial::before {content: \"\";position: absolute;border-left: 1px solid gray;box-sizing: border-box;top: 2em;bottom: 0;left: 50%;}#sk-8d78fe33-cf1c-4150-b003-3c6ca6c7b005 div.sk-serial {display: flex;flex-direction: column;align-items: center;background-color: white;padding-right: 0.2em;padding-left: 0.2em;}#sk-8d78fe33-cf1c-4150-b003-3c6ca6c7b005 div.sk-item {z-index: 1;}#sk-8d78fe33-cf1c-4150-b003-3c6ca6c7b005 div.sk-parallel {display: flex;align-items: stretch;justify-content: center;background-color: white;}#sk-8d78fe33-cf1c-4150-b003-3c6ca6c7b005 div.sk-parallel::before {content: \"\";position: absolute;border-left: 1px solid gray;box-sizing: border-box;top: 2em;bottom: 0;left: 50%;}#sk-8d78fe33-cf1c-4150-b003-3c6ca6c7b005 div.sk-parallel-item {display: flex;flex-direction: column;position: relative;background-color: white;}#sk-8d78fe33-cf1c-4150-b003-3c6ca6c7b005 div.sk-parallel-item:first-child::after {align-self: flex-end;width: 50%;}#sk-8d78fe33-cf1c-4150-b003-3c6ca6c7b005 div.sk-parallel-item:last-child::after {align-self: flex-start;width: 50%;}#sk-8d78fe33-cf1c-4150-b003-3c6ca6c7b005 div.sk-parallel-item:only-child::after {width: 0;}#sk-8d78fe33-cf1c-4150-b003-3c6ca6c7b005 div.sk-dashed-wrapped {border: 1px dashed gray;margin: 0 0.4em 0.5em 0.4em;box-sizing: border-box;padding-bottom: 0.4em;background-color: white;position: relative;}#sk-8d78fe33-cf1c-4150-b003-3c6ca6c7b005 div.sk-label label {font-family: monospace;font-weight: bold;background-color: white;display: inline-block;line-height: 1.2em;}#sk-8d78fe33-cf1c-4150-b003-3c6ca6c7b005 div.sk-label-container {position: relative;z-index: 2;text-align: center;}#sk-8d78fe33-cf1c-4150-b003-3c6ca6c7b005 div.sk-container {/* jupyter's `normalize.less` sets `[hidden] { display: none; }` but bootstrap.min.css set `[hidden] { display: none !important; }` so we also need the `!important` here to be able to override the default hidden behavior on the sphinx rendered scikit-learn.org. See: https://github.com/scikit-learn/scikit-learn/issues/21755 */display: inline-block !important;position: relative;}#sk-8d78fe33-cf1c-4150-b003-3c6ca6c7b005 div.sk-text-repr-fallback {display: none;}</style><div id=\"sk-8d78fe33-cf1c-4150-b003-3c6ca6c7b005\" class=\"sk-top-container\"><div class=\"sk-text-repr-fallback\"><pre>Pipeline(steps=[(&#x27;preprocessor&#x27;,\n",
       "                 ColumnTransformer(transformers=[(&#x27;num_not_imputed&#x27;,\n",
       "                                                  Pipeline(steps=[(&#x27;scaler&#x27;,\n",
       "                                                                   StandardScaler())]),\n",
       "                                                  [&#x27;DemoReqPg_CallClicks_evt_count&#x27;,\n",
       "                                                   &#x27;bounces&#x27;, &#x27;contactus_top&#x27;,\n",
       "                                                   &#x27;country&#x27;,\n",
       "                                                   &#x27;customer_service_amc_login_top&#x27;,\n",
       "                                                   &#x27;customer_service_request_login_top&#x27;,\n",
       "                                                   &#x27;device&#x27;, &#x27;dsls&#x27;,\n",
       "                                                   &#x27;fired_DemoReqPg_CallClicks_evt&#x27;,\n",
       "                                                   &#x27;fired_help_me_buy_evt&#x27;,\n",
       "                                                   &#x27;fired_p...\n",
       "                                                   &#x27;visited_contactus&#x27;,\n",
       "                                                   &#x27;visited_customer_service_amc_login&#x27;,\n",
       "                                                   &#x27;visited_customer_service_request_login&#x27;,\n",
       "                                                   &#x27;visited_demo_page&#x27;,\n",
       "                                                   &#x27;visited_offer_page&#x27;,\n",
       "                                                   &#x27;visited_security_solutions_page&#x27;, ...]),\n",
       "                                                 (&#x27;catvars&#x27;,\n",
       "                                                  Pipeline(steps=[(&#x27;targt_encoder&#x27;,\n",
       "                                                                   TargetEncoder(min_samples_leaf=100,\n",
       "                                                                                 smoothing=1000.0))]),\n",
       "                                                  [&#x27;country&#x27;, &#x27;device&#x27;,\n",
       "                                                   &#x27;region&#x27;,\n",
       "                                                   &#x27;sourceMedium&#x27;])])),\n",
       "                (&#x27;classifier&#x27;, LogisticRegression())])</pre><b>Please rerun this cell to show the HTML repr or trust the notebook.</b></div><div class=\"sk-container\" hidden><div class=\"sk-item sk-dashed-wrapped\"><div class=\"sk-label-container\"><div class=\"sk-label sk-toggleable\"><input class=\"sk-toggleable__control sk-hidden--visually\" id=\"fca29218-b308-4748-b3d7-5410cd9ef65d\" type=\"checkbox\" ><label for=\"fca29218-b308-4748-b3d7-5410cd9ef65d\" class=\"sk-toggleable__label sk-toggleable__label-arrow\">Pipeline</label><div class=\"sk-toggleable__content\"><pre>Pipeline(steps=[(&#x27;preprocessor&#x27;,\n",
       "                 ColumnTransformer(transformers=[(&#x27;num_not_imputed&#x27;,\n",
       "                                                  Pipeline(steps=[(&#x27;scaler&#x27;,\n",
       "                                                                   StandardScaler())]),\n",
       "                                                  [&#x27;DemoReqPg_CallClicks_evt_count&#x27;,\n",
       "                                                   &#x27;bounces&#x27;, &#x27;contactus_top&#x27;,\n",
       "                                                   &#x27;country&#x27;,\n",
       "                                                   &#x27;customer_service_amc_login_top&#x27;,\n",
       "                                                   &#x27;customer_service_request_login_top&#x27;,\n",
       "                                                   &#x27;device&#x27;, &#x27;dsls&#x27;,\n",
       "                                                   &#x27;fired_DemoReqPg_CallClicks_evt&#x27;,\n",
       "                                                   &#x27;fired_help_me_buy_evt&#x27;,\n",
       "                                                   &#x27;fired_p...\n",
       "                                                   &#x27;visited_contactus&#x27;,\n",
       "                                                   &#x27;visited_customer_service_amc_login&#x27;,\n",
       "                                                   &#x27;visited_customer_service_request_login&#x27;,\n",
       "                                                   &#x27;visited_demo_page&#x27;,\n",
       "                                                   &#x27;visited_offer_page&#x27;,\n",
       "                                                   &#x27;visited_security_solutions_page&#x27;, ...]),\n",
       "                                                 (&#x27;catvars&#x27;,\n",
       "                                                  Pipeline(steps=[(&#x27;targt_encoder&#x27;,\n",
       "                                                                   TargetEncoder(min_samples_leaf=100,\n",
       "                                                                                 smoothing=1000.0))]),\n",
       "                                                  [&#x27;country&#x27;, &#x27;device&#x27;,\n",
       "                                                   &#x27;region&#x27;,\n",
       "                                                   &#x27;sourceMedium&#x27;])])),\n",
       "                (&#x27;classifier&#x27;, LogisticRegression())])</pre></div></div></div><div class=\"sk-serial\"><div class=\"sk-item sk-dashed-wrapped\"><div class=\"sk-label-container\"><div class=\"sk-label sk-toggleable\"><input class=\"sk-toggleable__control sk-hidden--visually\" id=\"46fd0ee8-d623-4116-8f41-281e3fd4fb23\" type=\"checkbox\" ><label for=\"46fd0ee8-d623-4116-8f41-281e3fd4fb23\" class=\"sk-toggleable__label sk-toggleable__label-arrow\">preprocessor: ColumnTransformer</label><div class=\"sk-toggleable__content\"><pre>ColumnTransformer(transformers=[(&#x27;num_not_imputed&#x27;,\n",
       "                                 Pipeline(steps=[(&#x27;scaler&#x27;, StandardScaler())]),\n",
       "                                 [&#x27;DemoReqPg_CallClicks_evt_count&#x27;, &#x27;bounces&#x27;,\n",
       "                                  &#x27;contactus_top&#x27;, &#x27;country&#x27;,\n",
       "                                  &#x27;customer_service_amc_login_top&#x27;,\n",
       "                                  &#x27;customer_service_request_login_top&#x27;,\n",
       "                                  &#x27;device&#x27;, &#x27;dsls&#x27;,\n",
       "                                  &#x27;fired_DemoReqPg_CallClicks_evt&#x27;,\n",
       "                                  &#x27;fired_help_me_buy_evt&#x27;,\n",
       "                                  &#x27;fired_phone_clicks_evt&#x27;,\n",
       "                                  &#x27;help_me_buy_ev...\n",
       "                                  &#x27;visited_checkout_page&#x27;, &#x27;visited_contactus&#x27;,\n",
       "                                  &#x27;visited_customer_service_amc_login&#x27;,\n",
       "                                  &#x27;visited_customer_service_request_login&#x27;,\n",
       "                                  &#x27;visited_demo_page&#x27;, &#x27;visited_offer_page&#x27;,\n",
       "                                  &#x27;visited_security_solutions_page&#x27;, ...]),\n",
       "                                (&#x27;catvars&#x27;,\n",
       "                                 Pipeline(steps=[(&#x27;targt_encoder&#x27;,\n",
       "                                                  TargetEncoder(min_samples_leaf=100,\n",
       "                                                                smoothing=1000.0))]),\n",
       "                                 [&#x27;country&#x27;, &#x27;device&#x27;, &#x27;region&#x27;,\n",
       "                                  &#x27;sourceMedium&#x27;])])</pre></div></div></div><div class=\"sk-parallel\"><div class=\"sk-parallel-item\"><div class=\"sk-item\"><div class=\"sk-label-container\"><div class=\"sk-label sk-toggleable\"><input class=\"sk-toggleable__control sk-hidden--visually\" id=\"a21000ef-1ec4-4831-ac18-a110279937b2\" type=\"checkbox\" ><label for=\"a21000ef-1ec4-4831-ac18-a110279937b2\" class=\"sk-toggleable__label sk-toggleable__label-arrow\">num_not_imputed</label><div class=\"sk-toggleable__content\"><pre>[&#x27;DemoReqPg_CallClicks_evt_count&#x27;, &#x27;bounces&#x27;, &#x27;contactus_top&#x27;, &#x27;country&#x27;, &#x27;customer_service_amc_login_top&#x27;, &#x27;customer_service_request_login_top&#x27;, &#x27;device&#x27;, &#x27;dsls&#x27;, &#x27;fired_DemoReqPg_CallClicks_evt&#x27;, &#x27;fired_help_me_buy_evt&#x27;, &#x27;fired_phone_clicks_evt&#x27;, &#x27;help_me_buy_evt_count&#x27;, &#x27;newUser&#x27;, &#x27;offer_page_top&#x27;, &#x27;pageviews&#x27;, &#x27;phone_clicks_evt_count&#x27;, &#x27;region&#x27;, &#x27;security_solutions_page_top&#x27;, &#x27;sessionDuration&#x27;, &#x27;sessions&#x27;, &#x27;storelocator_top&#x27;, &#x27;successbookdemo_top&#x27;, &#x27;visited_air_purifier_page&#x27;, &#x27;visited_checkout_page&#x27;, &#x27;visited_contactus&#x27;, &#x27;visited_customer_service_amc_login&#x27;, &#x27;visited_customer_service_request_login&#x27;, &#x27;visited_demo_page&#x27;, &#x27;visited_offer_page&#x27;, &#x27;visited_security_solutions_page&#x27;, &#x27;visited_storelocator&#x27;, &#x27;visited_successbookdemo&#x27;, &#x27;visited_vacuum_cleaner_page&#x27;, &#x27;visited_water_purifier_page&#x27;, &#x27;water_purifier_page_top&#x27;]</pre></div></div></div><div class=\"sk-serial\"><div class=\"sk-item\"><div class=\"sk-serial\"><div class=\"sk-item\"><div class=\"sk-estimator sk-toggleable\"><input class=\"sk-toggleable__control sk-hidden--visually\" id=\"b4461759-c55a-470f-8a82-5c51241bd2f2\" type=\"checkbox\" ><label for=\"b4461759-c55a-470f-8a82-5c51241bd2f2\" class=\"sk-toggleable__label sk-toggleable__label-arrow\">StandardScaler</label><div class=\"sk-toggleable__content\"><pre>StandardScaler()</pre></div></div></div></div></div></div></div></div><div class=\"sk-parallel-item\"><div class=\"sk-item\"><div class=\"sk-label-container\"><div class=\"sk-label sk-toggleable\"><input class=\"sk-toggleable__control sk-hidden--visually\" id=\"a6b06922-b075-4991-bbfd-2f3e9ac4d472\" type=\"checkbox\" ><label for=\"a6b06922-b075-4991-bbfd-2f3e9ac4d472\" class=\"sk-toggleable__label sk-toggleable__label-arrow\">catvars</label><div class=\"sk-toggleable__content\"><pre>[&#x27;country&#x27;, &#x27;device&#x27;, &#x27;region&#x27;, &#x27;sourceMedium&#x27;]</pre></div></div></div><div class=\"sk-serial\"><div class=\"sk-item\"><div class=\"sk-serial\"><div class=\"sk-item\"><div class=\"sk-estimator sk-toggleable\"><input class=\"sk-toggleable__control sk-hidden--visually\" id=\"8ba19dbd-7021-419d-bc32-1372bc2cfacf\" type=\"checkbox\" ><label for=\"8ba19dbd-7021-419d-bc32-1372bc2cfacf\" class=\"sk-toggleable__label sk-toggleable__label-arrow\">TargetEncoder</label><div class=\"sk-toggleable__content\"><pre>TargetEncoder(min_samples_leaf=100, smoothing=1000.0)</pre></div></div></div></div></div></div></div></div></div></div><div class=\"sk-item\"><div class=\"sk-estimator sk-toggleable\"><input class=\"sk-toggleable__control sk-hidden--visually\" id=\"5d85c8e0-25cb-4e10-bb17-ffcc5869f6b3\" type=\"checkbox\" ><label for=\"5d85c8e0-25cb-4e10-bb17-ffcc5869f6b3\" class=\"sk-toggleable__label sk-toggleable__label-arrow\">LogisticRegression</label><div class=\"sk-toggleable__content\"><pre>LogisticRegression()</pre></div></div></div></div></div></div></div>"
      ],
      "text/plain": [
       "Pipeline(steps=[('preprocessor',\n",
       "                 ColumnTransformer(transformers=[('num_not_imputed',\n",
       "                                                  Pipeline(steps=[('scaler',\n",
       "                                                                   StandardScaler())]),\n",
       "                                                  ['DemoReqPg_CallClicks_evt_count',\n",
       "                                                   'bounces', 'contactus_top',\n",
       "                                                   'country',\n",
       "                                                   'customer_service_amc_login_top',\n",
       "                                                   'customer_service_request_login_top',\n",
       "                                                   'device', 'dsls',\n",
       "                                                   'fired_DemoReqPg_CallClicks_evt',\n",
       "                                                   'fired_help_me_buy_evt',\n",
       "                                                   'fired_p...\n",
       "                                                   'visited_contactus',\n",
       "                                                   'visited_customer_service_amc_login',\n",
       "                                                   'visited_customer_service_request_login',\n",
       "                                                   'visited_demo_page',\n",
       "                                                   'visited_offer_page',\n",
       "                                                   'visited_security_solutions_page', ...]),\n",
       "                                                 ('catvars',\n",
       "                                                  Pipeline(steps=[('targt_encoder',\n",
       "                                                                   TargetEncoder(min_samples_leaf=100,\n",
       "                                                                                 smoothing=1000.0))]),\n",
       "                                                  ['country', 'device',\n",
       "                                                   'region',\n",
       "                                                   'sourceMedium'])])),\n",
       "                ('classifier', LogisticRegression())])"
      ]
     },
     "execution_count": 130,
     "metadata": {},
     "output_type": "execute_result"
    }
   ],
   "source": [
    "Log_reg_fs_e2.fit(train_df[x_features], train_df['converted'])\n"
   ]
  },
  {
   "cell_type": "code",
   "execution_count": 131,
   "id": "ad1d595a",
   "metadata": {},
   "outputs": [
    {
     "name": "stdout",
     "output_type": "stream",
     "text": [
      "Accuracy Score : 0.945031545741325\n",
      "Precision Score : 0.391304347826087\n",
      "Recall Score : 0.01300578034682081\n",
      "F1 Score : 0.025174825174825173\n"
     ]
    },
    {
     "data": {
      "text/plain": [
       "array([[11974,    14],\n",
       "       [  683,     9]], dtype=int64)"
      ]
     },
     "execution_count": 131,
     "metadata": {},
     "output_type": "execute_result"
    }
   ],
   "source": [
    "from sklearn.metrics import accuracy_score,recall_score,precision_score,f1_score\n",
    "\n",
    "#Predict values based on new parameters\n",
    "y_pred_acc_e2 = Log_reg_fs_e2.predict(test_df[x_features])\n",
    "\n",
    "# New Model Evaluation metrics \n",
    "print('Accuracy Score : ' + str(accuracy_score(test_df['converted'],y_pred_acc_e2)))\n",
    "print('Precision Score : ' + str(precision_score(test_df['converted'],y_pred_acc_e2)))\n",
    "print('Recall Score : ' + str(recall_score(test_df['converted'],y_pred_acc_e2)))\n",
    "print('F1 Score : ' + str(f1_score(test_df['converted'],y_pred_acc_e2)))\n",
    "\n",
    "#Logistic Regression (Grid Search) Confusion matrix\n",
    "confusion_matrix(test_df['converted'],y_pred_acc_e2)"
   ]
  },
  {
   "cell_type": "markdown",
   "id": "f700287c",
   "metadata": {},
   "source": [
    "Model Persistance"
   ]
  },
  {
   "cell_type": "code",
   "execution_count": 134,
   "id": "e6c5282a",
   "metadata": {},
   "outputs": [],
   "source": [
    "class lead_PredictionModel_e2():\n",
    "    \n",
    "    def __init__(self, model, features, rmse):\n",
    "        self.model = model\n",
    "        self.features = features\n",
    "        self.rmse = rmse"
   ]
  },
  {
   "cell_type": "code",
   "execution_count": 135,
   "id": "6d3921c8",
   "metadata": {},
   "outputs": [],
   "source": [
    "my_model_e2 = lead_PredictionModel_e2(Log_reg_e2_1, list(X_train_e2.columns), final_rmse)\n",
    "\n"
   ]
  },
  {
   "cell_type": "code",
   "execution_count": 136,
   "id": "1b7474f5",
   "metadata": {},
   "outputs": [],
   "source": [
    "from joblib import dump\n"
   ]
  },
  {
   "cell_type": "code",
   "execution_count": 137,
   "id": "e428bda7",
   "metadata": {},
   "outputs": [
    {
     "data": {
      "text/plain": [
       "['./lead_PredictionModel_e2.pkl']"
      ]
     },
     "execution_count": 137,
     "metadata": {},
     "output_type": "execute_result"
    }
   ],
   "source": [
    "dump(my_model_e2, './lead_PredictionModel_e2.pkl')\n"
   ]
  },
  {
   "cell_type": "markdown",
   "id": "5ef9f83c",
   "metadata": {},
   "source": [
    "Experiment 3 to 8 are performed below\n",
    "- Here we have used Oversampling technique called SMOTE \n",
    "- As for SMOTE didn't work on categorical variables. Therefore, we have handled categorical variable as part of preprocessing here \n",
    "- We have used one hot encoding and target encoding here for transformation for all the below models:\n",
    "In all cases we can see that after applying K-Fold in the model we can see that the accuracy is increased \n",
    "\n",
    "For SMOTE & Hot Encoding in \n",
    "\n",
    "-Logistic Regression \n",
    "\n",
    " Test Data : \n",
    " Accuracy : 75.2%\n",
    " Precision  : 9.9%\n",
    "  \n",
    " Train Data:\n",
    " Accuracy_Mean : 63.18%\n",
    "\n",
    "-Random Forest Classifier\n",
    "\n",
    " Train data accuracy is 94% \n",
    " whereas test data accuracy is 92%\n",
    "and precision is 11.14%\n",
    "\n",
    "- Decision Tree Classifier \n",
    "\n",
    "Accuracy for test data is 91.5%\n",
    "Precision is 11.14%\n",
    "and mean accuracy on train data is 70.72%\n",
    "\n",
    "- XGBooster with Randomsearch\n",
    "\n",
    "Accuracy for test data is 93.35%\n",
    "Precision is 13.17%\n",
    " whereas train data accuracy is 94.75%\n",
    "\n",
    "For SMOTE & Target Encoding \n",
    "\n",
    "-Logistic Regression \n",
    "Accuracy for Test is 94.5% and precision is 50%\n",
    "whereas train accuracy is 63%\n",
    "\n",
    "- Random Forest\n",
    "Accuracy for Test is 94.7% and precision is 20%\n",
    "whereas train accuracy is 95%\n",
    "- Decision Tree\n",
    "Accuracy for Test is 95% and precision is 20%\n",
    "whereas train accuracy is 92.6%\n",
    "- XGBOOSTER\n",
    "Accuracy for Test is 94.7% and precision is 35.29%\n",
    "whereas train accuracy is \n"
   ]
  },
  {
   "cell_type": "code",
   "execution_count": 711,
   "id": "1795360d",
   "metadata": {},
   "outputs": [],
   "source": [
    "Eureka_mydata = eureka_data"
   ]
  },
  {
   "cell_type": "markdown",
   "id": "ef207ac8",
   "metadata": {},
   "source": [
    "### Setting X and y variables"
   ]
  },
  {
   "cell_type": "code",
   "execution_count": 713,
   "id": "22d2367d",
   "metadata": {},
   "outputs": [],
   "source": [
    "features=Eureka_mydata.drop('converted',axis=1)\n",
    "Y=Eureka_mydata['converted']"
   ]
  },
  {
   "cell_type": "code",
   "execution_count": 714,
   "id": "5ebd3128",
   "metadata": {},
   "outputs": [
    {
     "name": "stdout",
     "output_type": "stream",
     "text": [
      "(29584, 41) (29584,)\n",
      "(12680, 41) (12680,)\n"
     ]
    }
   ],
   "source": [
    "from sklearn.model_selection import train_test_split\n",
    "X_train, X_test, y_train, y_test = train_test_split(features,Y, test_size=0.3)\n",
    "print (X_train.shape, y_train.shape)\n",
    "print (X_test.shape, y_test.shape)"
   ]
  },
  {
   "cell_type": "code",
   "execution_count": 715,
   "id": "38b55eda",
   "metadata": {},
   "outputs": [],
   "source": [
    "converted = Eureka_mydata[Eureka_mydata['converted']==1]\n",
    "not_converted = Eureka_mydata[Eureka_mydata['converted']==0]"
   ]
  },
  {
   "cell_type": "code",
   "execution_count": 716,
   "id": "7abd6582",
   "metadata": {},
   "outputs": [
    {
     "name": "stdout",
     "output_type": "stream",
     "text": [
      "(2264, 42) (40000, 42)\n"
     ]
    }
   ],
   "source": [
    "## Data is imbalanced as per the below output \n",
    "print(converted.shape,not_converted.shape)"
   ]
  },
  {
   "cell_type": "markdown",
   "id": "523a16d8",
   "metadata": {},
   "source": [
    "### Defining Transformation "
   ]
  },
  {
   "cell_type": "code",
   "execution_count": 717,
   "id": "cba7faf4",
   "metadata": {},
   "outputs": [],
   "source": [
    "non_imputed_num_vars = ['DemoReqPg_CallClicks_evt_count','air_purifier_page_top','bounces','checkout_page_top',\n",
    "'contactus_top','customer_service_amc_login_top','customer_service_request_login_top','demo_page_top',\n",
    "'dsls','help_me_buy_evt_count','offer_page_top','pageviews','phone_clicks_evt_count','security_solutions_page_top',\n",
    "'sessionDuration','sessions','storelocator_top','successbookdemo_top','vacuum_cleaner_page_top',\n",
    "'water_purifier_page_top']"
   ]
  },
  {
   "cell_type": "code",
   "execution_count": 718,
   "id": "34db77b9",
   "metadata": {},
   "outputs": [],
   "source": [
    "cat_vars = ['country','device','region','sourceMedium']"
   ]
  },
  {
   "cell_type": "code",
   "execution_count": 719,
   "id": "719909ae",
   "metadata": {},
   "outputs": [],
   "source": [
    "from sklearn.preprocessing import OneHotEncoder"
   ]
  },
  {
   "cell_type": "code",
   "execution_count": 720,
   "id": "c96dbc4c",
   "metadata": {},
   "outputs": [],
   "source": [
    "ohe_encoder = OneHotEncoder(drop='first',handle_unknown='ignore')"
   ]
  },
  {
   "cell_type": "code",
   "execution_count": 721,
   "id": "2076532d",
   "metadata": {},
   "outputs": [],
   "source": [
    "#Creating dummy variable for Categorical variables. The smote is not working when hot encoding is done through pipeline.\n",
    "#Therefore opted for hot encoding through"
   ]
  },
  {
   "cell_type": "code",
   "execution_count": 722,
   "id": "fb37d1c4",
   "metadata": {},
   "outputs": [
    {
     "data": {
      "text/plain": [
       "(42264, 251)"
      ]
     },
     "execution_count": 722,
     "metadata": {},
     "output_type": "execute_result"
    }
   ],
   "source": [
    "import pandas as pd\n",
    "df = eureka_data[cat_vars]\n",
    "df_2 = pd.get_dummies(df,drop_first=True)\n",
    "df_2\n",
    "df_final = eureka_data.copy(deep=True)\n",
    "df_final\n",
    "df_final = df_final.drop(columns=cat_vars)\n",
    "df_final\n",
    "data_out = pd.concat([df_final, df_2], axis=1)\n",
    "data_out.shape"
   ]
  },
  {
   "cell_type": "code",
   "execution_count": 723,
   "id": "2cd1dd66",
   "metadata": {},
   "outputs": [
    {
     "name": "stdout",
     "output_type": "stream",
     "text": [
      "(29584, 250) (29584,)\n",
      "(12680, 250) (12680,)\n"
     ]
    }
   ],
   "source": [
    "#Splitting the data in 70:30 ratio\n",
    "features1=data_out.drop('converted',axis=1)\n",
    "Y1=data_out['converted']\n",
    "from sklearn.model_selection import train_test_split\n",
    "X1_train, X1_test, y1_train, y1_test = train_test_split(features1,Y1, test_size=0.3)\n",
    "print (X1_train.shape, y1_train.shape)\n",
    "print (X1_test.shape, y1_test.shape)"
   ]
  },
  {
   "cell_type": "markdown",
   "id": "291f291d",
   "metadata": {},
   "source": [
    "Implementing Oversampling for Handling Imbalanced data through SMOTE"
   ]
  },
  {
   "cell_type": "code",
   "execution_count": 725,
   "id": "f129f4d1",
   "metadata": {},
   "outputs": [
    {
     "data": {
      "text/plain": [
       "((55946, 250), (55946,))"
      ]
     },
     "execution_count": 725,
     "metadata": {},
     "output_type": "execute_result"
    }
   ],
   "source": [
    "#Smote on the minority variables\n",
    "from imblearn.over_sampling import SMOTE\n",
    "sm = SMOTE(sampling_strategy='minority', random_state=42)\n",
    "x_smote, y_smote = sm.fit_resample(X1_train,y1_train)\n",
    "\n",
    "x_smote.shape,y_smote.shape"
   ]
  },
  {
   "cell_type": "markdown",
   "id": "d02dfa77",
   "metadata": {},
   "source": [
    "### Scaling Numerical Vars"
   ]
  },
  {
   "cell_type": "code",
   "execution_count": 726,
   "id": "c88125fb",
   "metadata": {},
   "outputs": [],
   "source": [
    "from sklearn.preprocessing import StandardScaler\n",
    "scaler = StandardScaler()"
   ]
  },
  {
   "cell_type": "markdown",
   "id": "419e30ea",
   "metadata": {},
   "source": [
    "### Creating Pipelines"
   ]
  },
  {
   "cell_type": "code",
   "execution_count": 727,
   "id": "4f58e861",
   "metadata": {},
   "outputs": [],
   "source": [
    "from sklearn.compose import ColumnTransformer\n",
    "from sklearn.pipeline import Pipeline"
   ]
  },
  {
   "cell_type": "code",
   "execution_count": 728,
   "id": "0c49e6b4",
   "metadata": {},
   "outputs": [],
   "source": [
    "non_imputed_num_transformer = Pipeline( steps = [('scaler', scaler)])\n",
    "cat_transformer = Pipeline( steps = [('ohencoder', ohe_encoder)])"
   ]
  },
  {
   "cell_type": "code",
   "execution_count": 729,
   "id": "ddd66af6",
   "metadata": {},
   "outputs": [],
   "source": [
    "preprocessor = ColumnTransformer(\n",
    "    transformers=[  \n",
    "        ('num_not_imputed', non_imputed_num_transformer, non_imputed_num_vars),         \n",
    "        ])"
   ]
  },
  {
   "cell_type": "markdown",
   "id": "35140027",
   "metadata": {},
   "source": [
    "Experiment 1: #Logistic Regression through Pipeline , GridSearch , Pipeline , SMote and Hot Encoding"
   ]
  },
  {
   "cell_type": "code",
   "execution_count": 730,
   "id": "c8cb8871",
   "metadata": {},
   "outputs": [
    {
     "name": "stdout",
     "output_type": "stream",
     "text": [
      "Accuracy Score : 0.7520504731861198\n",
      "Precision Score : 0.09913099452848406\n",
      "Recall Score : 0.47166921898928027\n",
      "F1 Score : 0.16382978723404254\n",
      "Confusion Matrix : [[9228 2799]\n",
      " [ 345  308]]\n"
     ]
    }
   ],
   "source": [
    "#Grid Search\n",
    "\n",
    "clf = LogisticRegression()\n",
    "grid_values = {'penalty': ['l1', 'l2'],'C':[0.001,.009,0.01,.09,1,5,10,25]}\n",
    "#grid_clf_acc = GridSearchCV(clf, param_grid = grid_values,scoring = 'recall')\n",
    "\n",
    "grid_clf_acc = Pipeline(steps=[('preprocessor', preprocessor), \n",
    "                      ('Logistic Classifer',  GridSearchCV(clf, param_grid = grid_values,scoring = 'accuracy')) ]) \n",
    "\n",
    "clf_mdl= grid_clf_acc.fit(x_smote, y_smote)\n",
    "\n",
    "#Predict values based on new parameters\n",
    "y_pred_acc = clf_mdl.predict(X1_test)\n",
    "\n",
    "# New Model Evaluation metrics \n",
    "print('Accuracy Score : ' + str(accuracy_score(y1_test,y_pred_acc)))\n",
    "print('Precision Score : ' + str(precision_score(y1_test,y_pred_acc)))\n",
    "print('Recall Score : ' + str(recall_score(y1_test,y_pred_acc)))\n",
    "print('F1 Score : ' + str(f1_score(y1_test,y_pred_acc)))\n",
    "\n",
    "#Logistic Regression (Grid Search) Confusion matrix\n",
    "print('Confusion Matrix :'  ,confusion_matrix(y1_test,y_pred_acc))"
   ]
  },
  {
   "cell_type": "code",
   "execution_count": 731,
   "id": "7be57038",
   "metadata": {},
   "outputs": [],
   "source": [
    "from sklearn.model_selection import cross_val_score\n",
    "from sklearn.metrics import mean_squared_error\n",
    "scores = cross_val_score( clf_mdl,\n",
    "                          x_smote,\n",
    "                          y_smote,\n",
    "                          cv = 10,\n",
    "                          scoring = 'accuracy')"
   ]
  },
  {
   "cell_type": "code",
   "execution_count": 732,
   "id": "46799d6b",
   "metadata": {},
   "outputs": [
    {
     "data": {
      "text/plain": [
       "array([0.63324397, 0.63181412, 0.63967828, 0.62269884, 0.63842717,\n",
       "       0.62949062, 0.64086521, 0.62531284, 0.63085449, 0.62584912])"
      ]
     },
     "execution_count": 732,
     "metadata": {},
     "output_type": "execute_result"
    }
   ],
   "source": [
    "scores"
   ]
  },
  {
   "cell_type": "code",
   "execution_count": 733,
   "id": "754357a5",
   "metadata": {},
   "outputs": [
    {
     "data": {
      "text/plain": [
       "0.6318234652664685"
      ]
     },
     "execution_count": 733,
     "metadata": {},
     "output_type": "execute_result"
    }
   ],
   "source": [
    "scores.mean()"
   ]
  },
  {
   "cell_type": "code",
   "execution_count": 734,
   "id": "02901f15",
   "metadata": {},
   "outputs": [
    {
     "data": {
      "text/plain": [
       "0.00597326667119001"
      ]
     },
     "execution_count": 734,
     "metadata": {},
     "output_type": "execute_result"
    }
   ],
   "source": [
    "scores.std()"
   ]
  },
  {
   "cell_type": "code",
   "execution_count": 735,
   "id": "0096ca72",
   "metadata": {},
   "outputs": [],
   "source": [
    "from sklearn import set_config\n",
    "set_config(display='diagram')"
   ]
  },
  {
   "cell_type": "code",
   "execution_count": 736,
   "id": "dd5651be",
   "metadata": {},
   "outputs": [
    {
     "data": {
      "text/html": [
       "<style>#sk-5591ba8f-6e1d-46ed-b65d-8360f284c072 {color: black;background-color: white;}#sk-5591ba8f-6e1d-46ed-b65d-8360f284c072 pre{padding: 0;}#sk-5591ba8f-6e1d-46ed-b65d-8360f284c072 div.sk-toggleable {background-color: white;}#sk-5591ba8f-6e1d-46ed-b65d-8360f284c072 label.sk-toggleable__label {cursor: pointer;display: block;width: 100%;margin-bottom: 0;padding: 0.3em;box-sizing: border-box;text-align: center;}#sk-5591ba8f-6e1d-46ed-b65d-8360f284c072 label.sk-toggleable__label-arrow:before {content: \"▸\";float: left;margin-right: 0.25em;color: #696969;}#sk-5591ba8f-6e1d-46ed-b65d-8360f284c072 label.sk-toggleable__label-arrow:hover:before {color: black;}#sk-5591ba8f-6e1d-46ed-b65d-8360f284c072 div.sk-estimator:hover label.sk-toggleable__label-arrow:before {color: black;}#sk-5591ba8f-6e1d-46ed-b65d-8360f284c072 div.sk-toggleable__content {max-height: 0;max-width: 0;overflow: hidden;text-align: left;background-color: #f0f8ff;}#sk-5591ba8f-6e1d-46ed-b65d-8360f284c072 div.sk-toggleable__content pre {margin: 0.2em;color: black;border-radius: 0.25em;background-color: #f0f8ff;}#sk-5591ba8f-6e1d-46ed-b65d-8360f284c072 input.sk-toggleable__control:checked~div.sk-toggleable__content {max-height: 200px;max-width: 100%;overflow: auto;}#sk-5591ba8f-6e1d-46ed-b65d-8360f284c072 input.sk-toggleable__control:checked~label.sk-toggleable__label-arrow:before {content: \"▾\";}#sk-5591ba8f-6e1d-46ed-b65d-8360f284c072 div.sk-estimator input.sk-toggleable__control:checked~label.sk-toggleable__label {background-color: #d4ebff;}#sk-5591ba8f-6e1d-46ed-b65d-8360f284c072 div.sk-label input.sk-toggleable__control:checked~label.sk-toggleable__label {background-color: #d4ebff;}#sk-5591ba8f-6e1d-46ed-b65d-8360f284c072 input.sk-hidden--visually {border: 0;clip: rect(1px 1px 1px 1px);clip: rect(1px, 1px, 1px, 1px);height: 1px;margin: -1px;overflow: hidden;padding: 0;position: absolute;width: 1px;}#sk-5591ba8f-6e1d-46ed-b65d-8360f284c072 div.sk-estimator {font-family: monospace;background-color: #f0f8ff;border: 1px dotted black;border-radius: 0.25em;box-sizing: border-box;margin-bottom: 0.5em;}#sk-5591ba8f-6e1d-46ed-b65d-8360f284c072 div.sk-estimator:hover {background-color: #d4ebff;}#sk-5591ba8f-6e1d-46ed-b65d-8360f284c072 div.sk-parallel-item::after {content: \"\";width: 100%;border-bottom: 1px solid gray;flex-grow: 1;}#sk-5591ba8f-6e1d-46ed-b65d-8360f284c072 div.sk-label:hover label.sk-toggleable__label {background-color: #d4ebff;}#sk-5591ba8f-6e1d-46ed-b65d-8360f284c072 div.sk-serial::before {content: \"\";position: absolute;border-left: 1px solid gray;box-sizing: border-box;top: 2em;bottom: 0;left: 50%;}#sk-5591ba8f-6e1d-46ed-b65d-8360f284c072 div.sk-serial {display: flex;flex-direction: column;align-items: center;background-color: white;padding-right: 0.2em;padding-left: 0.2em;}#sk-5591ba8f-6e1d-46ed-b65d-8360f284c072 div.sk-item {z-index: 1;}#sk-5591ba8f-6e1d-46ed-b65d-8360f284c072 div.sk-parallel {display: flex;align-items: stretch;justify-content: center;background-color: white;}#sk-5591ba8f-6e1d-46ed-b65d-8360f284c072 div.sk-parallel::before {content: \"\";position: absolute;border-left: 1px solid gray;box-sizing: border-box;top: 2em;bottom: 0;left: 50%;}#sk-5591ba8f-6e1d-46ed-b65d-8360f284c072 div.sk-parallel-item {display: flex;flex-direction: column;position: relative;background-color: white;}#sk-5591ba8f-6e1d-46ed-b65d-8360f284c072 div.sk-parallel-item:first-child::after {align-self: flex-end;width: 50%;}#sk-5591ba8f-6e1d-46ed-b65d-8360f284c072 div.sk-parallel-item:last-child::after {align-self: flex-start;width: 50%;}#sk-5591ba8f-6e1d-46ed-b65d-8360f284c072 div.sk-parallel-item:only-child::after {width: 0;}#sk-5591ba8f-6e1d-46ed-b65d-8360f284c072 div.sk-dashed-wrapped {border: 1px dashed gray;margin: 0 0.4em 0.5em 0.4em;box-sizing: border-box;padding-bottom: 0.4em;background-color: white;position: relative;}#sk-5591ba8f-6e1d-46ed-b65d-8360f284c072 div.sk-label label {font-family: monospace;font-weight: bold;background-color: white;display: inline-block;line-height: 1.2em;}#sk-5591ba8f-6e1d-46ed-b65d-8360f284c072 div.sk-label-container {position: relative;z-index: 2;text-align: center;}#sk-5591ba8f-6e1d-46ed-b65d-8360f284c072 div.sk-container {/* jupyter's `normalize.less` sets `[hidden] { display: none; }` but bootstrap.min.css set `[hidden] { display: none !important; }` so we also need the `!important` here to be able to override the default hidden behavior on the sphinx rendered scikit-learn.org. See: https://github.com/scikit-learn/scikit-learn/issues/21755 */display: inline-block !important;position: relative;}#sk-5591ba8f-6e1d-46ed-b65d-8360f284c072 div.sk-text-repr-fallback {display: none;}</style><div id=\"sk-5591ba8f-6e1d-46ed-b65d-8360f284c072\" class=\"sk-top-container\"><div class=\"sk-text-repr-fallback\"><pre>Pipeline(steps=[(&#x27;preprocessor&#x27;,\n",
       "                 ColumnTransformer(transformers=[(&#x27;num_not_imputed&#x27;,\n",
       "                                                  Pipeline(steps=[(&#x27;scaler&#x27;,\n",
       "                                                                   StandardScaler())]),\n",
       "                                                  [&#x27;DemoReqPg_CallClicks_evt_count&#x27;,\n",
       "                                                   &#x27;air_purifier_page_top&#x27;,\n",
       "                                                   &#x27;bounces&#x27;,\n",
       "                                                   &#x27;checkout_page_top&#x27;,\n",
       "                                                   &#x27;contactus_top&#x27;,\n",
       "                                                   &#x27;customer_service_amc_login_top&#x27;,\n",
       "                                                   &#x27;customer_service_request_login_top&#x27;,\n",
       "                                                   &#x27;demo_page_top&#x27;, &#x27;dsls&#x27;,\n",
       "                                                   &#x27;help_me_buy_evt_count&#x27;,...\n",
       "                                                   &#x27;pageviews&#x27;,\n",
       "                                                   &#x27;phone_clicks_evt_count&#x27;,\n",
       "                                                   &#x27;security_solutions_page_top&#x27;,\n",
       "                                                   &#x27;sessionDuration&#x27;,\n",
       "                                                   &#x27;sessions&#x27;,\n",
       "                                                   &#x27;storelocator_top&#x27;,\n",
       "                                                   &#x27;successbookdemo_top&#x27;,\n",
       "                                                   &#x27;vacuum_cleaner_page_top&#x27;,\n",
       "                                                   &#x27;water_purifier_page_top&#x27;])])),\n",
       "                (&#x27;Logistic Classifer&#x27;,\n",
       "                 GridSearchCV(estimator=LogisticRegression(),\n",
       "                              param_grid={&#x27;C&#x27;: [0.001, 0.009, 0.01, 0.09, 1, 5,\n",
       "                                                10, 25],\n",
       "                                          &#x27;penalty&#x27;: [&#x27;l1&#x27;, &#x27;l2&#x27;]},\n",
       "                              scoring=&#x27;accuracy&#x27;))])</pre><b>Please rerun this cell to show the HTML repr or trust the notebook.</b></div><div class=\"sk-container\" hidden><div class=\"sk-item sk-dashed-wrapped\"><div class=\"sk-label-container\"><div class=\"sk-label sk-toggleable\"><input class=\"sk-toggleable__control sk-hidden--visually\" id=\"32e3ee38-8e5b-4f50-b212-0263a6dd3d04\" type=\"checkbox\" ><label for=\"32e3ee38-8e5b-4f50-b212-0263a6dd3d04\" class=\"sk-toggleable__label sk-toggleable__label-arrow\">Pipeline</label><div class=\"sk-toggleable__content\"><pre>Pipeline(steps=[(&#x27;preprocessor&#x27;,\n",
       "                 ColumnTransformer(transformers=[(&#x27;num_not_imputed&#x27;,\n",
       "                                                  Pipeline(steps=[(&#x27;scaler&#x27;,\n",
       "                                                                   StandardScaler())]),\n",
       "                                                  [&#x27;DemoReqPg_CallClicks_evt_count&#x27;,\n",
       "                                                   &#x27;air_purifier_page_top&#x27;,\n",
       "                                                   &#x27;bounces&#x27;,\n",
       "                                                   &#x27;checkout_page_top&#x27;,\n",
       "                                                   &#x27;contactus_top&#x27;,\n",
       "                                                   &#x27;customer_service_amc_login_top&#x27;,\n",
       "                                                   &#x27;customer_service_request_login_top&#x27;,\n",
       "                                                   &#x27;demo_page_top&#x27;, &#x27;dsls&#x27;,\n",
       "                                                   &#x27;help_me_buy_evt_count&#x27;,...\n",
       "                                                   &#x27;pageviews&#x27;,\n",
       "                                                   &#x27;phone_clicks_evt_count&#x27;,\n",
       "                                                   &#x27;security_solutions_page_top&#x27;,\n",
       "                                                   &#x27;sessionDuration&#x27;,\n",
       "                                                   &#x27;sessions&#x27;,\n",
       "                                                   &#x27;storelocator_top&#x27;,\n",
       "                                                   &#x27;successbookdemo_top&#x27;,\n",
       "                                                   &#x27;vacuum_cleaner_page_top&#x27;,\n",
       "                                                   &#x27;water_purifier_page_top&#x27;])])),\n",
       "                (&#x27;Logistic Classifer&#x27;,\n",
       "                 GridSearchCV(estimator=LogisticRegression(),\n",
       "                              param_grid={&#x27;C&#x27;: [0.001, 0.009, 0.01, 0.09, 1, 5,\n",
       "                                                10, 25],\n",
       "                                          &#x27;penalty&#x27;: [&#x27;l1&#x27;, &#x27;l2&#x27;]},\n",
       "                              scoring=&#x27;accuracy&#x27;))])</pre></div></div></div><div class=\"sk-serial\"><div class=\"sk-item sk-dashed-wrapped\"><div class=\"sk-label-container\"><div class=\"sk-label sk-toggleable\"><input class=\"sk-toggleable__control sk-hidden--visually\" id=\"217f7dac-a838-4f72-92e1-f0c39727c0d9\" type=\"checkbox\" ><label for=\"217f7dac-a838-4f72-92e1-f0c39727c0d9\" class=\"sk-toggleable__label sk-toggleable__label-arrow\">preprocessor: ColumnTransformer</label><div class=\"sk-toggleable__content\"><pre>ColumnTransformer(transformers=[(&#x27;num_not_imputed&#x27;,\n",
       "                                 Pipeline(steps=[(&#x27;scaler&#x27;, StandardScaler())]),\n",
       "                                 [&#x27;DemoReqPg_CallClicks_evt_count&#x27;,\n",
       "                                  &#x27;air_purifier_page_top&#x27;, &#x27;bounces&#x27;,\n",
       "                                  &#x27;checkout_page_top&#x27;, &#x27;contactus_top&#x27;,\n",
       "                                  &#x27;customer_service_amc_login_top&#x27;,\n",
       "                                  &#x27;customer_service_request_login_top&#x27;,\n",
       "                                  &#x27;demo_page_top&#x27;, &#x27;dsls&#x27;,\n",
       "                                  &#x27;help_me_buy_evt_count&#x27;, &#x27;offer_page_top&#x27;,\n",
       "                                  &#x27;pageviews&#x27;, &#x27;phone_clicks_evt_count&#x27;,\n",
       "                                  &#x27;security_solutions_page_top&#x27;,\n",
       "                                  &#x27;sessionDuration&#x27;, &#x27;sessions&#x27;,\n",
       "                                  &#x27;storelocator_top&#x27;, &#x27;successbookdemo_top&#x27;,\n",
       "                                  &#x27;vacuum_cleaner_page_top&#x27;,\n",
       "                                  &#x27;water_purifier_page_top&#x27;])])</pre></div></div></div><div class=\"sk-parallel\"><div class=\"sk-parallel-item\"><div class=\"sk-item\"><div class=\"sk-label-container\"><div class=\"sk-label sk-toggleable\"><input class=\"sk-toggleable__control sk-hidden--visually\" id=\"f71373f7-6f91-458e-9f85-00804dfa0d09\" type=\"checkbox\" ><label for=\"f71373f7-6f91-458e-9f85-00804dfa0d09\" class=\"sk-toggleable__label sk-toggleable__label-arrow\">num_not_imputed</label><div class=\"sk-toggleable__content\"><pre>[&#x27;DemoReqPg_CallClicks_evt_count&#x27;, &#x27;air_purifier_page_top&#x27;, &#x27;bounces&#x27;, &#x27;checkout_page_top&#x27;, &#x27;contactus_top&#x27;, &#x27;customer_service_amc_login_top&#x27;, &#x27;customer_service_request_login_top&#x27;, &#x27;demo_page_top&#x27;, &#x27;dsls&#x27;, &#x27;help_me_buy_evt_count&#x27;, &#x27;offer_page_top&#x27;, &#x27;pageviews&#x27;, &#x27;phone_clicks_evt_count&#x27;, &#x27;security_solutions_page_top&#x27;, &#x27;sessionDuration&#x27;, &#x27;sessions&#x27;, &#x27;storelocator_top&#x27;, &#x27;successbookdemo_top&#x27;, &#x27;vacuum_cleaner_page_top&#x27;, &#x27;water_purifier_page_top&#x27;]</pre></div></div></div><div class=\"sk-serial\"><div class=\"sk-item\"><div class=\"sk-serial\"><div class=\"sk-item\"><div class=\"sk-estimator sk-toggleable\"><input class=\"sk-toggleable__control sk-hidden--visually\" id=\"265ed087-9a56-4b25-8507-d1b902b28144\" type=\"checkbox\" ><label for=\"265ed087-9a56-4b25-8507-d1b902b28144\" class=\"sk-toggleable__label sk-toggleable__label-arrow\">StandardScaler</label><div class=\"sk-toggleable__content\"><pre>StandardScaler()</pre></div></div></div></div></div></div></div></div></div></div><div class=\"sk-item sk-dashed-wrapped\"><div class=\"sk-label-container\"><div class=\"sk-label sk-toggleable\"><input class=\"sk-toggleable__control sk-hidden--visually\" id=\"f4090545-ee40-48ae-bcd1-ce393dae3247\" type=\"checkbox\" ><label for=\"f4090545-ee40-48ae-bcd1-ce393dae3247\" class=\"sk-toggleable__label sk-toggleable__label-arrow\">Logistic Classifer: GridSearchCV</label><div class=\"sk-toggleable__content\"><pre>GridSearchCV(estimator=LogisticRegression(),\n",
       "             param_grid={&#x27;C&#x27;: [0.001, 0.009, 0.01, 0.09, 1, 5, 10, 25],\n",
       "                         &#x27;penalty&#x27;: [&#x27;l1&#x27;, &#x27;l2&#x27;]},\n",
       "             scoring=&#x27;accuracy&#x27;)</pre></div></div></div><div class=\"sk-parallel\"><div class=\"sk-parallel-item\"><div class=\"sk-item\"><div class=\"sk-serial\"><div class=\"sk-item\"><div class=\"sk-estimator sk-toggleable\"><input class=\"sk-toggleable__control sk-hidden--visually\" id=\"ce351992-aa28-4067-b9df-19fde4074fdf\" type=\"checkbox\" ><label for=\"ce351992-aa28-4067-b9df-19fde4074fdf\" class=\"sk-toggleable__label sk-toggleable__label-arrow\">LogisticRegression</label><div class=\"sk-toggleable__content\"><pre>LogisticRegression()</pre></div></div></div></div></div></div></div></div></div></div></div></div>"
      ],
      "text/plain": [
       "Pipeline(steps=[('preprocessor',\n",
       "                 ColumnTransformer(transformers=[('num_not_imputed',\n",
       "                                                  Pipeline(steps=[('scaler',\n",
       "                                                                   StandardScaler())]),\n",
       "                                                  ['DemoReqPg_CallClicks_evt_count',\n",
       "                                                   'air_purifier_page_top',\n",
       "                                                   'bounces',\n",
       "                                                   'checkout_page_top',\n",
       "                                                   'contactus_top',\n",
       "                                                   'customer_service_amc_login_top',\n",
       "                                                   'customer_service_request_login_top',\n",
       "                                                   'demo_page_top', 'dsls',\n",
       "                                                   'help_me_buy_evt_count',...\n",
       "                                                   'pageviews',\n",
       "                                                   'phone_clicks_evt_count',\n",
       "                                                   'security_solutions_page_top',\n",
       "                                                   'sessionDuration',\n",
       "                                                   'sessions',\n",
       "                                                   'storelocator_top',\n",
       "                                                   'successbookdemo_top',\n",
       "                                                   'vacuum_cleaner_page_top',\n",
       "                                                   'water_purifier_page_top'])])),\n",
       "                ('Logistic Classifer',\n",
       "                 GridSearchCV(estimator=LogisticRegression(),\n",
       "                              param_grid={'C': [0.001, 0.009, 0.01, 0.09, 1, 5,\n",
       "                                                10, 25],\n",
       "                                          'penalty': ['l1', 'l2']},\n",
       "                              scoring='accuracy'))])"
      ]
     },
     "execution_count": 736,
     "metadata": {},
     "output_type": "execute_result"
    }
   ],
   "source": [
    "grid_clf_acc"
   ]
  },
  {
   "cell_type": "code",
   "execution_count": 737,
   "id": "49d2c21d",
   "metadata": {},
   "outputs": [],
   "source": [
    "scores\n",
    "scores.mean()\n",
    "scores.std()\n",
    "np.sqrt(mean_squared_error(y_test, clf_mdl.predict(X_test)))\n",
    "\n",
    "dict = {}\n",
    "dict = {'Model' : 'Logistics Regression','Accuray Score' : str(accuracy_score(y1_test,y_pred_acc)) , 'Precision Score' :   str(precision_score(y1_test,y_pred_acc)),\n",
    "       'Recall Score' :   str(recall_score(y1_test,y_pred_acc)), 'F1 Score' :   str(f1_score(y1_test,y_pred_acc)) ,'Score' : scores,' Mean': scores.mean(),\n",
    "       'Std Dev' : scores.std(),'Sqrt Mean' : np.sqrt(mean_squared_error(y_test, clf_mdl.predict(X_test))) }\n",
    " \n",
    "df_score = pd.DataFrame()\n",
    "df_score= df_score.append(dict,ignore_index=True)  "
   ]
  },
  {
   "cell_type": "markdown",
   "id": "5e1f2096",
   "metadata": {},
   "source": [
    " #Random Forest Classifier with Grid Search , Pipeline , SMote and Hot Encoding"
   ]
  },
  {
   "cell_type": "code",
   "execution_count": 738,
   "id": "7be70af6",
   "metadata": {},
   "outputs": [
    {
     "name": "stdout",
     "output_type": "stream",
     "text": [
      "Fitting 3 folds for each of 5 candidates, totalling 15 fits\n",
      "Accuracy Score : 0.9264984227129337\n",
      "Precision Score : 0.11142061281337047\n",
      "Recall Score : 0.06125574272588055\n",
      "F1 Score : 0.07905138339920947\n",
      "Confusion Matrix : [[11708   319]\n",
      " [  613    40]]\n"
     ]
    }
   ],
   "source": [
    "# search across 100 different combinations, and use all available cores\n",
    "n_estimators = [int(x) for x in np.linspace(start = 200, stop = 2000, num = 10)]\n",
    "# Number of features to consider at every split\n",
    "max_features = ['auto', 'sqrt']\n",
    "# Maximum number of levels in tree\n",
    "max_depth = [int(x) for x in np.linspace(10, 110, num = 11)]\n",
    "max_depth.append(None)\n",
    "# Minimum number of samples required to split a node\n",
    "min_samples_split = [2, 5, 10]\n",
    "# Minimum number of samples required at each leaf node\n",
    "min_samples_leaf = [1, 2, 4]\n",
    "# Method of selecting samples for training each tree\n",
    "bootstrap = [True, False]\n",
    "# Create the random grid\n",
    "random_grid = {'n_estimators': n_estimators,\n",
    "               'max_features': max_features,\n",
    "               'max_depth': max_depth,\n",
    "               'min_samples_split': min_samples_split,\n",
    "               'min_samples_leaf': min_samples_leaf,\n",
    "               'bootstrap': bootstrap}\n",
    "\n",
    "rf = RandomForestClassifier(random_state = 42)\n",
    "\n",
    "rf_random = Pipeline(steps=[('preprocessor', preprocessor), \n",
    "                      ('Random Classifer',  RandomizedSearchCV(estimator = rf, param_distributions = random_grid, n_iter = 5, cv = 3, verbose=2, random_state=42, n_jobs = -1)) ]) \n",
    "\n",
    "#rf_random = RandomizedSearchCV(estimator = rf, param_distributions = random_grid, n_iter = 5, cv = 3, verbose=2, random_state=42, n_jobs = -1)\n",
    "# Fit the random search model\n",
    "rf_random_mdl = rf_random.fit(x_smote, y_smote)\n",
    "#Predict values based on new parameters\n",
    "y_pred_acc = rf_random_mdl.predict(X1_test)\n",
    "# New Model Evaluation metrics \n",
    "print('Accuracy Score : ' + str(accuracy_score(y1_test,y_pred_acc)))\n",
    "print('Precision Score : ' + str(precision_score(y1_test,y_pred_acc)))\n",
    "print('Recall Score : ' + str(recall_score(y1_test,y_pred_acc)))\n",
    "print('F1 Score : ' + str(f1_score(y1_test,y_pred_acc)))\n",
    "\n",
    "#Random Forest (Grid Search) Confusion matrix\n",
    "print('Confusion Matrix :'  ,confusion_matrix(y1_test,y_pred_acc))\n",
    "\n"
   ]
  },
  {
   "cell_type": "code",
   "execution_count": null,
   "id": "a1e87f75",
   "metadata": {},
   "outputs": [],
   "source": []
  },
  {
   "cell_type": "code",
   "execution_count": null,
   "id": "293e426f",
   "metadata": {},
   "outputs": [],
   "source": [
    "Cross Validation of Random forest model"
   ]
  },
  {
   "cell_type": "code",
   "execution_count": 739,
   "id": "6d656bc7",
   "metadata": {},
   "outputs": [
    {
     "name": "stdout",
     "output_type": "stream",
     "text": [
      "Fitting 3 folds for each of 5 candidates, totalling 15 fits\n",
      "Fitting 3 folds for each of 5 candidates, totalling 15 fits\n",
      "Fitting 3 folds for each of 5 candidates, totalling 15 fits\n",
      "Fitting 3 folds for each of 5 candidates, totalling 15 fits\n",
      "Fitting 3 folds for each of 5 candidates, totalling 15 fits\n",
      "[0.87113494 0.9686299  0.96889802 0.96737868 0.97256234]\n",
      "0.9497207769248026\n",
      "0.03933088785563048\n",
      "0.48931807309372033\n"
     ]
    }
   ],
   "source": [
    "scores = cross_val_score( rf_random_mdl,\n",
    "                          x_smote,\n",
    "                          y_smote,\n",
    "                          cv = 5,\n",
    "                          scoring = 'accuracy')\n",
    "print(scores)\n",
    "print(scores.mean())\n",
    "print(scores.std())\n",
    "print(np.sqrt(mean_squared_error(y_test, clf_mdl.predict(X_test))))\n",
    "\n",
    "dict = {'Model' : 'Random Forest','Accuray Score' : str(accuracy_score(y1_test,y_pred_acc)) , 'Precision Score' :   str(precision_score(y1_test,y_pred_acc)),\n",
    "       'Recall Score' :   str(recall_score(y1_test,y_pred_acc)), 'F1 Score' :   str(f1_score(y1_test,y_pred_acc)) ,'Score' : scores,' Mean': scores.mean(),\n",
    "       'Std Dev' : scores.std(),'Sqrt Mean' : np.sqrt(mean_squared_error(y_test, clf_mdl.predict(X_test))) }\n",
    "df_score= df_score.append(dict,ignore_index=True)"
   ]
  },
  {
   "cell_type": "code",
   "execution_count": 740,
   "id": "976bd29e",
   "metadata": {},
   "outputs": [
    {
     "data": {
      "text/html": [
       "<style>#sk-1b9568da-8785-46de-8f74-3b5c16582566 {color: black;background-color: white;}#sk-1b9568da-8785-46de-8f74-3b5c16582566 pre{padding: 0;}#sk-1b9568da-8785-46de-8f74-3b5c16582566 div.sk-toggleable {background-color: white;}#sk-1b9568da-8785-46de-8f74-3b5c16582566 label.sk-toggleable__label {cursor: pointer;display: block;width: 100%;margin-bottom: 0;padding: 0.3em;box-sizing: border-box;text-align: center;}#sk-1b9568da-8785-46de-8f74-3b5c16582566 label.sk-toggleable__label-arrow:before {content: \"▸\";float: left;margin-right: 0.25em;color: #696969;}#sk-1b9568da-8785-46de-8f74-3b5c16582566 label.sk-toggleable__label-arrow:hover:before {color: black;}#sk-1b9568da-8785-46de-8f74-3b5c16582566 div.sk-estimator:hover label.sk-toggleable__label-arrow:before {color: black;}#sk-1b9568da-8785-46de-8f74-3b5c16582566 div.sk-toggleable__content {max-height: 0;max-width: 0;overflow: hidden;text-align: left;background-color: #f0f8ff;}#sk-1b9568da-8785-46de-8f74-3b5c16582566 div.sk-toggleable__content pre {margin: 0.2em;color: black;border-radius: 0.25em;background-color: #f0f8ff;}#sk-1b9568da-8785-46de-8f74-3b5c16582566 input.sk-toggleable__control:checked~div.sk-toggleable__content {max-height: 200px;max-width: 100%;overflow: auto;}#sk-1b9568da-8785-46de-8f74-3b5c16582566 input.sk-toggleable__control:checked~label.sk-toggleable__label-arrow:before {content: \"▾\";}#sk-1b9568da-8785-46de-8f74-3b5c16582566 div.sk-estimator input.sk-toggleable__control:checked~label.sk-toggleable__label {background-color: #d4ebff;}#sk-1b9568da-8785-46de-8f74-3b5c16582566 div.sk-label input.sk-toggleable__control:checked~label.sk-toggleable__label {background-color: #d4ebff;}#sk-1b9568da-8785-46de-8f74-3b5c16582566 input.sk-hidden--visually {border: 0;clip: rect(1px 1px 1px 1px);clip: rect(1px, 1px, 1px, 1px);height: 1px;margin: -1px;overflow: hidden;padding: 0;position: absolute;width: 1px;}#sk-1b9568da-8785-46de-8f74-3b5c16582566 div.sk-estimator {font-family: monospace;background-color: #f0f8ff;border: 1px dotted black;border-radius: 0.25em;box-sizing: border-box;margin-bottom: 0.5em;}#sk-1b9568da-8785-46de-8f74-3b5c16582566 div.sk-estimator:hover {background-color: #d4ebff;}#sk-1b9568da-8785-46de-8f74-3b5c16582566 div.sk-parallel-item::after {content: \"\";width: 100%;border-bottom: 1px solid gray;flex-grow: 1;}#sk-1b9568da-8785-46de-8f74-3b5c16582566 div.sk-label:hover label.sk-toggleable__label {background-color: #d4ebff;}#sk-1b9568da-8785-46de-8f74-3b5c16582566 div.sk-serial::before {content: \"\";position: absolute;border-left: 1px solid gray;box-sizing: border-box;top: 2em;bottom: 0;left: 50%;}#sk-1b9568da-8785-46de-8f74-3b5c16582566 div.sk-serial {display: flex;flex-direction: column;align-items: center;background-color: white;padding-right: 0.2em;padding-left: 0.2em;}#sk-1b9568da-8785-46de-8f74-3b5c16582566 div.sk-item {z-index: 1;}#sk-1b9568da-8785-46de-8f74-3b5c16582566 div.sk-parallel {display: flex;align-items: stretch;justify-content: center;background-color: white;}#sk-1b9568da-8785-46de-8f74-3b5c16582566 div.sk-parallel::before {content: \"\";position: absolute;border-left: 1px solid gray;box-sizing: border-box;top: 2em;bottom: 0;left: 50%;}#sk-1b9568da-8785-46de-8f74-3b5c16582566 div.sk-parallel-item {display: flex;flex-direction: column;position: relative;background-color: white;}#sk-1b9568da-8785-46de-8f74-3b5c16582566 div.sk-parallel-item:first-child::after {align-self: flex-end;width: 50%;}#sk-1b9568da-8785-46de-8f74-3b5c16582566 div.sk-parallel-item:last-child::after {align-self: flex-start;width: 50%;}#sk-1b9568da-8785-46de-8f74-3b5c16582566 div.sk-parallel-item:only-child::after {width: 0;}#sk-1b9568da-8785-46de-8f74-3b5c16582566 div.sk-dashed-wrapped {border: 1px dashed gray;margin: 0 0.4em 0.5em 0.4em;box-sizing: border-box;padding-bottom: 0.4em;background-color: white;position: relative;}#sk-1b9568da-8785-46de-8f74-3b5c16582566 div.sk-label label {font-family: monospace;font-weight: bold;background-color: white;display: inline-block;line-height: 1.2em;}#sk-1b9568da-8785-46de-8f74-3b5c16582566 div.sk-label-container {position: relative;z-index: 2;text-align: center;}#sk-1b9568da-8785-46de-8f74-3b5c16582566 div.sk-container {/* jupyter's `normalize.less` sets `[hidden] { display: none; }` but bootstrap.min.css set `[hidden] { display: none !important; }` so we also need the `!important` here to be able to override the default hidden behavior on the sphinx rendered scikit-learn.org. See: https://github.com/scikit-learn/scikit-learn/issues/21755 */display: inline-block !important;position: relative;}#sk-1b9568da-8785-46de-8f74-3b5c16582566 div.sk-text-repr-fallback {display: none;}</style><div id=\"sk-1b9568da-8785-46de-8f74-3b5c16582566\" class=\"sk-top-container\"><div class=\"sk-text-repr-fallback\"><pre>Pipeline(steps=[(&#x27;preprocessor&#x27;,\n",
       "                 ColumnTransformer(transformers=[(&#x27;num_not_imputed&#x27;,\n",
       "                                                  Pipeline(steps=[(&#x27;scaler&#x27;,\n",
       "                                                                   StandardScaler())]),\n",
       "                                                  [&#x27;DemoReqPg_CallClicks_evt_count&#x27;,\n",
       "                                                   &#x27;air_purifier_page_top&#x27;,\n",
       "                                                   &#x27;bounces&#x27;,\n",
       "                                                   &#x27;checkout_page_top&#x27;,\n",
       "                                                   &#x27;contactus_top&#x27;,\n",
       "                                                   &#x27;customer_service_amc_login_top&#x27;,\n",
       "                                                   &#x27;customer_service_request_login_top&#x27;,\n",
       "                                                   &#x27;demo_page_top&#x27;, &#x27;dsls&#x27;,\n",
       "                                                   &#x27;help_me_buy_evt_count&#x27;,...\n",
       "                 RandomizedSearchCV(cv=3,\n",
       "                                    estimator=RandomForestClassifier(random_state=42),\n",
       "                                    n_iter=5, n_jobs=-1,\n",
       "                                    param_distributions={&#x27;bootstrap&#x27;: [True,\n",
       "                                                                       False],\n",
       "                                                         &#x27;max_depth&#x27;: [10, 20,\n",
       "                                                                       30, 40,\n",
       "                                                                       50, 60,\n",
       "                                                                       70, 80,\n",
       "                                                                       90, 100,\n",
       "                                                                       110,\n",
       "                                                                       None],\n",
       "                                                         &#x27;max_features&#x27;: [&#x27;auto&#x27;,\n",
       "                                                                          &#x27;sqrt&#x27;],\n",
       "                                                         &#x27;min_samples_leaf&#x27;: [1,\n",
       "                                                                              2,\n",
       "                                                                              4],\n",
       "                                                         &#x27;min_samples_split&#x27;: [2,\n",
       "                                                                               5,\n",
       "                                                                               10],\n",
       "                                                         &#x27;n_estimators&#x27;: [200,\n",
       "                                                                          400,\n",
       "                                                                          600,\n",
       "                                                                          800,\n",
       "                                                                          1000,\n",
       "                                                                          1200,\n",
       "                                                                          1400,\n",
       "                                                                          1600,\n",
       "                                                                          1800,\n",
       "                                                                          2000]},\n",
       "                                    random_state=42, verbose=2))])</pre><b>Please rerun this cell to show the HTML repr or trust the notebook.</b></div><div class=\"sk-container\" hidden><div class=\"sk-item sk-dashed-wrapped\"><div class=\"sk-label-container\"><div class=\"sk-label sk-toggleable\"><input class=\"sk-toggleable__control sk-hidden--visually\" id=\"9a9b30f7-77f4-45a8-86f6-85cca4750570\" type=\"checkbox\" ><label for=\"9a9b30f7-77f4-45a8-86f6-85cca4750570\" class=\"sk-toggleable__label sk-toggleable__label-arrow\">Pipeline</label><div class=\"sk-toggleable__content\"><pre>Pipeline(steps=[(&#x27;preprocessor&#x27;,\n",
       "                 ColumnTransformer(transformers=[(&#x27;num_not_imputed&#x27;,\n",
       "                                                  Pipeline(steps=[(&#x27;scaler&#x27;,\n",
       "                                                                   StandardScaler())]),\n",
       "                                                  [&#x27;DemoReqPg_CallClicks_evt_count&#x27;,\n",
       "                                                   &#x27;air_purifier_page_top&#x27;,\n",
       "                                                   &#x27;bounces&#x27;,\n",
       "                                                   &#x27;checkout_page_top&#x27;,\n",
       "                                                   &#x27;contactus_top&#x27;,\n",
       "                                                   &#x27;customer_service_amc_login_top&#x27;,\n",
       "                                                   &#x27;customer_service_request_login_top&#x27;,\n",
       "                                                   &#x27;demo_page_top&#x27;, &#x27;dsls&#x27;,\n",
       "                                                   &#x27;help_me_buy_evt_count&#x27;,...\n",
       "                 RandomizedSearchCV(cv=3,\n",
       "                                    estimator=RandomForestClassifier(random_state=42),\n",
       "                                    n_iter=5, n_jobs=-1,\n",
       "                                    param_distributions={&#x27;bootstrap&#x27;: [True,\n",
       "                                                                       False],\n",
       "                                                         &#x27;max_depth&#x27;: [10, 20,\n",
       "                                                                       30, 40,\n",
       "                                                                       50, 60,\n",
       "                                                                       70, 80,\n",
       "                                                                       90, 100,\n",
       "                                                                       110,\n",
       "                                                                       None],\n",
       "                                                         &#x27;max_features&#x27;: [&#x27;auto&#x27;,\n",
       "                                                                          &#x27;sqrt&#x27;],\n",
       "                                                         &#x27;min_samples_leaf&#x27;: [1,\n",
       "                                                                              2,\n",
       "                                                                              4],\n",
       "                                                         &#x27;min_samples_split&#x27;: [2,\n",
       "                                                                               5,\n",
       "                                                                               10],\n",
       "                                                         &#x27;n_estimators&#x27;: [200,\n",
       "                                                                          400,\n",
       "                                                                          600,\n",
       "                                                                          800,\n",
       "                                                                          1000,\n",
       "                                                                          1200,\n",
       "                                                                          1400,\n",
       "                                                                          1600,\n",
       "                                                                          1800,\n",
       "                                                                          2000]},\n",
       "                                    random_state=42, verbose=2))])</pre></div></div></div><div class=\"sk-serial\"><div class=\"sk-item sk-dashed-wrapped\"><div class=\"sk-label-container\"><div class=\"sk-label sk-toggleable\"><input class=\"sk-toggleable__control sk-hidden--visually\" id=\"d34054e2-3f6c-4bbf-bf4c-d5bfdbc210bd\" type=\"checkbox\" ><label for=\"d34054e2-3f6c-4bbf-bf4c-d5bfdbc210bd\" class=\"sk-toggleable__label sk-toggleable__label-arrow\">preprocessor: ColumnTransformer</label><div class=\"sk-toggleable__content\"><pre>ColumnTransformer(transformers=[(&#x27;num_not_imputed&#x27;,\n",
       "                                 Pipeline(steps=[(&#x27;scaler&#x27;, StandardScaler())]),\n",
       "                                 [&#x27;DemoReqPg_CallClicks_evt_count&#x27;,\n",
       "                                  &#x27;air_purifier_page_top&#x27;, &#x27;bounces&#x27;,\n",
       "                                  &#x27;checkout_page_top&#x27;, &#x27;contactus_top&#x27;,\n",
       "                                  &#x27;customer_service_amc_login_top&#x27;,\n",
       "                                  &#x27;customer_service_request_login_top&#x27;,\n",
       "                                  &#x27;demo_page_top&#x27;, &#x27;dsls&#x27;,\n",
       "                                  &#x27;help_me_buy_evt_count&#x27;, &#x27;offer_page_top&#x27;,\n",
       "                                  &#x27;pageviews&#x27;, &#x27;phone_clicks_evt_count&#x27;,\n",
       "                                  &#x27;security_solutions_page_top&#x27;,\n",
       "                                  &#x27;sessionDuration&#x27;, &#x27;sessions&#x27;,\n",
       "                                  &#x27;storelocator_top&#x27;, &#x27;successbookdemo_top&#x27;,\n",
       "                                  &#x27;vacuum_cleaner_page_top&#x27;,\n",
       "                                  &#x27;water_purifier_page_top&#x27;])])</pre></div></div></div><div class=\"sk-parallel\"><div class=\"sk-parallel-item\"><div class=\"sk-item\"><div class=\"sk-label-container\"><div class=\"sk-label sk-toggleable\"><input class=\"sk-toggleable__control sk-hidden--visually\" id=\"e0c6ed7d-2461-4b22-8742-3e33e7aa8817\" type=\"checkbox\" ><label for=\"e0c6ed7d-2461-4b22-8742-3e33e7aa8817\" class=\"sk-toggleable__label sk-toggleable__label-arrow\">num_not_imputed</label><div class=\"sk-toggleable__content\"><pre>[&#x27;DemoReqPg_CallClicks_evt_count&#x27;, &#x27;air_purifier_page_top&#x27;, &#x27;bounces&#x27;, &#x27;checkout_page_top&#x27;, &#x27;contactus_top&#x27;, &#x27;customer_service_amc_login_top&#x27;, &#x27;customer_service_request_login_top&#x27;, &#x27;demo_page_top&#x27;, &#x27;dsls&#x27;, &#x27;help_me_buy_evt_count&#x27;, &#x27;offer_page_top&#x27;, &#x27;pageviews&#x27;, &#x27;phone_clicks_evt_count&#x27;, &#x27;security_solutions_page_top&#x27;, &#x27;sessionDuration&#x27;, &#x27;sessions&#x27;, &#x27;storelocator_top&#x27;, &#x27;successbookdemo_top&#x27;, &#x27;vacuum_cleaner_page_top&#x27;, &#x27;water_purifier_page_top&#x27;]</pre></div></div></div><div class=\"sk-serial\"><div class=\"sk-item\"><div class=\"sk-serial\"><div class=\"sk-item\"><div class=\"sk-estimator sk-toggleable\"><input class=\"sk-toggleable__control sk-hidden--visually\" id=\"5bb024f2-20fa-4211-86b4-82d2a211bc1d\" type=\"checkbox\" ><label for=\"5bb024f2-20fa-4211-86b4-82d2a211bc1d\" class=\"sk-toggleable__label sk-toggleable__label-arrow\">StandardScaler</label><div class=\"sk-toggleable__content\"><pre>StandardScaler()</pre></div></div></div></div></div></div></div></div></div></div><div class=\"sk-item sk-dashed-wrapped\"><div class=\"sk-label-container\"><div class=\"sk-label sk-toggleable\"><input class=\"sk-toggleable__control sk-hidden--visually\" id=\"10ceb87b-3411-42ed-876d-e4b4bf7b33b1\" type=\"checkbox\" ><label for=\"10ceb87b-3411-42ed-876d-e4b4bf7b33b1\" class=\"sk-toggleable__label sk-toggleable__label-arrow\">Random Classifer: RandomizedSearchCV</label><div class=\"sk-toggleable__content\"><pre>RandomizedSearchCV(cv=3, estimator=RandomForestClassifier(random_state=42),\n",
       "                   n_iter=5, n_jobs=-1,\n",
       "                   param_distributions={&#x27;bootstrap&#x27;: [True, False],\n",
       "                                        &#x27;max_depth&#x27;: [10, 20, 30, 40, 50, 60,\n",
       "                                                      70, 80, 90, 100, 110,\n",
       "                                                      None],\n",
       "                                        &#x27;max_features&#x27;: [&#x27;auto&#x27;, &#x27;sqrt&#x27;],\n",
       "                                        &#x27;min_samples_leaf&#x27;: [1, 2, 4],\n",
       "                                        &#x27;min_samples_split&#x27;: [2, 5, 10],\n",
       "                                        &#x27;n_estimators&#x27;: [200, 400, 600, 800,\n",
       "                                                         1000, 1200, 1400, 1600,\n",
       "                                                         1800, 2000]},\n",
       "                   random_state=42, verbose=2)</pre></div></div></div><div class=\"sk-parallel\"><div class=\"sk-parallel-item\"><div class=\"sk-item\"><div class=\"sk-serial\"><div class=\"sk-item\"><div class=\"sk-estimator sk-toggleable\"><input class=\"sk-toggleable__control sk-hidden--visually\" id=\"fdb27384-648f-438e-bd6e-9fa8f5bca494\" type=\"checkbox\" ><label for=\"fdb27384-648f-438e-bd6e-9fa8f5bca494\" class=\"sk-toggleable__label sk-toggleable__label-arrow\">RandomForestClassifier</label><div class=\"sk-toggleable__content\"><pre>RandomForestClassifier(random_state=42)</pre></div></div></div></div></div></div></div></div></div></div></div></div>"
      ],
      "text/plain": [
       "Pipeline(steps=[('preprocessor',\n",
       "                 ColumnTransformer(transformers=[('num_not_imputed',\n",
       "                                                  Pipeline(steps=[('scaler',\n",
       "                                                                   StandardScaler())]),\n",
       "                                                  ['DemoReqPg_CallClicks_evt_count',\n",
       "                                                   'air_purifier_page_top',\n",
       "                                                   'bounces',\n",
       "                                                   'checkout_page_top',\n",
       "                                                   'contactus_top',\n",
       "                                                   'customer_service_amc_login_top',\n",
       "                                                   'customer_service_request_login_top',\n",
       "                                                   'demo_page_top', 'dsls',\n",
       "                                                   'help_me_buy_evt_count',...\n",
       "                 RandomizedSearchCV(cv=3,\n",
       "                                    estimator=RandomForestClassifier(random_state=42),\n",
       "                                    n_iter=5, n_jobs=-1,\n",
       "                                    param_distributions={'bootstrap': [True,\n",
       "                                                                       False],\n",
       "                                                         'max_depth': [10, 20,\n",
       "                                                                       30, 40,\n",
       "                                                                       50, 60,\n",
       "                                                                       70, 80,\n",
       "                                                                       90, 100,\n",
       "                                                                       110,\n",
       "                                                                       None],\n",
       "                                                         'max_features': ['auto',\n",
       "                                                                          'sqrt'],\n",
       "                                                         'min_samples_leaf': [1,\n",
       "                                                                              2,\n",
       "                                                                              4],\n",
       "                                                         'min_samples_split': [2,\n",
       "                                                                               5,\n",
       "                                                                               10],\n",
       "                                                         'n_estimators': [200,\n",
       "                                                                          400,\n",
       "                                                                          600,\n",
       "                                                                          800,\n",
       "                                                                          1000,\n",
       "                                                                          1200,\n",
       "                                                                          1400,\n",
       "                                                                          1600,\n",
       "                                                                          1800,\n",
       "                                                                          2000]},\n",
       "                                    random_state=42, verbose=2))])"
      ]
     },
     "execution_count": 740,
     "metadata": {},
     "output_type": "execute_result"
    }
   ],
   "source": [
    "rf_random"
   ]
  },
  {
   "cell_type": "markdown",
   "id": "68126361",
   "metadata": {},
   "source": [
    "Experiment 3 : #Decision Tree Classifier with GridSearch , pipeline , Smote and Hot Encoding "
   ]
  },
  {
   "cell_type": "code",
   "execution_count": 742,
   "id": "84020b74",
   "metadata": {},
   "outputs": [
    {
     "name": "stdout",
     "output_type": "stream",
     "text": [
      "Fitting 4 folds for each of 50 candidates, totalling 200 fits\n",
      "DTREE:               precision    recall  f1-score   support\n",
      "\n",
      "           0       0.96      0.95      0.96     12139\n",
      "           1       0.10      0.12      0.11       541\n",
      "\n",
      "    accuracy                           0.92     12680\n",
      "   macro avg       0.53      0.53      0.53     12680\n",
      "weighted avg       0.92      0.92      0.92     12680\n",
      " [[11549   478]\n",
      " [  590    63]]\n",
      "Accuracy Score is  : 0.9157728706624606\n",
      "Precision Score : 0.11142061281337047\n",
      "Recall Score : 0.06125574272588055\n",
      "F1 Score : 0.07905138339920947\n",
      "Confusion Matrix : [[11708   319]\n",
      " [  613    40]]\n"
     ]
    }
   ],
   "source": [
    "Desclassifier= Pipeline(steps=[('preprocessor', preprocessor), \n",
    "                      ('DecisionTree Classifer',  GridSearchCV(cv=4, estimator=DecisionTreeClassifier(random_state=42), n_jobs=-1,\n",
    "             param_grid={'criterion': ['gini', 'entropy'],\n",
    "                         'max_depth': [2, 3, 5, 10, 20],\n",
    "                         'min_samples_leaf': [5, 10, 20, 50, 100]},\n",
    "             scoring='accuracy', verbose=1)) ]) \n",
    "\n",
    "destree_mdl = Desclassifier.fit(x_smote,y_smote)\n",
    "y_preddtree = destree_mdl.predict(X1_test)\n",
    "print(\"DTREE:\",classification_report(y_preddtree,y1_test),confusion_matrix(y1_test, y_preddtree))\n",
    "print('Accuracy Score is  :' ,Desclassifier.score(X1_test,y1_test))\n",
    "print('Precision Score : ' + str(precision_score(y1_test,y_pred_acc)))\n",
    "print('Recall Score : ' + str(recall_score(y1_test,y_pred_acc)))\n",
    "print('F1 Score : ' + str(f1_score(y1_test,y_pred_acc)))\n",
    "\n",
    "#Random Forest (Grid Search) Confusion matrix\n",
    "print('Confusion Matrix :'  ,confusion_matrix(y1_test,y_pred_acc))"
   ]
  },
  {
   "cell_type": "code",
   "execution_count": 744,
   "id": "dbc6d1fc",
   "metadata": {},
   "outputs": [
    {
     "name": "stdout",
     "output_type": "stream",
     "text": [
      "Fitting 4 folds for each of 50 candidates, totalling 200 fits\n",
      "Fitting 4 folds for each of 50 candidates, totalling 200 fits\n",
      "Fitting 4 folds for each of 50 candidates, totalling 200 fits\n",
      "Fitting 4 folds for each of 50 candidates, totalling 200 fits\n",
      "Fitting 4 folds for each of 50 candidates, totalling 200 fits\n",
      "Fitting 4 folds for each of 50 candidates, totalling 200 fits\n",
      "Fitting 4 folds for each of 50 candidates, totalling 200 fits\n",
      "Fitting 4 folds for each of 50 candidates, totalling 200 fits\n",
      "Fitting 4 folds for each of 50 candidates, totalling 200 fits\n",
      "Fitting 4 folds for each of 50 candidates, totalling 200 fits\n",
      "[-0.02949065  0.80339588  0.80411081  0.75907059  0.80411081  0.80125111\n",
      "  0.79835538  0.77976403  0.77547372  0.77618877]\n",
      "0.7072230458295075\n",
      "0.24602478098971556\n",
      "0.48931807309372033\n"
     ]
    }
   ],
   "source": [
    "scores = cross_val_score( destree_mdl,\n",
    "                          x_smote,\n",
    "                          y_smote,\n",
    "                          cv = 10,\n",
    "                          scoring = 'r2')\n",
    "print(scores)\n",
    "print(scores.mean())\n",
    "print(scores.std())\n",
    "print(np.sqrt(mean_squared_error(y_test, clf_mdl.predict(X_test))))\n",
    "\n",
    "dict = {'Model' : 'Decision Tree','Accuray Score' : str(accuracy_score(y1_test,y_pred_acc)) , 'Precision Score' :   str(precision_score(y1_test,y_pred_acc)),\n",
    "       'Recall Score' :   str(recall_score(y1_test,y_pred_acc)), 'F1 Score' :   str(f1_score(y1_test,y_pred_acc)) ,'Score' : scores,' Mean': scores.mean(),\n",
    "       'Std Dev' : scores.std(),'Sqrt Mean' : np.sqrt(mean_squared_error(y_test, clf_mdl.predict(X_test))) }\n",
    "df_score= df_score.append(dict,ignore_index=True) "
   ]
  },
  {
   "cell_type": "code",
   "execution_count": 755,
   "id": "e4330ff0",
   "metadata": {},
   "outputs": [
    {
     "name": "stdout",
     "output_type": "stream",
     "text": [
      "1.0.2\n"
     ]
    }
   ],
   "source": [
    "import sklearn\n",
    "print(sklearn.__version__)"
   ]
  },
  {
   "cell_type": "code",
   "execution_count": 756,
   "id": "00ff5281",
   "metadata": {},
   "outputs": [],
   "source": [
    "from sklearn.feature_selection import SequentialFeatureSelector\n",
    "from sklearn.tree import DecisionTreeClassifier"
   ]
  },
  {
   "cell_type": "code",
   "execution_count": 757,
   "id": "afa03a5a",
   "metadata": {},
   "outputs": [
    {
     "data": {
      "text/html": [
       "<style>#sk-15f786f6-e7d1-4d3a-86be-8ec84969b526 {color: black;background-color: white;}#sk-15f786f6-e7d1-4d3a-86be-8ec84969b526 pre{padding: 0;}#sk-15f786f6-e7d1-4d3a-86be-8ec84969b526 div.sk-toggleable {background-color: white;}#sk-15f786f6-e7d1-4d3a-86be-8ec84969b526 label.sk-toggleable__label {cursor: pointer;display: block;width: 100%;margin-bottom: 0;padding: 0.3em;box-sizing: border-box;text-align: center;}#sk-15f786f6-e7d1-4d3a-86be-8ec84969b526 label.sk-toggleable__label-arrow:before {content: \"▸\";float: left;margin-right: 0.25em;color: #696969;}#sk-15f786f6-e7d1-4d3a-86be-8ec84969b526 label.sk-toggleable__label-arrow:hover:before {color: black;}#sk-15f786f6-e7d1-4d3a-86be-8ec84969b526 div.sk-estimator:hover label.sk-toggleable__label-arrow:before {color: black;}#sk-15f786f6-e7d1-4d3a-86be-8ec84969b526 div.sk-toggleable__content {max-height: 0;max-width: 0;overflow: hidden;text-align: left;background-color: #f0f8ff;}#sk-15f786f6-e7d1-4d3a-86be-8ec84969b526 div.sk-toggleable__content pre {margin: 0.2em;color: black;border-radius: 0.25em;background-color: #f0f8ff;}#sk-15f786f6-e7d1-4d3a-86be-8ec84969b526 input.sk-toggleable__control:checked~div.sk-toggleable__content {max-height: 200px;max-width: 100%;overflow: auto;}#sk-15f786f6-e7d1-4d3a-86be-8ec84969b526 input.sk-toggleable__control:checked~label.sk-toggleable__label-arrow:before {content: \"▾\";}#sk-15f786f6-e7d1-4d3a-86be-8ec84969b526 div.sk-estimator input.sk-toggleable__control:checked~label.sk-toggleable__label {background-color: #d4ebff;}#sk-15f786f6-e7d1-4d3a-86be-8ec84969b526 div.sk-label input.sk-toggleable__control:checked~label.sk-toggleable__label {background-color: #d4ebff;}#sk-15f786f6-e7d1-4d3a-86be-8ec84969b526 input.sk-hidden--visually {border: 0;clip: rect(1px 1px 1px 1px);clip: rect(1px, 1px, 1px, 1px);height: 1px;margin: -1px;overflow: hidden;padding: 0;position: absolute;width: 1px;}#sk-15f786f6-e7d1-4d3a-86be-8ec84969b526 div.sk-estimator {font-family: monospace;background-color: #f0f8ff;border: 1px dotted black;border-radius: 0.25em;box-sizing: border-box;margin-bottom: 0.5em;}#sk-15f786f6-e7d1-4d3a-86be-8ec84969b526 div.sk-estimator:hover {background-color: #d4ebff;}#sk-15f786f6-e7d1-4d3a-86be-8ec84969b526 div.sk-parallel-item::after {content: \"\";width: 100%;border-bottom: 1px solid gray;flex-grow: 1;}#sk-15f786f6-e7d1-4d3a-86be-8ec84969b526 div.sk-label:hover label.sk-toggleable__label {background-color: #d4ebff;}#sk-15f786f6-e7d1-4d3a-86be-8ec84969b526 div.sk-serial::before {content: \"\";position: absolute;border-left: 1px solid gray;box-sizing: border-box;top: 2em;bottom: 0;left: 50%;}#sk-15f786f6-e7d1-4d3a-86be-8ec84969b526 div.sk-serial {display: flex;flex-direction: column;align-items: center;background-color: white;padding-right: 0.2em;padding-left: 0.2em;}#sk-15f786f6-e7d1-4d3a-86be-8ec84969b526 div.sk-item {z-index: 1;}#sk-15f786f6-e7d1-4d3a-86be-8ec84969b526 div.sk-parallel {display: flex;align-items: stretch;justify-content: center;background-color: white;}#sk-15f786f6-e7d1-4d3a-86be-8ec84969b526 div.sk-parallel::before {content: \"\";position: absolute;border-left: 1px solid gray;box-sizing: border-box;top: 2em;bottom: 0;left: 50%;}#sk-15f786f6-e7d1-4d3a-86be-8ec84969b526 div.sk-parallel-item {display: flex;flex-direction: column;position: relative;background-color: white;}#sk-15f786f6-e7d1-4d3a-86be-8ec84969b526 div.sk-parallel-item:first-child::after {align-self: flex-end;width: 50%;}#sk-15f786f6-e7d1-4d3a-86be-8ec84969b526 div.sk-parallel-item:last-child::after {align-self: flex-start;width: 50%;}#sk-15f786f6-e7d1-4d3a-86be-8ec84969b526 div.sk-parallel-item:only-child::after {width: 0;}#sk-15f786f6-e7d1-4d3a-86be-8ec84969b526 div.sk-dashed-wrapped {border: 1px dashed gray;margin: 0 0.4em 0.5em 0.4em;box-sizing: border-box;padding-bottom: 0.4em;background-color: white;position: relative;}#sk-15f786f6-e7d1-4d3a-86be-8ec84969b526 div.sk-label label {font-family: monospace;font-weight: bold;background-color: white;display: inline-block;line-height: 1.2em;}#sk-15f786f6-e7d1-4d3a-86be-8ec84969b526 div.sk-label-container {position: relative;z-index: 2;text-align: center;}#sk-15f786f6-e7d1-4d3a-86be-8ec84969b526 div.sk-container {/* jupyter's `normalize.less` sets `[hidden] { display: none; }` but bootstrap.min.css set `[hidden] { display: none !important; }` so we also need the `!important` here to be able to override the default hidden behavior on the sphinx rendered scikit-learn.org. See: https://github.com/scikit-learn/scikit-learn/issues/21755 */display: inline-block !important;position: relative;}#sk-15f786f6-e7d1-4d3a-86be-8ec84969b526 div.sk-text-repr-fallback {display: none;}</style><div id=\"sk-15f786f6-e7d1-4d3a-86be-8ec84969b526\" class=\"sk-top-container\"><div class=\"sk-text-repr-fallback\"><pre>SequentialFeatureSelector(estimator=DecisionTreeClassifier(max_depth=10),\n",
       "                          n_features_to_select=10)</pre><b>Please rerun this cell to show the HTML repr or trust the notebook.</b></div><div class=\"sk-container\" hidden><div class=\"sk-item sk-dashed-wrapped\"><div class=\"sk-label-container\"><div class=\"sk-label sk-toggleable\"><input class=\"sk-toggleable__control sk-hidden--visually\" id=\"9ff1d248-7316-47d3-b49f-4ad00f5abc71\" type=\"checkbox\" ><label for=\"9ff1d248-7316-47d3-b49f-4ad00f5abc71\" class=\"sk-toggleable__label sk-toggleable__label-arrow\">SequentialFeatureSelector</label><div class=\"sk-toggleable__content\"><pre>SequentialFeatureSelector(estimator=DecisionTreeClassifier(max_depth=10),\n",
       "                          n_features_to_select=10)</pre></div></div></div><div class=\"sk-parallel\"><div class=\"sk-parallel-item\"><div class=\"sk-item\"><div class=\"sk-serial\"><div class=\"sk-item\"><div class=\"sk-estimator sk-toggleable\"><input class=\"sk-toggleable__control sk-hidden--visually\" id=\"2a1459c0-b40c-4930-a0eb-f198aa69776e\" type=\"checkbox\" ><label for=\"2a1459c0-b40c-4930-a0eb-f198aa69776e\" class=\"sk-toggleable__label sk-toggleable__label-arrow\">DecisionTreeClassifier</label><div class=\"sk-toggleable__content\"><pre>DecisionTreeClassifier(max_depth=10)</pre></div></div></div></div></div></div></div></div></div></div>"
      ],
      "text/plain": [
       "SequentialFeatureSelector(estimator=DecisionTreeClassifier(max_depth=10),\n",
       "                          n_features_to_select=10)"
      ]
     },
     "execution_count": 757,
     "metadata": {},
     "output_type": "execute_result"
    }
   ],
   "source": [
    "tree = DecisionTreeClassifier( max_depth = 10 )\n",
    "sfs = SequentialFeatureSelector(tree, n_features_to_select=10)\n",
    "sfs.fit(x_smote,y_smote )\n"
   ]
  },
  {
   "cell_type": "code",
   "execution_count": 758,
   "id": "1dd93582",
   "metadata": {},
   "outputs": [
    {
     "data": {
      "text/html": [
       "<style>#sk-e55fa6a1-68b9-424e-bece-fa4b04ebdbbb {color: black;background-color: white;}#sk-e55fa6a1-68b9-424e-bece-fa4b04ebdbbb pre{padding: 0;}#sk-e55fa6a1-68b9-424e-bece-fa4b04ebdbbb div.sk-toggleable {background-color: white;}#sk-e55fa6a1-68b9-424e-bece-fa4b04ebdbbb label.sk-toggleable__label {cursor: pointer;display: block;width: 100%;margin-bottom: 0;padding: 0.3em;box-sizing: border-box;text-align: center;}#sk-e55fa6a1-68b9-424e-bece-fa4b04ebdbbb label.sk-toggleable__label-arrow:before {content: \"▸\";float: left;margin-right: 0.25em;color: #696969;}#sk-e55fa6a1-68b9-424e-bece-fa4b04ebdbbb label.sk-toggleable__label-arrow:hover:before {color: black;}#sk-e55fa6a1-68b9-424e-bece-fa4b04ebdbbb div.sk-estimator:hover label.sk-toggleable__label-arrow:before {color: black;}#sk-e55fa6a1-68b9-424e-bece-fa4b04ebdbbb div.sk-toggleable__content {max-height: 0;max-width: 0;overflow: hidden;text-align: left;background-color: #f0f8ff;}#sk-e55fa6a1-68b9-424e-bece-fa4b04ebdbbb div.sk-toggleable__content pre {margin: 0.2em;color: black;border-radius: 0.25em;background-color: #f0f8ff;}#sk-e55fa6a1-68b9-424e-bece-fa4b04ebdbbb input.sk-toggleable__control:checked~div.sk-toggleable__content {max-height: 200px;max-width: 100%;overflow: auto;}#sk-e55fa6a1-68b9-424e-bece-fa4b04ebdbbb input.sk-toggleable__control:checked~label.sk-toggleable__label-arrow:before {content: \"▾\";}#sk-e55fa6a1-68b9-424e-bece-fa4b04ebdbbb div.sk-estimator input.sk-toggleable__control:checked~label.sk-toggleable__label {background-color: #d4ebff;}#sk-e55fa6a1-68b9-424e-bece-fa4b04ebdbbb div.sk-label input.sk-toggleable__control:checked~label.sk-toggleable__label {background-color: #d4ebff;}#sk-e55fa6a1-68b9-424e-bece-fa4b04ebdbbb input.sk-hidden--visually {border: 0;clip: rect(1px 1px 1px 1px);clip: rect(1px, 1px, 1px, 1px);height: 1px;margin: -1px;overflow: hidden;padding: 0;position: absolute;width: 1px;}#sk-e55fa6a1-68b9-424e-bece-fa4b04ebdbbb div.sk-estimator {font-family: monospace;background-color: #f0f8ff;border: 1px dotted black;border-radius: 0.25em;box-sizing: border-box;margin-bottom: 0.5em;}#sk-e55fa6a1-68b9-424e-bece-fa4b04ebdbbb div.sk-estimator:hover {background-color: #d4ebff;}#sk-e55fa6a1-68b9-424e-bece-fa4b04ebdbbb div.sk-parallel-item::after {content: \"\";width: 100%;border-bottom: 1px solid gray;flex-grow: 1;}#sk-e55fa6a1-68b9-424e-bece-fa4b04ebdbbb div.sk-label:hover label.sk-toggleable__label {background-color: #d4ebff;}#sk-e55fa6a1-68b9-424e-bece-fa4b04ebdbbb div.sk-serial::before {content: \"\";position: absolute;border-left: 1px solid gray;box-sizing: border-box;top: 2em;bottom: 0;left: 50%;}#sk-e55fa6a1-68b9-424e-bece-fa4b04ebdbbb div.sk-serial {display: flex;flex-direction: column;align-items: center;background-color: white;padding-right: 0.2em;padding-left: 0.2em;}#sk-e55fa6a1-68b9-424e-bece-fa4b04ebdbbb div.sk-item {z-index: 1;}#sk-e55fa6a1-68b9-424e-bece-fa4b04ebdbbb div.sk-parallel {display: flex;align-items: stretch;justify-content: center;background-color: white;}#sk-e55fa6a1-68b9-424e-bece-fa4b04ebdbbb div.sk-parallel::before {content: \"\";position: absolute;border-left: 1px solid gray;box-sizing: border-box;top: 2em;bottom: 0;left: 50%;}#sk-e55fa6a1-68b9-424e-bece-fa4b04ebdbbb div.sk-parallel-item {display: flex;flex-direction: column;position: relative;background-color: white;}#sk-e55fa6a1-68b9-424e-bece-fa4b04ebdbbb div.sk-parallel-item:first-child::after {align-self: flex-end;width: 50%;}#sk-e55fa6a1-68b9-424e-bece-fa4b04ebdbbb div.sk-parallel-item:last-child::after {align-self: flex-start;width: 50%;}#sk-e55fa6a1-68b9-424e-bece-fa4b04ebdbbb div.sk-parallel-item:only-child::after {width: 0;}#sk-e55fa6a1-68b9-424e-bece-fa4b04ebdbbb div.sk-dashed-wrapped {border: 1px dashed gray;margin: 0 0.4em 0.5em 0.4em;box-sizing: border-box;padding-bottom: 0.4em;background-color: white;position: relative;}#sk-e55fa6a1-68b9-424e-bece-fa4b04ebdbbb div.sk-label label {font-family: monospace;font-weight: bold;background-color: white;display: inline-block;line-height: 1.2em;}#sk-e55fa6a1-68b9-424e-bece-fa4b04ebdbbb div.sk-label-container {position: relative;z-index: 2;text-align: center;}#sk-e55fa6a1-68b9-424e-bece-fa4b04ebdbbb div.sk-container {/* jupyter's `normalize.less` sets `[hidden] { display: none; }` but bootstrap.min.css set `[hidden] { display: none !important; }` so we also need the `!important` here to be able to override the default hidden behavior on the sphinx rendered scikit-learn.org. See: https://github.com/scikit-learn/scikit-learn/issues/21755 */display: inline-block !important;position: relative;}#sk-e55fa6a1-68b9-424e-bece-fa4b04ebdbbb div.sk-text-repr-fallback {display: none;}</style><div id=\"sk-e55fa6a1-68b9-424e-bece-fa4b04ebdbbb\" class=\"sk-top-container\"><div class=\"sk-text-repr-fallback\"><pre>SequentialFeatureSelector(estimator=DecisionTreeClassifier(max_depth=10),\n",
       "                          n_features_to_select=10)</pre><b>Please rerun this cell to show the HTML repr or trust the notebook.</b></div><div class=\"sk-container\" hidden><div class=\"sk-item sk-dashed-wrapped\"><div class=\"sk-label-container\"><div class=\"sk-label sk-toggleable\"><input class=\"sk-toggleable__control sk-hidden--visually\" id=\"b92c6813-057f-4322-a0b5-5e5213cece28\" type=\"checkbox\" ><label for=\"b92c6813-057f-4322-a0b5-5e5213cece28\" class=\"sk-toggleable__label sk-toggleable__label-arrow\">SequentialFeatureSelector</label><div class=\"sk-toggleable__content\"><pre>SequentialFeatureSelector(estimator=DecisionTreeClassifier(max_depth=10),\n",
       "                          n_features_to_select=10)</pre></div></div></div><div class=\"sk-parallel\"><div class=\"sk-parallel-item\"><div class=\"sk-item\"><div class=\"sk-serial\"><div class=\"sk-item\"><div class=\"sk-estimator sk-toggleable\"><input class=\"sk-toggleable__control sk-hidden--visually\" id=\"5d70347f-286e-4a37-ae66-d460b464c2f6\" type=\"checkbox\" ><label for=\"5d70347f-286e-4a37-ae66-d460b464c2f6\" class=\"sk-toggleable__label sk-toggleable__label-arrow\">DecisionTreeClassifier</label><div class=\"sk-toggleable__content\"><pre>DecisionTreeClassifier(max_depth=10)</pre></div></div></div></div></div></div></div></div></div></div>"
      ],
      "text/plain": [
       "SequentialFeatureSelector(estimator=DecisionTreeClassifier(max_depth=10),\n",
       "                          n_features_to_select=10)"
      ]
     },
     "execution_count": 758,
     "metadata": {},
     "output_type": "execute_result"
    }
   ],
   "source": [
    "sfs.fit(x_smote,y_smote)"
   ]
  },
  {
   "cell_type": "code",
   "execution_count": 759,
   "id": "380f2bfa",
   "metadata": {},
   "outputs": [],
   "source": [
    "sfs_features = [feature for feature, selected in zip(x_features, sfs.support_) if selected == True]"
   ]
  },
  {
   "cell_type": "markdown",
   "id": "b738a684",
   "metadata": {},
   "source": [
    "Top 10 freatures derived as part of decision tree claasifier"
   ]
  },
  {
   "cell_type": "code",
   "execution_count": 760,
   "id": "21e4664a",
   "metadata": {},
   "outputs": [
    {
     "data": {
      "text/plain": [
       "['DemoReqPg_CallClicks_evt_count',\n",
       " 'bounces',\n",
       " 'device',\n",
       " 'dsls',\n",
       " 'fired_DemoReqPg_CallClicks_evt',\n",
       " 'newUser',\n",
       " 'phone_clicks_evt_count',\n",
       " 'region',\n",
       " 'storelocator_top',\n",
       " 'visited_contactus']"
      ]
     },
     "execution_count": 760,
     "metadata": {},
     "output_type": "execute_result"
    }
   ],
   "source": [
    "sfs_features"
   ]
  },
  {
   "cell_type": "markdown",
   "id": "476f30fc",
   "metadata": {},
   "source": [
    "Experiment# 4 : #XGBooster with Randomsearch and pipeline and Smote/Hot Encoding"
   ]
  },
  {
   "cell_type": "code",
   "execution_count": 745,
   "id": "cffcffa6",
   "metadata": {},
   "outputs": [
    {
     "name": "stdout",
     "output_type": "stream",
     "text": [
      "Fitting 5 folds for each of 5 candidates, totalling 25 fits\n",
      "[19:20:56] WARNING: C:/Users/Administrator/workspace/xgboost-win64_release_1.5.1/src/learner.cc:1115: Starting in XGBoost 1.3.0, the default evaluation metric used with the objective 'binary:logistic' was changed from 'error' to 'logloss'. Explicitly set eval_metric if you'd like to restore the old behavior.\n",
      "Accuracy Score : 0.9335173501577287\n",
      "Precision Score : 0.13178294573643412\n",
      "Recall Score : 0.05206738131699847\n",
      "F1 Score : 0.07464324917672888\n",
      "Confusion Matrix : [[11803   224]\n",
      " [  619    34]]\n"
     ]
    }
   ],
   "source": [
    "#XGBOOSTER\n",
    "## Hyper Parameter Optimization\n",
    "\n",
    "params={\n",
    " \"learning_rate\"    : [0.05, 0.10, 0.15, 0.20, 0.25, 0.30 ] ,\n",
    " \"max_depth\"        : [ 3, 4, 5, 6, 8, 10, 12, 15],\n",
    " \"min_child_weight\" : [ 1, 3, 5, 7 ],\n",
    " \"gamma\"            : [ 0.0, 0.1, 0.2 , 0.3, 0.4 ],\n",
    " \"colsample_bytree\" : [ 0.3, 0.4, 0.5 , 0.7 ]\n",
    "    \n",
    "}\n",
    "\n",
    "classifier = XGBClassifier()\n",
    "\n",
    "xgb_search = Pipeline(steps=[('preprocessor', preprocessor), \n",
    "                      ('XGBOOST Classifer',  RandomizedSearchCV(classifier, param_distributions=params, n_iter=5, scoring='roc_auc', n_jobs=-1, cv=5, verbose=3) ) ]) \n",
    "\n",
    "xg_random = xgb_search.fit(x_smote,y_smote)\n",
    "y_pred_acc = xg_random.predict(X1_test)\n",
    "# New Model Evaluation metrics \n",
    "print('Accuracy Score : ' + str(accuracy_score(y1_test,y_pred_acc)))\n",
    "print('Precision Score : ' + str(precision_score(y1_test,y_pred_acc)))\n",
    "print('Recall Score : ' + str(recall_score(y1_test,y_pred_acc)))\n",
    "print('F1 Score : ' + str(f1_score(y1_test,y_pred_acc)))\n",
    "\n",
    "#Random Forest (Grid Search) Confusion matrix\n",
    "print('Confusion Matrix :'  ,confusion_matrix(y1_test,y_pred_acc))\n",
    "\n",
    "#dict = {'Model' : 'XGBooster','Accuray Score' : str(accuracy_score(y1_test,y_pred_acc)) , 'Precision Score' :   str(precision_score(y1_test,y_pred_acc)),\n",
    "#       'Recall Score' :   str(recall_score(y1_test,y_pred_acc)), 'F1 Score' :   str(f1_score(y1_test,y_pred_acc)) }\n",
    "\n",
    "#df_score= df_score.append(dict,ignore_index=True)                        "
   ]
  },
  {
   "cell_type": "code",
   "execution_count": 746,
   "id": "42ea2da1",
   "metadata": {},
   "outputs": [
    {
     "name": "stdout",
     "output_type": "stream",
     "text": [
      "Fitting 5 folds for each of 5 candidates, totalling 25 fits\n",
      "[19:23:44] WARNING: C:/Users/Administrator/workspace/xgboost-win64_release_1.5.1/src/learner.cc:1115: Starting in XGBoost 1.3.0, the default evaluation metric used with the objective 'binary:logistic' was changed from 'error' to 'logloss'. Explicitly set eval_metric if you'd like to restore the old behavior.\n",
      "Fitting 5 folds for each of 5 candidates, totalling 25 fits\n",
      "[19:24:07] WARNING: C:/Users/Administrator/workspace/xgboost-win64_release_1.5.1/src/learner.cc:1115: Starting in XGBoost 1.3.0, the default evaluation metric used with the objective 'binary:logistic' was changed from 'error' to 'logloss'. Explicitly set eval_metric if you'd like to restore the old behavior.\n",
      "Fitting 5 folds for each of 5 candidates, totalling 25 fits\n",
      "[19:24:32] WARNING: C:/Users/Administrator/workspace/xgboost-win64_release_1.5.1/src/learner.cc:1115: Starting in XGBoost 1.3.0, the default evaluation metric used with the objective 'binary:logistic' was changed from 'error' to 'logloss'. Explicitly set eval_metric if you'd like to restore the old behavior.\n",
      "Fitting 5 folds for each of 5 candidates, totalling 25 fits\n",
      "[19:25:02] WARNING: C:/Users/Administrator/workspace/xgboost-win64_release_1.5.1/src/learner.cc:1115: Starting in XGBoost 1.3.0, the default evaluation metric used with the objective 'binary:logistic' was changed from 'error' to 'logloss'. Explicitly set eval_metric if you'd like to restore the old behavior.\n",
      "Fitting 5 folds for each of 5 candidates, totalling 25 fits\n",
      "[19:25:51] WARNING: C:/Users/Administrator/workspace/xgboost-win64_release_1.5.1/src/learner.cc:1115: Starting in XGBoost 1.3.0, the default evaluation metric used with the objective 'binary:logistic' was changed from 'error' to 'logloss'. Explicitly set eval_metric if you'd like to restore the old behavior.\n",
      "Fitting 5 folds for each of 5 candidates, totalling 25 fits\n",
      "[19:26:39] WARNING: C:/Users/Administrator/workspace/xgboost-win64_release_1.5.1/src/learner.cc:1115: Starting in XGBoost 1.3.0, the default evaluation metric used with the objective 'binary:logistic' was changed from 'error' to 'logloss'. Explicitly set eval_metric if you'd like to restore the old behavior.\n",
      "Fitting 5 folds for each of 5 candidates, totalling 25 fits\n",
      "[19:27:14] WARNING: C:/Users/Administrator/workspace/xgboost-win64_release_1.5.1/src/learner.cc:1115: Starting in XGBoost 1.3.0, the default evaluation metric used with the objective 'binary:logistic' was changed from 'error' to 'logloss'. Explicitly set eval_metric if you'd like to restore the old behavior.\n",
      "Fitting 5 folds for each of 5 candidates, totalling 25 fits\n",
      "[19:27:50] WARNING: C:/Users/Administrator/workspace/xgboost-win64_release_1.5.1/src/learner.cc:1115: Starting in XGBoost 1.3.0, the default evaluation metric used with the objective 'binary:logistic' was changed from 'error' to 'logloss'. Explicitly set eval_metric if you'd like to restore the old behavior.\n",
      "Fitting 5 folds for each of 5 candidates, totalling 25 fits\n",
      "[19:28:28] WARNING: C:/Users/Administrator/workspace/xgboost-win64_release_1.5.1/src/learner.cc:1115: Starting in XGBoost 1.3.0, the default evaluation metric used with the objective 'binary:logistic' was changed from 'error' to 'logloss'. Explicitly set eval_metric if you'd like to restore the old behavior.\n",
      "Fitting 5 folds for each of 5 candidates, totalling 25 fits\n",
      "[19:29:00] WARNING: C:/Users/Administrator/workspace/xgboost-win64_release_1.5.1/src/learner.cc:1115: Starting in XGBoost 1.3.0, the default evaluation metric used with the objective 'binary:logistic' was changed from 'error' to 'logloss'. Explicitly set eval_metric if you'd like to restore the old behavior.\n",
      "[0.72117962 0.96818588 0.96675603 0.97765862 0.9769437  0.97193923\n",
      " 0.96853772 0.97622453 0.97175545 0.97640329]\n",
      "0.9475584078818009\n",
      "0.07555444380923679\n",
      "0.48931807309372033\n"
     ]
    }
   ],
   "source": [
    "scores = cross_val_score( xg_random,\n",
    "                          x_smote,\n",
    "                          y_smote,\n",
    "                          cv = 10,\n",
    "                          scoring = 'accuracy')\n",
    "print(scores)\n",
    "print(scores.mean())\n",
    "print(scores.std())\n",
    "print(np.sqrt(mean_squared_error(y_test, clf_mdl.predict(X_test))))\n",
    "\n",
    "dict = {'Model' : 'XGBooster','Accuray Score' : str(accuracy_score(y1_test,y_pred_acc)) , 'Precision Score' :   str(precision_score(y1_test,y_pred_acc)),\n",
    "       'Recall Score' :   str(recall_score(y1_test,y_pred_acc)), 'F1 Score' :   str(f1_score(y1_test,y_pred_acc)) ,'Score' : scores,' Mean': scores.mean(),\n",
    "       'Std Dev' : scores.std(),'Sqrt Mean' : np.sqrt(mean_squared_error(y_test, clf_mdl.predict(X_test))) }\n",
    "df_score= df_score.append(dict,ignore_index=True) "
   ]
  },
  {
   "cell_type": "markdown",
   "id": "8662a755",
   "metadata": {},
   "source": [
    "Below is the summary of scores for all the above models "
   ]
  },
  {
   "cell_type": "code",
   "execution_count": 747,
   "id": "73542cf7",
   "metadata": {},
   "outputs": [
    {
     "data": {
      "text/html": [
       "<div>\n",
       "<style scoped>\n",
       "    .dataframe tbody tr th:only-of-type {\n",
       "        vertical-align: middle;\n",
       "    }\n",
       "\n",
       "    .dataframe tbody tr th {\n",
       "        vertical-align: top;\n",
       "    }\n",
       "\n",
       "    .dataframe thead th {\n",
       "        text-align: right;\n",
       "    }\n",
       "</style>\n",
       "<table border=\"1\" class=\"dataframe\">\n",
       "  <thead>\n",
       "    <tr style=\"text-align: right;\">\n",
       "      <th></th>\n",
       "      <th>Mean</th>\n",
       "      <th>Accuray Score</th>\n",
       "      <th>F1 Score</th>\n",
       "      <th>Model</th>\n",
       "      <th>Precision Score</th>\n",
       "      <th>Recall Score</th>\n",
       "      <th>Score</th>\n",
       "      <th>Sqrt Mean</th>\n",
       "      <th>Std Dev</th>\n",
       "    </tr>\n",
       "  </thead>\n",
       "  <tbody>\n",
       "    <tr>\n",
       "      <th>0</th>\n",
       "      <td>0.631823</td>\n",
       "      <td>0.7520504731861198</td>\n",
       "      <td>0.16382978723404254</td>\n",
       "      <td>Logistics Regression</td>\n",
       "      <td>0.09913099452848406</td>\n",
       "      <td>0.47166921898928027</td>\n",
       "      <td>[0.6332439678284182, 0.6318141197497766, 0.639...</td>\n",
       "      <td>0.489318</td>\n",
       "      <td>0.005973</td>\n",
       "    </tr>\n",
       "    <tr>\n",
       "      <th>1</th>\n",
       "      <td>0.949721</td>\n",
       "      <td>0.9264984227129337</td>\n",
       "      <td>0.07905138339920947</td>\n",
       "      <td>Random Forest</td>\n",
       "      <td>0.11142061281337047</td>\n",
       "      <td>0.06125574272588055</td>\n",
       "      <td>[0.8711349419124218, 0.9686299043703638, 0.968...</td>\n",
       "      <td>0.489318</td>\n",
       "      <td>0.039331</td>\n",
       "    </tr>\n",
       "    <tr>\n",
       "      <th>2</th>\n",
       "      <td>0.707223</td>\n",
       "      <td>0.9264984227129337</td>\n",
       "      <td>0.07905138339920947</td>\n",
       "      <td>Decision Tree</td>\n",
       "      <td>0.11142061281337047</td>\n",
       "      <td>0.06125574272588055</td>\n",
       "      <td>[-0.029490649508829847, 0.8033958829062998, 0....</td>\n",
       "      <td>0.489318</td>\n",
       "      <td>0.246025</td>\n",
       "    </tr>\n",
       "    <tr>\n",
       "      <th>3</th>\n",
       "      <td>0.707223</td>\n",
       "      <td>0.9264984227129337</td>\n",
       "      <td>0.07905138339920947</td>\n",
       "      <td>Decision Tree</td>\n",
       "      <td>0.11142061281337047</td>\n",
       "      <td>0.06125574272588055</td>\n",
       "      <td>[-0.029490649508829847, 0.8033958829062998, 0....</td>\n",
       "      <td>0.489318</td>\n",
       "      <td>0.246025</td>\n",
       "    </tr>\n",
       "    <tr>\n",
       "      <th>4</th>\n",
       "      <td>0.947558</td>\n",
       "      <td>0.9335173501577287</td>\n",
       "      <td>0.07464324917672888</td>\n",
       "      <td>XGBooster</td>\n",
       "      <td>0.13178294573643412</td>\n",
       "      <td>0.05206738131699847</td>\n",
       "      <td>[0.7211796246648794, 0.9681858802502235, 0.966...</td>\n",
       "      <td>0.489318</td>\n",
       "      <td>0.075554</td>\n",
       "    </tr>\n",
       "  </tbody>\n",
       "</table>\n",
       "</div>"
      ],
      "text/plain": [
       "       Mean       Accuray Score             F1 Score                 Model  \\\n",
       "0  0.631823  0.7520504731861198  0.16382978723404254  Logistics Regression   \n",
       "1  0.949721  0.9264984227129337  0.07905138339920947         Random Forest   \n",
       "2  0.707223  0.9264984227129337  0.07905138339920947         Decision Tree   \n",
       "3  0.707223  0.9264984227129337  0.07905138339920947         Decision Tree   \n",
       "4  0.947558  0.9335173501577287  0.07464324917672888             XGBooster   \n",
       "\n",
       "       Precision Score         Recall Score  \\\n",
       "0  0.09913099452848406  0.47166921898928027   \n",
       "1  0.11142061281337047  0.06125574272588055   \n",
       "2  0.11142061281337047  0.06125574272588055   \n",
       "3  0.11142061281337047  0.06125574272588055   \n",
       "4  0.13178294573643412  0.05206738131699847   \n",
       "\n",
       "                                               Score  Sqrt Mean   Std Dev  \n",
       "0  [0.6332439678284182, 0.6318141197497766, 0.639...   0.489318  0.005973  \n",
       "1  [0.8711349419124218, 0.9686299043703638, 0.968...   0.489318  0.039331  \n",
       "2  [-0.029490649508829847, 0.8033958829062998, 0....   0.489318  0.246025  \n",
       "3  [-0.029490649508829847, 0.8033958829062998, 0....   0.489318  0.246025  \n",
       "4  [0.7211796246648794, 0.9681858802502235, 0.966...   0.489318  0.075554  "
      ]
     },
     "execution_count": 747,
     "metadata": {},
     "output_type": "execute_result"
    }
   ],
   "source": [
    "df_score"
   ]
  },
  {
   "cell_type": "code",
   "execution_count": 748,
   "id": "f2d895d3",
   "metadata": {},
   "outputs": [],
   "source": [
    "import pickle\n",
    "##Writing the models(for Hot Encoding) in pickle format \n",
    "with open('xg_random', 'wb') as files:\n",
    "    pickle.dump(xg_random, files)\n",
    "with open('logistic_model', 'wb') as files:\n",
    "    pickle.dump(clf_mdl, files)\n",
    "\n",
    "with open('destree_mdl', 'wb') as files:\n",
    "    pickle.dump(destree_mdl, files)    \n",
    "\n",
    "with open('rf_random_mdl', 'wb') as files:\n",
    "    pickle.dump(rf_random_mdl, files) "
   ]
  },
  {
   "cell_type": "markdown",
   "id": "dfe8b570",
   "metadata": {},
   "source": [
    "#Target Encoding"
   ]
  },
  {
   "cell_type": "code",
   "execution_count": 749,
   "id": "7a49c822",
   "metadata": {},
   "outputs": [
    {
     "data": {
      "text/html": [
       "<div>\n",
       "<style scoped>\n",
       "    .dataframe tbody tr th:only-of-type {\n",
       "        vertical-align: middle;\n",
       "    }\n",
       "\n",
       "    .dataframe tbody tr th {\n",
       "        vertical-align: top;\n",
       "    }\n",
       "\n",
       "    .dataframe thead th {\n",
       "        text-align: right;\n",
       "    }\n",
       "</style>\n",
       "<table border=\"1\" class=\"dataframe\">\n",
       "  <thead>\n",
       "    <tr style=\"text-align: right;\">\n",
       "      <th></th>\n",
       "      <th>DemoReqPg_CallClicks_evt_count</th>\n",
       "      <th>air_purifier_page_top</th>\n",
       "      <th>bounces</th>\n",
       "      <th>checkout_page_top</th>\n",
       "      <th>contactus_top</th>\n",
       "      <th>country</th>\n",
       "      <th>customer_service_amc_login_top</th>\n",
       "      <th>customer_service_request_login_top</th>\n",
       "      <th>demo_page_top</th>\n",
       "      <th>device</th>\n",
       "      <th>...</th>\n",
       "      <th>visited_customer_service_amc_login</th>\n",
       "      <th>visited_customer_service_request_login</th>\n",
       "      <th>visited_demo_page</th>\n",
       "      <th>visited_offer_page</th>\n",
       "      <th>visited_security_solutions_page</th>\n",
       "      <th>visited_storelocator</th>\n",
       "      <th>visited_successbookdemo</th>\n",
       "      <th>visited_vacuum_cleaner_page</th>\n",
       "      <th>visited_water_purifier_page</th>\n",
       "      <th>water_purifier_page_top</th>\n",
       "    </tr>\n",
       "  </thead>\n",
       "  <tbody>\n",
       "    <tr>\n",
       "      <th>19330</th>\n",
       "      <td>0.0</td>\n",
       "      <td>0.0</td>\n",
       "      <td>0.0</td>\n",
       "      <td>0.0</td>\n",
       "      <td>0.0</td>\n",
       "      <td>0.066912</td>\n",
       "      <td>0.0</td>\n",
       "      <td>0.0</td>\n",
       "      <td>0.0</td>\n",
       "      <td>0.019085</td>\n",
       "      <td>...</td>\n",
       "      <td>0.0</td>\n",
       "      <td>0.0</td>\n",
       "      <td>0.0</td>\n",
       "      <td>0.0</td>\n",
       "      <td>0.0</td>\n",
       "      <td>0.0</td>\n",
       "      <td>0.0</td>\n",
       "      <td>0.0</td>\n",
       "      <td>1.0</td>\n",
       "      <td>15.0</td>\n",
       "    </tr>\n",
       "    <tr>\n",
       "      <th>12575</th>\n",
       "      <td>0.0</td>\n",
       "      <td>0.0</td>\n",
       "      <td>0.0</td>\n",
       "      <td>0.0</td>\n",
       "      <td>0.0</td>\n",
       "      <td>0.053037</td>\n",
       "      <td>0.0</td>\n",
       "      <td>0.0</td>\n",
       "      <td>0.0</td>\n",
       "      <td>0.019085</td>\n",
       "      <td>...</td>\n",
       "      <td>0.0</td>\n",
       "      <td>0.0</td>\n",
       "      <td>0.0</td>\n",
       "      <td>0.0</td>\n",
       "      <td>0.0</td>\n",
       "      <td>0.0</td>\n",
       "      <td>0.0</td>\n",
       "      <td>0.0</td>\n",
       "      <td>0.0</td>\n",
       "      <td>0.0</td>\n",
       "    </tr>\n",
       "    <tr>\n",
       "      <th>32536</th>\n",
       "      <td>0.0</td>\n",
       "      <td>0.0</td>\n",
       "      <td>0.0</td>\n",
       "      <td>0.0</td>\n",
       "      <td>0.0</td>\n",
       "      <td>0.053037</td>\n",
       "      <td>0.0</td>\n",
       "      <td>0.0</td>\n",
       "      <td>0.0</td>\n",
       "      <td>0.059142</td>\n",
       "      <td>...</td>\n",
       "      <td>0.0</td>\n",
       "      <td>0.0</td>\n",
       "      <td>0.0</td>\n",
       "      <td>0.0</td>\n",
       "      <td>0.0</td>\n",
       "      <td>0.0</td>\n",
       "      <td>0.0</td>\n",
       "      <td>1.0</td>\n",
       "      <td>0.0</td>\n",
       "      <td>0.0</td>\n",
       "    </tr>\n",
       "    <tr>\n",
       "      <th>39587</th>\n",
       "      <td>0.0</td>\n",
       "      <td>0.0</td>\n",
       "      <td>0.0</td>\n",
       "      <td>0.0</td>\n",
       "      <td>0.0</td>\n",
       "      <td>0.053037</td>\n",
       "      <td>0.0</td>\n",
       "      <td>0.0</td>\n",
       "      <td>1.0</td>\n",
       "      <td>0.059142</td>\n",
       "      <td>...</td>\n",
       "      <td>0.0</td>\n",
       "      <td>0.0</td>\n",
       "      <td>1.0</td>\n",
       "      <td>0.0</td>\n",
       "      <td>0.0</td>\n",
       "      <td>0.0</td>\n",
       "      <td>0.0</td>\n",
       "      <td>0.0</td>\n",
       "      <td>0.0</td>\n",
       "      <td>0.0</td>\n",
       "    </tr>\n",
       "    <tr>\n",
       "      <th>6573</th>\n",
       "      <td>0.0</td>\n",
       "      <td>0.0</td>\n",
       "      <td>1.0</td>\n",
       "      <td>0.0</td>\n",
       "      <td>0.0</td>\n",
       "      <td>0.053037</td>\n",
       "      <td>0.0</td>\n",
       "      <td>0.0</td>\n",
       "      <td>4.0</td>\n",
       "      <td>0.059142</td>\n",
       "      <td>...</td>\n",
       "      <td>0.0</td>\n",
       "      <td>0.0</td>\n",
       "      <td>1.0</td>\n",
       "      <td>0.0</td>\n",
       "      <td>0.0</td>\n",
       "      <td>0.0</td>\n",
       "      <td>0.0</td>\n",
       "      <td>0.0</td>\n",
       "      <td>1.0</td>\n",
       "      <td>336.0</td>\n",
       "    </tr>\n",
       "    <tr>\n",
       "      <th>6311</th>\n",
       "      <td>0.0</td>\n",
       "      <td>0.0</td>\n",
       "      <td>0.0</td>\n",
       "      <td>0.0</td>\n",
       "      <td>0.0</td>\n",
       "      <td>0.066912</td>\n",
       "      <td>0.0</td>\n",
       "      <td>0.0</td>\n",
       "      <td>12.0</td>\n",
       "      <td>0.059142</td>\n",
       "      <td>...</td>\n",
       "      <td>0.0</td>\n",
       "      <td>0.0</td>\n",
       "      <td>1.0</td>\n",
       "      <td>0.0</td>\n",
       "      <td>0.0</td>\n",
       "      <td>0.0</td>\n",
       "      <td>0.0</td>\n",
       "      <td>0.0</td>\n",
       "      <td>0.0</td>\n",
       "      <td>0.0</td>\n",
       "    </tr>\n",
       "    <tr>\n",
       "      <th>27926</th>\n",
       "      <td>0.0</td>\n",
       "      <td>0.0</td>\n",
       "      <td>0.0</td>\n",
       "      <td>0.0</td>\n",
       "      <td>0.0</td>\n",
       "      <td>0.053037</td>\n",
       "      <td>0.0</td>\n",
       "      <td>0.0</td>\n",
       "      <td>51.0</td>\n",
       "      <td>0.059142</td>\n",
       "      <td>...</td>\n",
       "      <td>0.0</td>\n",
       "      <td>0.0</td>\n",
       "      <td>1.0</td>\n",
       "      <td>0.0</td>\n",
       "      <td>0.0</td>\n",
       "      <td>0.0</td>\n",
       "      <td>0.0</td>\n",
       "      <td>0.0</td>\n",
       "      <td>0.0</td>\n",
       "      <td>0.0</td>\n",
       "    </tr>\n",
       "    <tr>\n",
       "      <th>41796</th>\n",
       "      <td>0.0</td>\n",
       "      <td>0.0</td>\n",
       "      <td>0.0</td>\n",
       "      <td>0.0</td>\n",
       "      <td>0.0</td>\n",
       "      <td>0.053037</td>\n",
       "      <td>0.0</td>\n",
       "      <td>0.0</td>\n",
       "      <td>20.0</td>\n",
       "      <td>0.059142</td>\n",
       "      <td>...</td>\n",
       "      <td>0.0</td>\n",
       "      <td>0.0</td>\n",
       "      <td>1.0</td>\n",
       "      <td>0.0</td>\n",
       "      <td>0.0</td>\n",
       "      <td>0.0</td>\n",
       "      <td>0.0</td>\n",
       "      <td>1.0</td>\n",
       "      <td>0.0</td>\n",
       "      <td>0.0</td>\n",
       "    </tr>\n",
       "    <tr>\n",
       "      <th>13895</th>\n",
       "      <td>0.0</td>\n",
       "      <td>0.0</td>\n",
       "      <td>0.0</td>\n",
       "      <td>0.0</td>\n",
       "      <td>0.0</td>\n",
       "      <td>0.053037</td>\n",
       "      <td>0.0</td>\n",
       "      <td>0.0</td>\n",
       "      <td>0.0</td>\n",
       "      <td>0.059142</td>\n",
       "      <td>...</td>\n",
       "      <td>0.0</td>\n",
       "      <td>0.0</td>\n",
       "      <td>0.0</td>\n",
       "      <td>0.0</td>\n",
       "      <td>0.0</td>\n",
       "      <td>0.0</td>\n",
       "      <td>0.0</td>\n",
       "      <td>1.0</td>\n",
       "      <td>0.0</td>\n",
       "      <td>0.0</td>\n",
       "    </tr>\n",
       "    <tr>\n",
       "      <th>30765</th>\n",
       "      <td>0.0</td>\n",
       "      <td>0.0</td>\n",
       "      <td>0.0</td>\n",
       "      <td>0.0</td>\n",
       "      <td>0.0</td>\n",
       "      <td>0.053037</td>\n",
       "      <td>0.0</td>\n",
       "      <td>0.0</td>\n",
       "      <td>0.0</td>\n",
       "      <td>0.059142</td>\n",
       "      <td>...</td>\n",
       "      <td>0.0</td>\n",
       "      <td>0.0</td>\n",
       "      <td>0.0</td>\n",
       "      <td>0.0</td>\n",
       "      <td>0.0</td>\n",
       "      <td>0.0</td>\n",
       "      <td>0.0</td>\n",
       "      <td>0.0</td>\n",
       "      <td>0.0</td>\n",
       "      <td>0.0</td>\n",
       "    </tr>\n",
       "  </tbody>\n",
       "</table>\n",
       "<p>10 rows × 41 columns</p>\n",
       "</div>"
      ],
      "text/plain": [
       "       DemoReqPg_CallClicks_evt_count  air_purifier_page_top  bounces  \\\n",
       "19330                             0.0                    0.0      0.0   \n",
       "12575                             0.0                    0.0      0.0   \n",
       "32536                             0.0                    0.0      0.0   \n",
       "39587                             0.0                    0.0      0.0   \n",
       "6573                              0.0                    0.0      1.0   \n",
       "6311                              0.0                    0.0      0.0   \n",
       "27926                             0.0                    0.0      0.0   \n",
       "41796                             0.0                    0.0      0.0   \n",
       "13895                             0.0                    0.0      0.0   \n",
       "30765                             0.0                    0.0      0.0   \n",
       "\n",
       "       checkout_page_top  contactus_top   country  \\\n",
       "19330                0.0            0.0  0.066912   \n",
       "12575                0.0            0.0  0.053037   \n",
       "32536                0.0            0.0  0.053037   \n",
       "39587                0.0            0.0  0.053037   \n",
       "6573                 0.0            0.0  0.053037   \n",
       "6311                 0.0            0.0  0.066912   \n",
       "27926                0.0            0.0  0.053037   \n",
       "41796                0.0            0.0  0.053037   \n",
       "13895                0.0            0.0  0.053037   \n",
       "30765                0.0            0.0  0.053037   \n",
       "\n",
       "       customer_service_amc_login_top  customer_service_request_login_top  \\\n",
       "19330                             0.0                                 0.0   \n",
       "12575                             0.0                                 0.0   \n",
       "32536                             0.0                                 0.0   \n",
       "39587                             0.0                                 0.0   \n",
       "6573                              0.0                                 0.0   \n",
       "6311                              0.0                                 0.0   \n",
       "27926                             0.0                                 0.0   \n",
       "41796                             0.0                                 0.0   \n",
       "13895                             0.0                                 0.0   \n",
       "30765                             0.0                                 0.0   \n",
       "\n",
       "       demo_page_top    device  ...  visited_customer_service_amc_login  \\\n",
       "19330            0.0  0.019085  ...                                 0.0   \n",
       "12575            0.0  0.019085  ...                                 0.0   \n",
       "32536            0.0  0.059142  ...                                 0.0   \n",
       "39587            1.0  0.059142  ...                                 0.0   \n",
       "6573             4.0  0.059142  ...                                 0.0   \n",
       "6311            12.0  0.059142  ...                                 0.0   \n",
       "27926           51.0  0.059142  ...                                 0.0   \n",
       "41796           20.0  0.059142  ...                                 0.0   \n",
       "13895            0.0  0.059142  ...                                 0.0   \n",
       "30765            0.0  0.059142  ...                                 0.0   \n",
       "\n",
       "       visited_customer_service_request_login  visited_demo_page  \\\n",
       "19330                                     0.0                0.0   \n",
       "12575                                     0.0                0.0   \n",
       "32536                                     0.0                0.0   \n",
       "39587                                     0.0                1.0   \n",
       "6573                                      0.0                1.0   \n",
       "6311                                      0.0                1.0   \n",
       "27926                                     0.0                1.0   \n",
       "41796                                     0.0                1.0   \n",
       "13895                                     0.0                0.0   \n",
       "30765                                     0.0                0.0   \n",
       "\n",
       "       visited_offer_page  visited_security_solutions_page  \\\n",
       "19330                 0.0                              0.0   \n",
       "12575                 0.0                              0.0   \n",
       "32536                 0.0                              0.0   \n",
       "39587                 0.0                              0.0   \n",
       "6573                  0.0                              0.0   \n",
       "6311                  0.0                              0.0   \n",
       "27926                 0.0                              0.0   \n",
       "41796                 0.0                              0.0   \n",
       "13895                 0.0                              0.0   \n",
       "30765                 0.0                              0.0   \n",
       "\n",
       "       visited_storelocator  visited_successbookdemo  \\\n",
       "19330                   0.0                      0.0   \n",
       "12575                   0.0                      0.0   \n",
       "32536                   0.0                      0.0   \n",
       "39587                   0.0                      0.0   \n",
       "6573                    0.0                      0.0   \n",
       "6311                    0.0                      0.0   \n",
       "27926                   0.0                      0.0   \n",
       "41796                   0.0                      0.0   \n",
       "13895                   0.0                      0.0   \n",
       "30765                   0.0                      0.0   \n",
       "\n",
       "       visited_vacuum_cleaner_page  visited_water_purifier_page  \\\n",
       "19330                          0.0                          1.0   \n",
       "12575                          0.0                          0.0   \n",
       "32536                          1.0                          0.0   \n",
       "39587                          0.0                          0.0   \n",
       "6573                           0.0                          1.0   \n",
       "6311                           0.0                          0.0   \n",
       "27926                          0.0                          0.0   \n",
       "41796                          1.0                          0.0   \n",
       "13895                          1.0                          0.0   \n",
       "30765                          0.0                          0.0   \n",
       "\n",
       "       water_purifier_page_top  \n",
       "19330                     15.0  \n",
       "12575                      0.0  \n",
       "32536                      0.0  \n",
       "39587                      0.0  \n",
       "6573                     336.0  \n",
       "6311                       0.0  \n",
       "27926                      0.0  \n",
       "41796                      0.0  \n",
       "13895                      0.0  \n",
       "30765                      0.0  \n",
       "\n",
       "[10 rows x 41 columns]"
      ]
     },
     "execution_count": 749,
     "metadata": {},
     "output_type": "execute_result"
    }
   ],
   "source": [
    "from category_encoders import TargetEncoder\n",
    "\n",
    "eureka_target = eureka_data\n",
    "\n",
    "x_features = list(eureka_target.columns)\n",
    "x_features.remove('converted')\n",
    "target_encoder = TargetEncoder(cols=cat_vars, min_samples_leaf=100, smoothing=1000.0)\n",
    "target_encoder.fit(eureka_target[x_features], eureka_target.converted)\n",
    "\n",
    "eureka_target_encoded = target_encoder.transform(eureka_target[x_features])\n",
    "eureka_target_encoded.sample(10, random_state = 45)"
   ]
  },
  {
   "cell_type": "code",
   "execution_count": 750,
   "id": "d9f396d8",
   "metadata": {},
   "outputs": [
    {
     "name": "stdout",
     "output_type": "stream",
     "text": [
      "(29584, 41) (29584,)\n",
      "(12680, 41) (12680,)\n"
     ]
    }
   ],
   "source": [
    "#Splitting the data in 70:30 ratio\n",
    "features=eureka_target.drop('converted',axis=1)\n",
    "Y=eureka_target['converted']\n",
    "from sklearn.model_selection import train_test_split\n",
    "X_train, X_test, y_train, y_test = train_test_split(features,Y, test_size=0.3)\n",
    "print (X_train.shape, y_train.shape)\n",
    "print (X_test.shape, y_test.shape)"
   ]
  },
  {
   "cell_type": "markdown",
   "id": "2730dbbd",
   "metadata": {},
   "source": [
    "#Experiment  with Logistic Regression and Target Encoding in a pipeline"
   ]
  },
  {
   "cell_type": "code",
   "execution_count": 751,
   "id": "611e191a",
   "metadata": {},
   "outputs": [
    {
     "name": "stdout",
     "output_type": "stream",
     "text": [
      "Accuracy Score : 0.9475552050473186\n",
      "Precision Score : 0.5\n",
      "Recall Score : 0.007518796992481203\n",
      "F1 Score : 0.014814814814814812\n",
      "Confusion Matrix : [[12010     5]\n",
      " [  660     5]]\n"
     ]
    }
   ],
   "source": [
    "#Grid Search\n",
    "\n",
    "clf = LogisticRegression()\n",
    "grid_values = {'penalty': ['l1', 'l2'],'C':[0.001,.009,0.01,.09,1,5,10,25]}\n",
    "#grid_clf_acc = GridSearchCV(clf, param_grid = grid_values,scoring = 'recall')\n",
    "\n",
    "grid_clf_acc = Pipeline(steps=[('preprocessor', preprocessor), \n",
    "                      ('Logistic Classifer',  GridSearchCV(clf, param_grid = grid_values,scoring = 'accuracy')) ]) \n",
    "\n",
    "clf_mdl_target= grid_clf_acc.fit(X_train, y_train)\n",
    "\n",
    "#Predict values based on new parameters\n",
    "y_pred_acc = clf_mdl_target.predict(X_test)\n",
    "\n",
    "# New Model Evaluation metrics \n",
    "print('Accuracy Score : ' + str(accuracy_score(y_test,y_pred_acc)))\n",
    "print('Precision Score : ' + str(precision_score(y_test,y_pred_acc)))\n",
    "print('Recall Score : ' + str(recall_score(y_test,y_pred_acc)))\n",
    "print('F1 Score : ' + str(f1_score(y_test,y_pred_acc)))\n",
    "\n",
    "#Logistic Regression (Grid Search) Confusion matrix\n",
    "print('Confusion Matrix :'  ,confusion_matrix(y_test,y_pred_acc))\n",
    "\n"
   ]
  },
  {
   "cell_type": "code",
   "execution_count": 752,
   "id": "ebdbe08e",
   "metadata": {},
   "outputs": [
    {
     "name": "stdout",
     "output_type": "stream",
     "text": [
      "[0.63324397 0.63181412 0.63967828 0.62269884 0.63842717 0.62949062\n",
      " 0.64086521 0.62531284 0.63085449 0.62584912]\n",
      "0.6318234652664685\n",
      "0.00597326667119001\n",
      "0.6236657682896165\n"
     ]
    }
   ],
   "source": [
    "scores = cross_val_score( clf_mdl_target,\n",
    "                          x_smote,\n",
    "                          y_smote,\n",
    "                          cv = 10,\n",
    "                          scoring = 'accuracy')\n",
    "print(scores)\n",
    "print(scores.mean())\n",
    "print(scores.std())\n",
    "print(np.sqrt(mean_squared_error(y_test, clf_mdl.predict(X_test))))\n",
    "\n",
    "dict = {}\n",
    "dict = {'Model' : 'Logistics Regression Target','Accuray Score' : str(accuracy_score(y1_test,y_pred_acc)) , 'Precision Score' :   str(precision_score(y1_test,y_pred_acc)),\n",
    "       'Recall Score' :   str(recall_score(y1_test,y_pred_acc)), 'F1 Score' :   str(f1_score(y1_test,y_pred_acc)) ,'Score' : scores,' Mean': scores.mean(),\n",
    "       'Std Dev' : scores.std(),'Sqrt Mean' : np.sqrt(mean_squared_error(y_test, clf_mdl.predict(X_test))) }\n",
    " \n",
    "df_target_score = pd.DataFrame()\n",
    "df_target_score= df_target_score.append(dict,ignore_index=True)  "
   ]
  },
  {
   "cell_type": "markdown",
   "id": "fcd8ad33",
   "metadata": {},
   "source": [
    "#Experiment  with Random Forest and Target Encoding in a pipeline"
   ]
  },
  {
   "cell_type": "code",
   "execution_count": 753,
   "id": "edeffd1b",
   "metadata": {},
   "outputs": [
    {
     "name": "stdout",
     "output_type": "stream",
     "text": [
      "Fitting 3 folds for each of 5 candidates, totalling 15 fits\n",
      "Accuracy Score : 0.9473186119873817\n",
      "Precision Score : 0.2\n",
      "Recall Score : 0.0015037593984962407\n",
      "F1 Score : 0.002985074626865672\n",
      "Confusion Matrix : [[12011     4]\n",
      " [  664     1]]\n"
     ]
    }
   ],
   "source": [
    "# search across 100 different combinations, and use all available cores\n",
    "n_estimators = [int(x) for x in np.linspace(start = 200, stop = 2000, num = 10)]\n",
    "# Number of features to consider at every split\n",
    "max_features = ['auto', 'sqrt']\n",
    "# Maximum number of levels in tree\n",
    "max_depth = [int(x) for x in np.linspace(10, 110, num = 11)]\n",
    "max_depth.append(None)\n",
    "# Minimum number of samples required to split a node\n",
    "min_samples_split = [2, 5, 10]\n",
    "# Minimum number of samples required at each leaf node\n",
    "min_samples_leaf = [1, 2, 4]\n",
    "# Method of selecting samples for training each tree\n",
    "bootstrap = [True, False]\n",
    "# Create the random grid\n",
    "random_grid = {'n_estimators': n_estimators,\n",
    "               'max_features': max_features,\n",
    "               'max_depth': max_depth,\n",
    "               'min_samples_split': min_samples_split,\n",
    "               'min_samples_leaf': min_samples_leaf,\n",
    "               'bootstrap': bootstrap}\n",
    "\n",
    "rf = RandomForestClassifier(random_state = 42)\n",
    "\n",
    "rf_random = Pipeline(steps=[('preprocessor', preprocessor), \n",
    "                      ('Random Classifer',  RandomizedSearchCV(estimator = rf, param_distributions = random_grid, n_iter = 5, cv = 3, verbose=2, random_state=42, n_jobs = -1)) ]) \n",
    "\n",
    "#rf_random = RandomizedSearchCV(estimator = rf, param_distributions = random_grid, n_iter = 5, cv = 3, verbose=2, random_state=42, n_jobs = -1)\n",
    "# Fit the random search model\n",
    "rf_random_mdl_target = rf_random.fit(X_train, y_train)\n",
    "#Predict values based on new parameters\n",
    "y_pred_acc = rf_random_mdl_target.predict(X_test)\n",
    "# New Model Evaluation metrics \n",
    "print('Accuracy Score : ' + str(accuracy_score(y_test,y_pred_acc)))\n",
    "print('Precision Score : ' + str(precision_score(y_test,y_pred_acc)))\n",
    "print('Recall Score : ' + str(recall_score(y_test,y_pred_acc)))\n",
    "print('F1 Score : ' + str(f1_score(y_test,y_pred_acc)))\n",
    "\n",
    "#Random Forest (Grid Search) Confusion matrix\n",
    "print('Confusion Matrix :'  ,confusion_matrix(y_test,y_pred_acc))\n",
    "\n",
    "dict = {'Model' : 'Random Forest','Accuray Score' : str(accuracy_score(y_test,y_pred_acc)) , 'Precision Score' :   str(precision_score(y_test,y_pred_acc)),\n",
    "       'Recall Score' :   str(recall_score(y_test,y_pred_acc)), 'F1 Score' :   str(f1_score(y_test,y_pred_acc)) }\n",
    " \n",
    "\n",
    "df_target_score= df_target_score.append(dict,ignore_index=True)  "
   ]
  },
  {
   "cell_type": "code",
   "execution_count": 754,
   "id": "4c61b28b",
   "metadata": {},
   "outputs": [
    {
     "name": "stdout",
     "output_type": "stream",
     "text": [
      "Fitting 3 folds for each of 5 candidates, totalling 15 fits\n",
      "Fitting 3 folds for each of 5 candidates, totalling 15 fits\n",
      "Fitting 3 folds for each of 5 candidates, totalling 15 fits\n",
      "Fitting 3 folds for each of 5 candidates, totalling 15 fits\n",
      "Fitting 3 folds for each of 5 candidates, totalling 15 fits\n",
      "Fitting 3 folds for each of 5 candidates, totalling 15 fits\n",
      "Fitting 3 folds for each of 5 candidates, totalling 15 fits\n",
      "Fitting 3 folds for each of 5 candidates, totalling 15 fits\n",
      "Fitting 3 folds for each of 5 candidates, totalling 15 fits\n",
      "Fitting 3 folds for each of 5 candidates, totalling 15 fits\n",
      "[0.769437   0.97050938 0.96925827 0.96979446 0.97247542 0.97211796\n",
      " 0.97032535 0.96639256 0.97693958 0.97139793]\n",
      "0.9508647909815284\n",
      "0.06052987078616173\n",
      "0.6236657682896165\n"
     ]
    }
   ],
   "source": [
    "scores = cross_val_score( rf_random_mdl_target,\n",
    "                          x_smote,\n",
    "                          y_smote,\n",
    "                          cv = 10,\n",
    "                          scoring = 'accuracy')\n",
    "print(scores)\n",
    "print(scores.mean())\n",
    "print(scores.std())\n",
    "print(np.sqrt(mean_squared_error(y_test, clf_mdl.predict(X_test))))\n",
    "\n",
    "dict = {}\n",
    "dict = {'Model' : 'Random Forest Target','Accuray Score' : str(accuracy_score(y1_test,y_pred_acc)) , 'Precision Score' :   str(precision_score(y1_test,y_pred_acc)),\n",
    "       'Recall Score' :   str(recall_score(y1_test,y_pred_acc)), 'F1 Score' :   str(f1_score(y1_test,y_pred_acc)) ,'Score' : scores,' Mean': scores.mean(),\n",
    "       'Std Dev' : scores.std(),'Sqrt Mean' : np.sqrt(mean_squared_error(y_test, clf_mdl.predict(X_test))) }\n",
    " \n",
    "\n",
    "df_target_score= df_target_score.append(dict,ignore_index=True)  "
   ]
  },
  {
   "cell_type": "code",
   "execution_count": null,
   "id": "d6c455ca",
   "metadata": {},
   "outputs": [],
   "source": [
    "#Experiment  with Decision Tree and Target Encoding in a pipeline"
   ]
  },
  {
   "cell_type": "code",
   "execution_count": 761,
   "id": "75d64bc6",
   "metadata": {},
   "outputs": [
    {
     "name": "stdout",
     "output_type": "stream",
     "text": [
      "Fitting 4 folds for each of 50 candidates, totalling 200 fits\n",
      "DTREE:               precision    recall  f1-score   support\n",
      "\n",
      "           0       1.00      0.95      0.97     12680\n",
      "           1       0.00      0.00      0.00         0\n",
      "\n",
      "    accuracy                           0.95     12680\n",
      "   macro avg       0.50      0.47      0.49     12680\n",
      "weighted avg       1.00      0.95      0.97     12680\n",
      " [[12015     0]\n",
      " [  665     0]]\n",
      "Accuracy Score is  : 0.9475552050473186\n",
      "Precision Score : 0.2\n",
      "Recall Score : 0.0015037593984962407\n",
      "F1 Score : 0.002985074626865672\n",
      "Confusion Matrix : [[12011     4]\n",
      " [  664     1]]\n"
     ]
    }
   ],
   "source": [
    "Desclassifier= Pipeline(steps=[('preprocessor', preprocessor), \n",
    "                      ('DecisionTree Classifer',  GridSearchCV(cv=4, estimator=DecisionTreeClassifier(random_state=42), n_jobs=-1,\n",
    "             param_grid={'criterion': ['gini', 'entropy'],\n",
    "                         'max_depth': [2, 3, 5, 10, 20],\n",
    "                         'min_samples_leaf': [5, 10, 20, 50, 100]},\n",
    "             scoring='accuracy', verbose=1)) ]) \n",
    "\n",
    "destree_mdl_target = Desclassifier.fit(X_train,y_train)\n",
    "y_preddtree = destree_mdl_target.predict(X_test)\n",
    "print(\"DTREE:\",classification_report(y_preddtree,y_test),confusion_matrix(y_test, y_preddtree))\n",
    "print('Accuracy Score is  :' ,Desclassifier.score(X_test,y_test))\n",
    "print('Precision Score : ' + str(precision_score(y_test,y_pred_acc)))\n",
    "print('Recall Score : ' + str(recall_score(y_test,y_pred_acc)))\n",
    "print('F1 Score : ' + str(f1_score(y_test,y_pred_acc)))\n",
    "\n",
    "#Random Forest (Grid Search) Confusion matrix\n",
    "print('Confusion Matrix :'  ,confusion_matrix(y_test,y_pred_acc))"
   ]
  },
  {
   "cell_type": "code",
   "execution_count": 762,
   "id": "dc33984c",
   "metadata": {},
   "outputs": [
    {
     "name": "stdout",
     "output_type": "stream",
     "text": [
      "Fitting 4 folds for each of 50 candidates, totalling 200 fits\n",
      "Fitting 4 folds for each of 50 candidates, totalling 200 fits\n",
      "Fitting 4 folds for each of 50 candidates, totalling 200 fits\n",
      "Fitting 4 folds for each of 50 candidates, totalling 200 fits\n",
      "Fitting 4 folds for each of 50 candidates, totalling 200 fits\n",
      "Fitting 4 folds for each of 50 candidates, totalling 200 fits\n",
      "Fitting 4 folds for each of 50 candidates, totalling 200 fits\n",
      "Fitting 4 folds for each of 50 candidates, totalling 200 fits\n",
      "Fitting 4 folds for each of 50 candidates, totalling 200 fits\n",
      "Fitting 4 folds for each of 50 candidates, totalling 200 fits\n",
      "[0.74262735 0.95084897 0.9510277  0.93976765 0.9510277  0.95031278\n",
      " 0.94958885 0.94494101 0.94386843 0.94404719]\n",
      "0.9268057631005773\n",
      "0.06150619307126824\n",
      "0.6236657682896165\n"
     ]
    }
   ],
   "source": [
    "scores = cross_val_score( destree_mdl_target,\n",
    "                          x_smote,\n",
    "                          y_smote,\n",
    "                          cv = 10)\n",
    "print(scores)\n",
    "print(scores.mean())\n",
    "print(scores.std())\n",
    "print(np.sqrt(mean_squared_error(y_test, clf_mdl.predict(X_test))))\n",
    "\n",
    "dict = {}\n",
    "dict = {'Model' : 'Decision Tree Target','Accuray Score' : str(accuracy_score(y1_test,y_pred_acc)) , 'Precision Score' :   str(precision_score(y1_test,y_pred_acc)),\n",
    "       'Recall Score' :   str(recall_score(y1_test,y_pred_acc)), 'F1 Score' :   str(f1_score(y1_test,y_pred_acc)) ,'Score' : scores,' Mean': scores.mean(),\n",
    "       'Std Dev' : scores.std(),'Sqrt Mean' : np.sqrt(mean_squared_error(y_test, clf_mdl.predict(X_test))) }\n",
    " \n",
    "\n",
    "df_target_score= df_target_score.append(dict,ignore_index=True)  "
   ]
  },
  {
   "cell_type": "markdown",
   "id": "0b51ed34",
   "metadata": {},
   "source": [
    "#Experiment  with XGBOOSTER and Target Encoding in a pipeline"
   ]
  },
  {
   "cell_type": "code",
   "execution_count": 763,
   "id": "76028233",
   "metadata": {},
   "outputs": [
    {
     "name": "stdout",
     "output_type": "stream",
     "text": [
      "Fitting 5 folds for each of 5 candidates, totalling 25 fits\n",
      "[20:41:23] WARNING: C:/Users/Administrator/workspace/xgboost-win64_release_1.5.1/src/learner.cc:1115: Starting in XGBoost 1.3.0, the default evaluation metric used with the objective 'binary:logistic' was changed from 'error' to 'logloss'. Explicitly set eval_metric if you'd like to restore the old behavior.\n",
      "Accuracy Score : 0.9471608832807571\n",
      "Precision Score : 0.35294117647058826\n",
      "Recall Score : 0.009022556390977444\n",
      "F1 Score : 0.017595307917888565\n",
      "Confusion Matrix : [[12004    11]\n",
      " [  659     6]]\n"
     ]
    }
   ],
   "source": [
    "#XGBOOSTER\n",
    "## Hyper Parameter Optimization\n",
    "\n",
    "params={\n",
    " \"learning_rate\"    : [0.05, 0.10, 0.15, 0.20, 0.25, 0.30 ] ,\n",
    " \"max_depth\"        : [ 3, 4, 5, 6, 8, 10, 12, 15],\n",
    " \"min_child_weight\" : [ 1, 3, 5, 7 ],\n",
    " \"gamma\"            : [ 0.0, 0.1, 0.2 , 0.3, 0.4 ],\n",
    " \"colsample_bytree\" : [ 0.3, 0.4, 0.5 , 0.7 ]\n",
    "    \n",
    "}\n",
    "\n",
    "classifier = XGBClassifier()\n",
    "\n",
    "xgb_search = Pipeline(steps=[('preprocessor', preprocessor), \n",
    "                      ('XGBOOST Classifer',  RandomizedSearchCV(classifier, param_distributions=params, n_iter=5, scoring='roc_auc', n_jobs=-1, cv=5, verbose=3) ) ]) \n",
    "\n",
    "xg_random_target = xgb_search.fit(X_train,y_train)\n",
    "y_pred_acc = xg_random_target.predict(X_test)\n",
    "# New Model Evaluation metrics \n",
    "print('Accuracy Score : ' + str(accuracy_score(y_test,y_pred_acc)))\n",
    "print('Precision Score : ' + str(precision_score(y_test,y_pred_acc)))\n",
    "print('Recall Score : ' + str(recall_score(y_test,y_pred_acc)))\n",
    "print('F1 Score : ' + str(f1_score(y_test,y_pred_acc)))\n",
    "\n",
    "#Random Forest (Grid Search) Confusion matrix\n",
    "print('Confusion Matrix :'  ,confusion_matrix(y_test,y_pred_acc))                   "
   ]
  },
  {
   "cell_type": "code",
   "execution_count": 764,
   "id": "70125cc8",
   "metadata": {},
   "outputs": [
    {
     "name": "stdout",
     "output_type": "stream",
     "text": [
      "Fitting 5 folds for each of 5 candidates, totalling 25 fits\n",
      "[20:41:47] WARNING: C:/Users/Administrator/workspace/xgboost-win64_release_1.5.1/src/learner.cc:1115: Starting in XGBoost 1.3.0, the default evaluation metric used with the objective 'binary:logistic' was changed from 'error' to 'logloss'. Explicitly set eval_metric if you'd like to restore the old behavior.\n",
      "Fitting 5 folds for each of 5 candidates, totalling 25 fits\n",
      "[20:42:19] WARNING: C:/Users/Administrator/workspace/xgboost-win64_release_1.5.1/src/learner.cc:1115: Starting in XGBoost 1.3.0, the default evaluation metric used with the objective 'binary:logistic' was changed from 'error' to 'logloss'. Explicitly set eval_metric if you'd like to restore the old behavior.\n",
      "Fitting 5 folds for each of 5 candidates, totalling 25 fits\n",
      "[20:42:56] WARNING: C:/Users/Administrator/workspace/xgboost-win64_release_1.5.1/src/learner.cc:1115: Starting in XGBoost 1.3.0, the default evaluation metric used with the objective 'binary:logistic' was changed from 'error' to 'logloss'. Explicitly set eval_metric if you'd like to restore the old behavior.\n",
      "Fitting 5 folds for each of 5 candidates, totalling 25 fits\n",
      "[20:43:20] WARNING: C:/Users/Administrator/workspace/xgboost-win64_release_1.5.1/src/learner.cc:1115: Starting in XGBoost 1.3.0, the default evaluation metric used with the objective 'binary:logistic' was changed from 'error' to 'logloss'. Explicitly set eval_metric if you'd like to restore the old behavior.\n",
      "Fitting 5 folds for each of 5 candidates, totalling 25 fits\n",
      "[20:43:43] WARNING: C:/Users/Administrator/workspace/xgboost-win64_release_1.5.1/src/learner.cc:1115: Starting in XGBoost 1.3.0, the default evaluation metric used with the objective 'binary:logistic' was changed from 'error' to 'logloss'. Explicitly set eval_metric if you'd like to restore the old behavior.\n",
      "Fitting 5 folds for each of 5 candidates, totalling 25 fits\n",
      "[20:44:25] WARNING: C:/Users/Administrator/workspace/xgboost-win64_release_1.5.1/src/learner.cc:1115: Starting in XGBoost 1.3.0, the default evaluation metric used with the objective 'binary:logistic' was changed from 'error' to 'logloss'. Explicitly set eval_metric if you'd like to restore the old behavior.\n",
      "Fitting 5 folds for each of 5 candidates, totalling 25 fits\n",
      "[20:45:02] WARNING: C:/Users/Administrator/workspace/xgboost-win64_release_1.5.1/src/learner.cc:1115: Starting in XGBoost 1.3.0, the default evaluation metric used with the objective 'binary:logistic' was changed from 'error' to 'logloss'. Explicitly set eval_metric if you'd like to restore the old behavior.\n",
      "Fitting 5 folds for each of 5 candidates, totalling 25 fits\n",
      "[20:45:42] WARNING: C:/Users/Administrator/workspace/xgboost-win64_release_1.5.1/src/learner.cc:1115: Starting in XGBoost 1.3.0, the default evaluation metric used with the objective 'binary:logistic' was changed from 'error' to 'logloss'. Explicitly set eval_metric if you'd like to restore the old behavior.\n",
      "Fitting 5 folds for each of 5 candidates, totalling 25 fits\n",
      "[20:46:12] WARNING: C:/Users/Administrator/workspace/xgboost-win64_release_1.5.1/src/learner.cc:1115: Starting in XGBoost 1.3.0, the default evaluation metric used with the objective 'binary:logistic' was changed from 'error' to 'logloss'. Explicitly set eval_metric if you'd like to restore the old behavior.\n",
      "Fitting 5 folds for each of 5 candidates, totalling 25 fits\n",
      "[20:46:36] WARNING: C:/Users/Administrator/workspace/xgboost-win64_release_1.5.1/src/learner.cc:1115: Starting in XGBoost 1.3.0, the default evaluation metric used with the objective 'binary:logistic' was changed from 'error' to 'logloss'. Explicitly set eval_metric if you'd like to restore the old behavior.\n",
      "[-0.09740844  0.9077748   0.91635388  0.88990169  0.87274352  0.88918677\n",
      "  0.89631748  0.87415088  0.85984984  0.87129067]\n",
      "0.7880161093666425\n",
      "0.29560571430117955\n",
      "0.6236657682896165\n"
     ]
    }
   ],
   "source": [
    "scores = cross_val_score( xg_random,\n",
    "                          x_smote,\n",
    "                          y_smote,\n",
    "                          cv = 10,\n",
    "                          scoring = 'r2')\n",
    "print(scores)\n",
    "print(scores.mean())\n",
    "print(scores.std())\n",
    "print(np.sqrt(mean_squared_error(y_test, clf_mdl.predict(X_test))))\n",
    "\n",
    "dict = {'Model' : 'XGBooster','Accuray Score' : str(accuracy_score(y1_test,y_pred_acc)) , 'Precision Score' :   str(precision_score(y1_test,y_pred_acc)),\n",
    "       'Recall Score' :   str(recall_score(y1_test,y_pred_acc)), 'F1 Score' :   str(f1_score(y1_test,y_pred_acc)) ,'Score' : scores,' Mean': scores.mean(),\n",
    "       'Std Dev' : scores.std(),'Sqrt Mean' : np.sqrt(mean_squared_error(y_test, clf_mdl.predict(X_test))) }\n",
    "df_score= df_score.append(dict,ignore_index=True) "
   ]
  },
  {
   "cell_type": "markdown",
   "id": "c8dc90b1",
   "metadata": {},
   "source": [
    "Conclusion \n",
    "\n",
    ":- From the above models. We have few observayions \n",
    "- In most of the models test data accuracy is more than train data accuracy\n",
    "- On applying K-fold validations accuracy for all the models are increased\n",
    "- As the business is looking for high precision score would recommend business Logistic regression model with Target Encoding and can even look for XGBooster with Target Encoding \n",
    "- However, On applying feature selection measures significant improvement in precision can be seen\n",
    "- For different feature selection measures different features popped up with higher influence\n",
    "\n",
    "Lessons Learned:\n",
    "- While buildimg models one model building is not enough we need to build multiple relevant models and check the outputs from various aspects\n",
    "- Same model when run on different sets of data provide almost similar accuracy if not there should be some issue with the model\n",
    "- Domain knowledge is also necessary \n",
    "\n",
    "\n",
    "Thanks and Regards \n",
    "Group 19 "
   ]
  }
 ],
 "metadata": {
  "kernelspec": {
   "display_name": "Python 3",
   "language": "python",
   "name": "python3"
  },
  "language_info": {
   "codemirror_mode": {
    "name": "ipython",
    "version": 3
   },
   "file_extension": ".py",
   "mimetype": "text/x-python",
   "name": "python",
   "nbconvert_exporter": "python",
   "pygments_lexer": "ipython3",
   "version": "3.8.8"
  }
 },
 "nbformat": 4,
 "nbformat_minor": 5
}
